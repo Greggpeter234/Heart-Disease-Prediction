{
  "cells": [
    {
      "cell_type": "markdown",
      "metadata": {},
      "source": [
        "# HEART DISEASE PREDICTION\n"
      ]
    },
    {
      "cell_type": "markdown",
      "metadata": {},
      "source": [
        "#### 1. lMPORT REQUIRED LIBRARIES"
      ]
    },
    {
      "cell_type": "markdown",
      "metadata": {},
      "source": [
        "Load Required Libraries"
      ]
    },
    {
      "cell_type": "code",
      "execution_count": 313,
      "metadata": {},
      "outputs": [],
      "source": [
        "# import useful libraries from installed packages\n",
        "\n",
        "import numpy as np\n",
        "import pandas as pd \n",
        "import matplotlib.pyplot as plt\n",
        "import seaborn as sns\n",
        "import plotly.express as px\n",
        "import plotly.graph_objects as go   \n",
        "import plotly.io as pio\n",
        "pio.renderers.default = \"browser\"  # Set default renderer to browser\n",
        "from sklearn.model_selection import train_test_split\n",
        "from sklearn.preprocessing import StandardScaler, LabelEncoder\n",
        "from sklearn.metrics import accuracy_score, confusion_matrix, classification_report\n",
        "# Set default style for seaborn\n",
        "sns.set(style=\"whitegrid\")\n"
      ]
    },
    {
      "cell_type": "markdown",
      "metadata": {},
      "source": [
        "#### 2 DATA INVESTIGATION"
      ]
    },
    {
      "cell_type": "markdown",
      "metadata": {},
      "source": [
        " Extraction, Transform and Load The Datasets"
      ]
    },
    {
      "cell_type": "code",
      "execution_count": 314,
      "metadata": {},
      "outputs": [],
      "source": [
        "# Load datasets from CSV files into pandas DataFrames\n",
        "df = pd.read_csv(\"../datasets/heart_disease.csv\") \n",
        "# Load the second dataset into a DataFrame\n",
        "df2 = pd.read_csv(\"../datasets/heart_disease_integrated.csv\")"
      ]
    },
    {
      "cell_type": "markdown",
      "metadata": {},
      "source": [
        "#### 3. DATA EXPLORATION"
      ]
    },
    {
      "cell_type": "code",
      "execution_count": 315,
      "metadata": {},
      "outputs": [
        {
          "data": {
            "application/vnd.microsoft.datawrangler.viewer.v0+json": {
              "columns": [
                {
                  "name": "index",
                  "rawType": "int64",
                  "type": "integer"
                },
                {
                  "name": "age",
                  "rawType": "int64",
                  "type": "integer"
                },
                {
                  "name": "sex",
                  "rawType": "int64",
                  "type": "integer"
                },
                {
                  "name": "chest pain type",
                  "rawType": "int64",
                  "type": "integer"
                },
                {
                  "name": "resting bp s",
                  "rawType": "int64",
                  "type": "integer"
                },
                {
                  "name": "cholesterol",
                  "rawType": "int64",
                  "type": "integer"
                },
                {
                  "name": "fasting blood sugar",
                  "rawType": "int64",
                  "type": "integer"
                },
                {
                  "name": "resting ecg",
                  "rawType": "int64",
                  "type": "integer"
                },
                {
                  "name": "max heart rate",
                  "rawType": "int64",
                  "type": "integer"
                },
                {
                  "name": "exercise angina",
                  "rawType": "int64",
                  "type": "integer"
                },
                {
                  "name": "oldpeak",
                  "rawType": "float64",
                  "type": "float"
                },
                {
                  "name": "ST slope",
                  "rawType": "int64",
                  "type": "integer"
                },
                {
                  "name": "target",
                  "rawType": "int64",
                  "type": "integer"
                }
              ],
              "ref": "47ba806f-16bb-4417-b5a8-c8147b8c7301",
              "rows": [
                [
                  "0",
                  "40",
                  "1",
                  "2",
                  "140",
                  "289",
                  "0",
                  "0",
                  "172",
                  "0",
                  "0.0",
                  "1",
                  "0"
                ],
                [
                  "1",
                  "49",
                  "0",
                  "3",
                  "160",
                  "180",
                  "0",
                  "0",
                  "156",
                  "0",
                  "1.0",
                  "2",
                  "1"
                ],
                [
                  "2",
                  "37",
                  "1",
                  "2",
                  "130",
                  "283",
                  "0",
                  "1",
                  "98",
                  "0",
                  "0.0",
                  "1",
                  "0"
                ],
                [
                  "3",
                  "48",
                  "0",
                  "4",
                  "138",
                  "214",
                  "0",
                  "0",
                  "108",
                  "1",
                  "1.5",
                  "2",
                  "1"
                ],
                [
                  "4",
                  "54",
                  "1",
                  "3",
                  "150",
                  "195",
                  "0",
                  "0",
                  "122",
                  "0",
                  "0.0",
                  "1",
                  "0"
                ]
              ],
              "shape": {
                "columns": 12,
                "rows": 5
              }
            },
            "text/html": [
              "<div>\n",
              "<style scoped>\n",
              "    .dataframe tbody tr th:only-of-type {\n",
              "        vertical-align: middle;\n",
              "    }\n",
              "\n",
              "    .dataframe tbody tr th {\n",
              "        vertical-align: top;\n",
              "    }\n",
              "\n",
              "    .dataframe thead th {\n",
              "        text-align: right;\n",
              "    }\n",
              "</style>\n",
              "<table border=\"1\" class=\"dataframe\">\n",
              "  <thead>\n",
              "    <tr style=\"text-align: right;\">\n",
              "      <th></th>\n",
              "      <th>age</th>\n",
              "      <th>sex</th>\n",
              "      <th>chest pain type</th>\n",
              "      <th>resting bp s</th>\n",
              "      <th>cholesterol</th>\n",
              "      <th>fasting blood sugar</th>\n",
              "      <th>resting ecg</th>\n",
              "      <th>max heart rate</th>\n",
              "      <th>exercise angina</th>\n",
              "      <th>oldpeak</th>\n",
              "      <th>ST slope</th>\n",
              "      <th>target</th>\n",
              "    </tr>\n",
              "  </thead>\n",
              "  <tbody>\n",
              "    <tr>\n",
              "      <th>0</th>\n",
              "      <td>40</td>\n",
              "      <td>1</td>\n",
              "      <td>2</td>\n",
              "      <td>140</td>\n",
              "      <td>289</td>\n",
              "      <td>0</td>\n",
              "      <td>0</td>\n",
              "      <td>172</td>\n",
              "      <td>0</td>\n",
              "      <td>0.0</td>\n",
              "      <td>1</td>\n",
              "      <td>0</td>\n",
              "    </tr>\n",
              "    <tr>\n",
              "      <th>1</th>\n",
              "      <td>49</td>\n",
              "      <td>0</td>\n",
              "      <td>3</td>\n",
              "      <td>160</td>\n",
              "      <td>180</td>\n",
              "      <td>0</td>\n",
              "      <td>0</td>\n",
              "      <td>156</td>\n",
              "      <td>0</td>\n",
              "      <td>1.0</td>\n",
              "      <td>2</td>\n",
              "      <td>1</td>\n",
              "    </tr>\n",
              "    <tr>\n",
              "      <th>2</th>\n",
              "      <td>37</td>\n",
              "      <td>1</td>\n",
              "      <td>2</td>\n",
              "      <td>130</td>\n",
              "      <td>283</td>\n",
              "      <td>0</td>\n",
              "      <td>1</td>\n",
              "      <td>98</td>\n",
              "      <td>0</td>\n",
              "      <td>0.0</td>\n",
              "      <td>1</td>\n",
              "      <td>0</td>\n",
              "    </tr>\n",
              "    <tr>\n",
              "      <th>3</th>\n",
              "      <td>48</td>\n",
              "      <td>0</td>\n",
              "      <td>4</td>\n",
              "      <td>138</td>\n",
              "      <td>214</td>\n",
              "      <td>0</td>\n",
              "      <td>0</td>\n",
              "      <td>108</td>\n",
              "      <td>1</td>\n",
              "      <td>1.5</td>\n",
              "      <td>2</td>\n",
              "      <td>1</td>\n",
              "    </tr>\n",
              "    <tr>\n",
              "      <th>4</th>\n",
              "      <td>54</td>\n",
              "      <td>1</td>\n",
              "      <td>3</td>\n",
              "      <td>150</td>\n",
              "      <td>195</td>\n",
              "      <td>0</td>\n",
              "      <td>0</td>\n",
              "      <td>122</td>\n",
              "      <td>0</td>\n",
              "      <td>0.0</td>\n",
              "      <td>1</td>\n",
              "      <td>0</td>\n",
              "    </tr>\n",
              "  </tbody>\n",
              "</table>\n",
              "</div>"
            ],
            "text/plain": [
              "   age  sex  chest pain type  resting bp s  cholesterol  fasting blood sugar  \\\n",
              "0   40    1                2           140          289                    0   \n",
              "1   49    0                3           160          180                    0   \n",
              "2   37    1                2           130          283                    0   \n",
              "3   48    0                4           138          214                    0   \n",
              "4   54    1                3           150          195                    0   \n",
              "\n",
              "   resting ecg  max heart rate  exercise angina  oldpeak  ST slope  target  \n",
              "0            0             172                0      0.0         1       0  \n",
              "1            0             156                0      1.0         2       1  \n",
              "2            1              98                0      0.0         1       0  \n",
              "3            0             108                1      1.5         2       1  \n",
              "4            0             122                0      0.0         1       0  "
            ]
          },
          "execution_count": 315,
          "metadata": {},
          "output_type": "execute_result"
        }
      ],
      "source": [
        "# Display the first 5 rows of the DataFrame\n",
        "df.head()"
      ]
    },
    {
      "cell_type": "code",
      "execution_count": 316,
      "metadata": {},
      "outputs": [
        {
          "data": {
            "application/vnd.microsoft.datawrangler.viewer.v0+json": {
              "columns": [
                {
                  "name": "index",
                  "rawType": "int64",
                  "type": "integer"
                },
                {
                  "name": "age",
                  "rawType": "int64",
                  "type": "integer"
                },
                {
                  "name": "sex",
                  "rawType": "int64",
                  "type": "integer"
                },
                {
                  "name": "chest pain type",
                  "rawType": "int64",
                  "type": "integer"
                },
                {
                  "name": "resting bp s",
                  "rawType": "int64",
                  "type": "integer"
                },
                {
                  "name": "cholesterol",
                  "rawType": "int64",
                  "type": "integer"
                },
                {
                  "name": "fasting blood sugar",
                  "rawType": "int64",
                  "type": "integer"
                },
                {
                  "name": "resting ecg",
                  "rawType": "int64",
                  "type": "integer"
                },
                {
                  "name": "max heart rate",
                  "rawType": "int64",
                  "type": "integer"
                },
                {
                  "name": "exercise angina",
                  "rawType": "int64",
                  "type": "integer"
                },
                {
                  "name": "oldpeak",
                  "rawType": "float64",
                  "type": "float"
                },
                {
                  "name": "ST slope",
                  "rawType": "int64",
                  "type": "integer"
                },
                {
                  "name": "target",
                  "rawType": "int64",
                  "type": "integer"
                }
              ],
              "ref": "663f6fad-8563-489c-80f3-20a70e8102fe",
              "rows": [
                [
                  "1185",
                  "45",
                  "1",
                  "1",
                  "110",
                  "264",
                  "0",
                  "0",
                  "132",
                  "0",
                  "1.2",
                  "2",
                  "1"
                ],
                [
                  "1186",
                  "68",
                  "1",
                  "4",
                  "144",
                  "193",
                  "1",
                  "0",
                  "141",
                  "0",
                  "3.4",
                  "2",
                  "1"
                ],
                [
                  "1187",
                  "57",
                  "1",
                  "4",
                  "130",
                  "131",
                  "0",
                  "0",
                  "115",
                  "1",
                  "1.2",
                  "2",
                  "1"
                ],
                [
                  "1188",
                  "57",
                  "0",
                  "2",
                  "130",
                  "236",
                  "0",
                  "2",
                  "174",
                  "0",
                  "0.0",
                  "2",
                  "1"
                ],
                [
                  "1189",
                  "38",
                  "1",
                  "3",
                  "138",
                  "175",
                  "0",
                  "0",
                  "173",
                  "0",
                  "0.0",
                  "1",
                  "0"
                ]
              ],
              "shape": {
                "columns": 12,
                "rows": 5
              }
            },
            "text/html": [
              "<div>\n",
              "<style scoped>\n",
              "    .dataframe tbody tr th:only-of-type {\n",
              "        vertical-align: middle;\n",
              "    }\n",
              "\n",
              "    .dataframe tbody tr th {\n",
              "        vertical-align: top;\n",
              "    }\n",
              "\n",
              "    .dataframe thead th {\n",
              "        text-align: right;\n",
              "    }\n",
              "</style>\n",
              "<table border=\"1\" class=\"dataframe\">\n",
              "  <thead>\n",
              "    <tr style=\"text-align: right;\">\n",
              "      <th></th>\n",
              "      <th>age</th>\n",
              "      <th>sex</th>\n",
              "      <th>chest pain type</th>\n",
              "      <th>resting bp s</th>\n",
              "      <th>cholesterol</th>\n",
              "      <th>fasting blood sugar</th>\n",
              "      <th>resting ecg</th>\n",
              "      <th>max heart rate</th>\n",
              "      <th>exercise angina</th>\n",
              "      <th>oldpeak</th>\n",
              "      <th>ST slope</th>\n",
              "      <th>target</th>\n",
              "    </tr>\n",
              "  </thead>\n",
              "  <tbody>\n",
              "    <tr>\n",
              "      <th>1185</th>\n",
              "      <td>45</td>\n",
              "      <td>1</td>\n",
              "      <td>1</td>\n",
              "      <td>110</td>\n",
              "      <td>264</td>\n",
              "      <td>0</td>\n",
              "      <td>0</td>\n",
              "      <td>132</td>\n",
              "      <td>0</td>\n",
              "      <td>1.2</td>\n",
              "      <td>2</td>\n",
              "      <td>1</td>\n",
              "    </tr>\n",
              "    <tr>\n",
              "      <th>1186</th>\n",
              "      <td>68</td>\n",
              "      <td>1</td>\n",
              "      <td>4</td>\n",
              "      <td>144</td>\n",
              "      <td>193</td>\n",
              "      <td>1</td>\n",
              "      <td>0</td>\n",
              "      <td>141</td>\n",
              "      <td>0</td>\n",
              "      <td>3.4</td>\n",
              "      <td>2</td>\n",
              "      <td>1</td>\n",
              "    </tr>\n",
              "    <tr>\n",
              "      <th>1187</th>\n",
              "      <td>57</td>\n",
              "      <td>1</td>\n",
              "      <td>4</td>\n",
              "      <td>130</td>\n",
              "      <td>131</td>\n",
              "      <td>0</td>\n",
              "      <td>0</td>\n",
              "      <td>115</td>\n",
              "      <td>1</td>\n",
              "      <td>1.2</td>\n",
              "      <td>2</td>\n",
              "      <td>1</td>\n",
              "    </tr>\n",
              "    <tr>\n",
              "      <th>1188</th>\n",
              "      <td>57</td>\n",
              "      <td>0</td>\n",
              "      <td>2</td>\n",
              "      <td>130</td>\n",
              "      <td>236</td>\n",
              "      <td>0</td>\n",
              "      <td>2</td>\n",
              "      <td>174</td>\n",
              "      <td>0</td>\n",
              "      <td>0.0</td>\n",
              "      <td>2</td>\n",
              "      <td>1</td>\n",
              "    </tr>\n",
              "    <tr>\n",
              "      <th>1189</th>\n",
              "      <td>38</td>\n",
              "      <td>1</td>\n",
              "      <td>3</td>\n",
              "      <td>138</td>\n",
              "      <td>175</td>\n",
              "      <td>0</td>\n",
              "      <td>0</td>\n",
              "      <td>173</td>\n",
              "      <td>0</td>\n",
              "      <td>0.0</td>\n",
              "      <td>1</td>\n",
              "      <td>0</td>\n",
              "    </tr>\n",
              "  </tbody>\n",
              "</table>\n",
              "</div>"
            ],
            "text/plain": [
              "      age  sex  chest pain type  resting bp s  cholesterol  \\\n",
              "1185   45    1                1           110          264   \n",
              "1186   68    1                4           144          193   \n",
              "1187   57    1                4           130          131   \n",
              "1188   57    0                2           130          236   \n",
              "1189   38    1                3           138          175   \n",
              "\n",
              "      fasting blood sugar  resting ecg  max heart rate  exercise angina  \\\n",
              "1185                    0            0             132                0   \n",
              "1186                    1            0             141                0   \n",
              "1187                    0            0             115                1   \n",
              "1188                    0            2             174                0   \n",
              "1189                    0            0             173                0   \n",
              "\n",
              "      oldpeak  ST slope  target  \n",
              "1185      1.2         2       1  \n",
              "1186      3.4         2       1  \n",
              "1187      1.2         2       1  \n",
              "1188      0.0         2       1  \n",
              "1189      0.0         1       0  "
            ]
          },
          "execution_count": 316,
          "metadata": {},
          "output_type": "execute_result"
        }
      ],
      "source": [
        "df.tail()"
      ]
    },
    {
      "cell_type": "code",
      "execution_count": 317,
      "metadata": {},
      "outputs": [
        {
          "data": {
            "text/plain": [
              "(1190, 12)"
            ]
          },
          "execution_count": 317,
          "metadata": {},
          "output_type": "execute_result"
        }
      ],
      "source": [
        "# Displays the shape attribute of the DataFrame\n",
        "df.shape"
      ]
    },
    {
      "cell_type": "code",
      "execution_count": 318,
      "metadata": {},
      "outputs": [
        {
          "name": "stdout",
          "output_type": "stream",
          "text": [
            "<class 'pandas.core.frame.DataFrame'>\n",
            "RangeIndex: 1190 entries, 0 to 1189\n",
            "Data columns (total 12 columns):\n",
            " #   Column               Non-Null Count  Dtype  \n",
            "---  ------               --------------  -----  \n",
            " 0   age                  1190 non-null   int64  \n",
            " 1   sex                  1190 non-null   int64  \n",
            " 2   chest pain type      1190 non-null   int64  \n",
            " 3   resting bp s         1190 non-null   int64  \n",
            " 4   cholesterol          1190 non-null   int64  \n",
            " 5   fasting blood sugar  1190 non-null   int64  \n",
            " 6   resting ecg          1190 non-null   int64  \n",
            " 7   max heart rate       1190 non-null   int64  \n",
            " 8   exercise angina      1190 non-null   int64  \n",
            " 9   oldpeak              1190 non-null   float64\n",
            " 10  ST slope             1190 non-null   int64  \n",
            " 11  target               1190 non-null   int64  \n",
            "dtypes: float64(1), int64(11)\n",
            "memory usage: 111.7 KB\n"
          ]
        }
      ],
      "source": [
        "# Display concise summary of the DataFrame 'df'\n",
        "df.info()"
      ]
    },
    {
      "cell_type": "code",
      "execution_count": 319,
      "metadata": {},
      "outputs": [
        {
          "data": {
            "text/plain": [
              "Index(['age', 'sex', 'chest pain type', 'resting bp s', 'cholesterol',\n",
              "       'fasting blood sugar', 'resting ecg', 'max heart rate',\n",
              "       'exercise angina', 'oldpeak', 'ST slope', 'target'],\n",
              "      dtype='object')"
            ]
          },
          "execution_count": 319,
          "metadata": {},
          "output_type": "execute_result"
        }
      ],
      "source": [
        "# Display the columns of the DataFrame df\n",
        "df.columns"
      ]
    },
    {
      "cell_type": "code",
      "execution_count": 320,
      "metadata": {},
      "outputs": [
        {
          "data": {
            "application/vnd.microsoft.datawrangler.viewer.v0+json": {
              "columns": [
                {
                  "name": "index",
                  "rawType": "object",
                  "type": "string"
                },
                {
                  "name": "0",
                  "rawType": "object",
                  "type": "unknown"
                }
              ],
              "ref": "64aaaab6-aed8-4fb1-a8d3-977e06e0ca64",
              "rows": [
                [
                  "age",
                  "int64"
                ],
                [
                  "sex",
                  "int64"
                ],
                [
                  "chest pain type",
                  "int64"
                ],
                [
                  "resting bp s",
                  "int64"
                ],
                [
                  "cholesterol",
                  "int64"
                ],
                [
                  "fasting blood sugar",
                  "int64"
                ],
                [
                  "resting ecg",
                  "int64"
                ],
                [
                  "max heart rate",
                  "int64"
                ],
                [
                  "exercise angina",
                  "int64"
                ],
                [
                  "oldpeak",
                  "float64"
                ],
                [
                  "ST slope",
                  "int64"
                ],
                [
                  "target",
                  "int64"
                ]
              ],
              "shape": {
                "columns": 1,
                "rows": 12
              }
            },
            "text/plain": [
              "age                      int64\n",
              "sex                      int64\n",
              "chest pain type          int64\n",
              "resting bp s             int64\n",
              "cholesterol              int64\n",
              "fasting blood sugar      int64\n",
              "resting ecg              int64\n",
              "max heart rate           int64\n",
              "exercise angina          int64\n",
              "oldpeak                float64\n",
              "ST slope                 int64\n",
              "target                   int64\n",
              "dtype: object"
            ]
          },
          "execution_count": 320,
          "metadata": {},
          "output_type": "execute_result"
        }
      ],
      "source": [
        "# Explore datatypes of the columns in the DataFrame\n",
        "\n",
        "df.dtypes"
      ]
    },
    {
      "cell_type": "markdown",
      "metadata": {},
      "source": [
        "#### 5. EXPLORATORY DATA ANALYSIS"
      ]
    },
    {
      "cell_type": "markdown",
      "metadata": {},
      "source": [
        "I. EDA Using Y data profiling"
      ]
    },
    {
      "cell_type": "code",
      "execution_count": 321,
      "metadata": {},
      "outputs": [
        {
          "name": "stderr",
          "output_type": "stream",
          "text": [
            "Summarize dataset: 100%|██████████| 46/46 [00:04<00:00,  9.81it/s, Completed]                             \n",
            "Generate report structure: 100%|██████████| 1/1 [00:02<00:00,  2.28s/it]\n",
            "Render HTML: 100%|██████████| 1/1 [00:00<00:00,  1.56it/s]\n",
            "Export report to file: 100%|██████████| 1/1 [00:00<00:00, 74.96it/s]\n"
          ]
        }
      ],
      "source": [
        "# EDA using ydata profiling\n",
        "from ydata_profiling import ProfileReport\n",
        "profile = ProfileReport(df, title=\"Heart Disease Dataset Profiling Report\", explorative=True)\n",
        "profile.to_file(\"heart_disease_profiling_report.html\")  # Save the report to an HTML file\n"
      ]
    },
    {
      "cell_type": "markdown",
      "metadata": {},
      "source": [
        "II.  Basic Summary statistics"
      ]
    },
    {
      "cell_type": "code",
      "execution_count": 322,
      "metadata": {},
      "outputs": [
        {
          "data": {
            "application/vnd.microsoft.datawrangler.viewer.v0+json": {
              "columns": [
                {
                  "name": "index",
                  "rawType": "object",
                  "type": "string"
                },
                {
                  "name": "age",
                  "rawType": "float64",
                  "type": "float"
                },
                {
                  "name": "sex",
                  "rawType": "float64",
                  "type": "float"
                },
                {
                  "name": "chest pain type",
                  "rawType": "float64",
                  "type": "float"
                },
                {
                  "name": "resting bp s",
                  "rawType": "float64",
                  "type": "float"
                },
                {
                  "name": "cholesterol",
                  "rawType": "float64",
                  "type": "float"
                },
                {
                  "name": "fasting blood sugar",
                  "rawType": "float64",
                  "type": "float"
                },
                {
                  "name": "resting ecg",
                  "rawType": "float64",
                  "type": "float"
                },
                {
                  "name": "max heart rate",
                  "rawType": "float64",
                  "type": "float"
                },
                {
                  "name": "exercise angina",
                  "rawType": "float64",
                  "type": "float"
                },
                {
                  "name": "oldpeak",
                  "rawType": "float64",
                  "type": "float"
                },
                {
                  "name": "ST slope",
                  "rawType": "float64",
                  "type": "float"
                },
                {
                  "name": "target",
                  "rawType": "float64",
                  "type": "float"
                }
              ],
              "ref": "a9d299ea-7f96-4920-9052-53fcd02d02cd",
              "rows": [
                [
                  "count",
                  "1190.0",
                  "1190.0",
                  "1190.0",
                  "1190.0",
                  "1190.0",
                  "1190.0",
                  "1190.0",
                  "1190.0",
                  "1190.0",
                  "1190.0",
                  "1190.0",
                  "1190.0"
                ],
                [
                  "mean",
                  "53.72016806722689",
                  "0.7638655462184873",
                  "3.2327731092436975",
                  "132.15378151260504",
                  "210.36386554621848",
                  "0.2134453781512605",
                  "0.6983193277310924",
                  "139.7327731092437",
                  "0.3873949579831933",
                  "0.9227731092436974",
                  "1.6243697478991597",
                  "0.5285714285714286"
                ],
                [
                  "std",
                  "9.358202797635386",
                  "0.4248843096754764",
                  "0.9354803611453992",
                  "18.36882341526594",
                  "101.42048904518876",
                  "0.4099117568473306",
                  "0.8703588379852838",
                  "25.517635548982874",
                  "0.48735992951791174",
                  "1.0863372185219862",
                  "0.6104592139541628",
                  "0.4993928790311868"
                ],
                [
                  "min",
                  "28.0",
                  "0.0",
                  "1.0",
                  "0.0",
                  "0.0",
                  "0.0",
                  "0.0",
                  "60.0",
                  "0.0",
                  "-2.6",
                  "0.0",
                  "0.0"
                ],
                [
                  "25%",
                  "47.0",
                  "1.0",
                  "3.0",
                  "120.0",
                  "188.0",
                  "0.0",
                  "0.0",
                  "121.0",
                  "0.0",
                  "0.0",
                  "1.0",
                  "0.0"
                ],
                [
                  "50%",
                  "54.0",
                  "1.0",
                  "4.0",
                  "130.0",
                  "229.0",
                  "0.0",
                  "0.0",
                  "140.5",
                  "0.0",
                  "0.6",
                  "2.0",
                  "1.0"
                ],
                [
                  "75%",
                  "60.0",
                  "1.0",
                  "4.0",
                  "140.0",
                  "269.75",
                  "0.0",
                  "2.0",
                  "160.0",
                  "1.0",
                  "1.6",
                  "2.0",
                  "1.0"
                ],
                [
                  "max",
                  "77.0",
                  "1.0",
                  "4.0",
                  "200.0",
                  "603.0",
                  "1.0",
                  "2.0",
                  "202.0",
                  "1.0",
                  "6.2",
                  "3.0",
                  "1.0"
                ]
              ],
              "shape": {
                "columns": 12,
                "rows": 8
              }
            },
            "text/html": [
              "<div>\n",
              "<style scoped>\n",
              "    .dataframe tbody tr th:only-of-type {\n",
              "        vertical-align: middle;\n",
              "    }\n",
              "\n",
              "    .dataframe tbody tr th {\n",
              "        vertical-align: top;\n",
              "    }\n",
              "\n",
              "    .dataframe thead th {\n",
              "        text-align: right;\n",
              "    }\n",
              "</style>\n",
              "<table border=\"1\" class=\"dataframe\">\n",
              "  <thead>\n",
              "    <tr style=\"text-align: right;\">\n",
              "      <th></th>\n",
              "      <th>age</th>\n",
              "      <th>sex</th>\n",
              "      <th>chest pain type</th>\n",
              "      <th>resting bp s</th>\n",
              "      <th>cholesterol</th>\n",
              "      <th>fasting blood sugar</th>\n",
              "      <th>resting ecg</th>\n",
              "      <th>max heart rate</th>\n",
              "      <th>exercise angina</th>\n",
              "      <th>oldpeak</th>\n",
              "      <th>ST slope</th>\n",
              "      <th>target</th>\n",
              "    </tr>\n",
              "  </thead>\n",
              "  <tbody>\n",
              "    <tr>\n",
              "      <th>count</th>\n",
              "      <td>1190.000000</td>\n",
              "      <td>1190.000000</td>\n",
              "      <td>1190.000000</td>\n",
              "      <td>1190.000000</td>\n",
              "      <td>1190.000000</td>\n",
              "      <td>1190.000000</td>\n",
              "      <td>1190.000000</td>\n",
              "      <td>1190.000000</td>\n",
              "      <td>1190.000000</td>\n",
              "      <td>1190.000000</td>\n",
              "      <td>1190.000000</td>\n",
              "      <td>1190.000000</td>\n",
              "    </tr>\n",
              "    <tr>\n",
              "      <th>mean</th>\n",
              "      <td>53.720168</td>\n",
              "      <td>0.763866</td>\n",
              "      <td>3.232773</td>\n",
              "      <td>132.153782</td>\n",
              "      <td>210.363866</td>\n",
              "      <td>0.213445</td>\n",
              "      <td>0.698319</td>\n",
              "      <td>139.732773</td>\n",
              "      <td>0.387395</td>\n",
              "      <td>0.922773</td>\n",
              "      <td>1.624370</td>\n",
              "      <td>0.528571</td>\n",
              "    </tr>\n",
              "    <tr>\n",
              "      <th>std</th>\n",
              "      <td>9.358203</td>\n",
              "      <td>0.424884</td>\n",
              "      <td>0.935480</td>\n",
              "      <td>18.368823</td>\n",
              "      <td>101.420489</td>\n",
              "      <td>0.409912</td>\n",
              "      <td>0.870359</td>\n",
              "      <td>25.517636</td>\n",
              "      <td>0.487360</td>\n",
              "      <td>1.086337</td>\n",
              "      <td>0.610459</td>\n",
              "      <td>0.499393</td>\n",
              "    </tr>\n",
              "    <tr>\n",
              "      <th>min</th>\n",
              "      <td>28.000000</td>\n",
              "      <td>0.000000</td>\n",
              "      <td>1.000000</td>\n",
              "      <td>0.000000</td>\n",
              "      <td>0.000000</td>\n",
              "      <td>0.000000</td>\n",
              "      <td>0.000000</td>\n",
              "      <td>60.000000</td>\n",
              "      <td>0.000000</td>\n",
              "      <td>-2.600000</td>\n",
              "      <td>0.000000</td>\n",
              "      <td>0.000000</td>\n",
              "    </tr>\n",
              "    <tr>\n",
              "      <th>25%</th>\n",
              "      <td>47.000000</td>\n",
              "      <td>1.000000</td>\n",
              "      <td>3.000000</td>\n",
              "      <td>120.000000</td>\n",
              "      <td>188.000000</td>\n",
              "      <td>0.000000</td>\n",
              "      <td>0.000000</td>\n",
              "      <td>121.000000</td>\n",
              "      <td>0.000000</td>\n",
              "      <td>0.000000</td>\n",
              "      <td>1.000000</td>\n",
              "      <td>0.000000</td>\n",
              "    </tr>\n",
              "    <tr>\n",
              "      <th>50%</th>\n",
              "      <td>54.000000</td>\n",
              "      <td>1.000000</td>\n",
              "      <td>4.000000</td>\n",
              "      <td>130.000000</td>\n",
              "      <td>229.000000</td>\n",
              "      <td>0.000000</td>\n",
              "      <td>0.000000</td>\n",
              "      <td>140.500000</td>\n",
              "      <td>0.000000</td>\n",
              "      <td>0.600000</td>\n",
              "      <td>2.000000</td>\n",
              "      <td>1.000000</td>\n",
              "    </tr>\n",
              "    <tr>\n",
              "      <th>75%</th>\n",
              "      <td>60.000000</td>\n",
              "      <td>1.000000</td>\n",
              "      <td>4.000000</td>\n",
              "      <td>140.000000</td>\n",
              "      <td>269.750000</td>\n",
              "      <td>0.000000</td>\n",
              "      <td>2.000000</td>\n",
              "      <td>160.000000</td>\n",
              "      <td>1.000000</td>\n",
              "      <td>1.600000</td>\n",
              "      <td>2.000000</td>\n",
              "      <td>1.000000</td>\n",
              "    </tr>\n",
              "    <tr>\n",
              "      <th>max</th>\n",
              "      <td>77.000000</td>\n",
              "      <td>1.000000</td>\n",
              "      <td>4.000000</td>\n",
              "      <td>200.000000</td>\n",
              "      <td>603.000000</td>\n",
              "      <td>1.000000</td>\n",
              "      <td>2.000000</td>\n",
              "      <td>202.000000</td>\n",
              "      <td>1.000000</td>\n",
              "      <td>6.200000</td>\n",
              "      <td>3.000000</td>\n",
              "      <td>1.000000</td>\n",
              "    </tr>\n",
              "  </tbody>\n",
              "</table>\n",
              "</div>"
            ],
            "text/plain": [
              "               age          sex  chest pain type  resting bp s  cholesterol  \\\n",
              "count  1190.000000  1190.000000      1190.000000   1190.000000  1190.000000   \n",
              "mean     53.720168     0.763866         3.232773    132.153782   210.363866   \n",
              "std       9.358203     0.424884         0.935480     18.368823   101.420489   \n",
              "min      28.000000     0.000000         1.000000      0.000000     0.000000   \n",
              "25%      47.000000     1.000000         3.000000    120.000000   188.000000   \n",
              "50%      54.000000     1.000000         4.000000    130.000000   229.000000   \n",
              "75%      60.000000     1.000000         4.000000    140.000000   269.750000   \n",
              "max      77.000000     1.000000         4.000000    200.000000   603.000000   \n",
              "\n",
              "       fasting blood sugar  resting ecg  max heart rate  exercise angina  \\\n",
              "count          1190.000000  1190.000000     1190.000000      1190.000000   \n",
              "mean              0.213445     0.698319      139.732773         0.387395   \n",
              "std               0.409912     0.870359       25.517636         0.487360   \n",
              "min               0.000000     0.000000       60.000000         0.000000   \n",
              "25%               0.000000     0.000000      121.000000         0.000000   \n",
              "50%               0.000000     0.000000      140.500000         0.000000   \n",
              "75%               0.000000     2.000000      160.000000         1.000000   \n",
              "max               1.000000     2.000000      202.000000         1.000000   \n",
              "\n",
              "           oldpeak     ST slope       target  \n",
              "count  1190.000000  1190.000000  1190.000000  \n",
              "mean      0.922773     1.624370     0.528571  \n",
              "std       1.086337     0.610459     0.499393  \n",
              "min      -2.600000     0.000000     0.000000  \n",
              "25%       0.000000     1.000000     0.000000  \n",
              "50%       0.600000     2.000000     1.000000  \n",
              "75%       1.600000     2.000000     1.000000  \n",
              "max       6.200000     3.000000     1.000000  "
            ]
          },
          "execution_count": 322,
          "metadata": {},
          "output_type": "execute_result"
        }
      ],
      "source": [
        "# Display basic summary statistics of the DataFrame\n",
        "df.describe()"
      ]
    },
    {
      "cell_type": "code",
      "execution_count": 323,
      "metadata": {},
      "outputs": [
        {
          "ename": "ValueError",
          "evalue": "No objects to concatenate",
          "output_type": "error",
          "traceback": [
            "\u001b[31m---------------------------------------------------------------------------\u001b[39m",
            "\u001b[31mValueError\u001b[39m                                Traceback (most recent call last)",
            "\u001b[36mCell\u001b[39m\u001b[36m \u001b[39m\u001b[32mIn[323]\u001b[39m\u001b[32m, line 2\u001b[39m\n\u001b[32m      1\u001b[39m \u001b[38;5;66;03m# Include categorical columns in the summary statistics\u001b[39;00m\n\u001b[32m----> \u001b[39m\u001b[32m2\u001b[39m \u001b[43mdf\u001b[49m\u001b[43m.\u001b[49m\u001b[43mdescribe\u001b[49m\u001b[43m(\u001b[49m\u001b[43minclude\u001b[49m\u001b[43m=\u001b[49m\u001b[33;43m'\u001b[39;49m\u001b[33;43mcategory\u001b[39;49m\u001b[33;43m'\u001b[39;49m\u001b[43m)\u001b[49m\n",
            "\u001b[36mFile \u001b[39m\u001b[32mc:\\Users\\laptop\\Documents\\VS projects\\heart_disease_prediction\\venv\\Lib\\site-packages\\pandas\\core\\generic.py:11540\u001b[39m, in \u001b[36mNDFrame.describe\u001b[39m\u001b[34m(self, percentiles, include, exclude)\u001b[39m\n\u001b[32m  11298\u001b[39m \u001b[38;5;129m@final\u001b[39m\n\u001b[32m  11299\u001b[39m \u001b[38;5;28;01mdef\u001b[39;00m\u001b[38;5;250m \u001b[39m\u001b[34mdescribe\u001b[39m(\n\u001b[32m  11300\u001b[39m     \u001b[38;5;28mself\u001b[39m,\n\u001b[32m   (...)\u001b[39m\u001b[32m  11303\u001b[39m     exclude=\u001b[38;5;28;01mNone\u001b[39;00m,\n\u001b[32m  11304\u001b[39m ) -> Self:\n\u001b[32m  11305\u001b[39m \u001b[38;5;250m    \u001b[39m\u001b[33;03m\"\"\"\u001b[39;00m\n\u001b[32m  11306\u001b[39m \u001b[33;03m    Generate descriptive statistics.\u001b[39;00m\n\u001b[32m  11307\u001b[39m \n\u001b[32m   (...)\u001b[39m\u001b[32m  11538\u001b[39m \u001b[33;03m    max            NaN      3.0\u001b[39;00m\n\u001b[32m  11539\u001b[39m \u001b[33;03m    \"\"\"\u001b[39;00m\n\u001b[32m> \u001b[39m\u001b[32m11540\u001b[39m     \u001b[38;5;28;01mreturn\u001b[39;00m \u001b[43mdescribe_ndframe\u001b[49m\u001b[43m(\u001b[49m\n\u001b[32m  11541\u001b[39m \u001b[43m        \u001b[49m\u001b[43mobj\u001b[49m\u001b[43m=\u001b[49m\u001b[38;5;28;43mself\u001b[39;49m\u001b[43m,\u001b[49m\n\u001b[32m  11542\u001b[39m \u001b[43m        \u001b[49m\u001b[43minclude\u001b[49m\u001b[43m=\u001b[49m\u001b[43minclude\u001b[49m\u001b[43m,\u001b[49m\n\u001b[32m  11543\u001b[39m \u001b[43m        \u001b[49m\u001b[43mexclude\u001b[49m\u001b[43m=\u001b[49m\u001b[43mexclude\u001b[49m\u001b[43m,\u001b[49m\n\u001b[32m  11544\u001b[39m \u001b[43m        \u001b[49m\u001b[43mpercentiles\u001b[49m\u001b[43m=\u001b[49m\u001b[43mpercentiles\u001b[49m\u001b[43m,\u001b[49m\n\u001b[32m  11545\u001b[39m \u001b[43m    \u001b[49m\u001b[43m)\u001b[49m.__finalize__(\u001b[38;5;28mself\u001b[39m, method=\u001b[33m\"\u001b[39m\u001b[33mdescribe\u001b[39m\u001b[33m\"\u001b[39m)\n",
            "\u001b[36mFile \u001b[39m\u001b[32mc:\\Users\\laptop\\Documents\\VS projects\\heart_disease_prediction\\venv\\Lib\\site-packages\\pandas\\core\\methods\\describe.py:97\u001b[39m, in \u001b[36mdescribe_ndframe\u001b[39m\u001b[34m(obj, include, exclude, percentiles)\u001b[39m\n\u001b[32m     90\u001b[39m \u001b[38;5;28;01melse\u001b[39;00m:\n\u001b[32m     91\u001b[39m     describer = DataFrameDescriber(\n\u001b[32m     92\u001b[39m         obj=cast(\u001b[33m\"\u001b[39m\u001b[33mDataFrame\u001b[39m\u001b[33m\"\u001b[39m, obj),\n\u001b[32m     93\u001b[39m         include=include,\n\u001b[32m     94\u001b[39m         exclude=exclude,\n\u001b[32m     95\u001b[39m     )\n\u001b[32m---> \u001b[39m\u001b[32m97\u001b[39m result = \u001b[43mdescriber\u001b[49m\u001b[43m.\u001b[49m\u001b[43mdescribe\u001b[49m\u001b[43m(\u001b[49m\u001b[43mpercentiles\u001b[49m\u001b[43m=\u001b[49m\u001b[43mpercentiles\u001b[49m\u001b[43m)\u001b[49m\n\u001b[32m     98\u001b[39m \u001b[38;5;28;01mreturn\u001b[39;00m cast(NDFrameT, result)\n",
            "\u001b[36mFile \u001b[39m\u001b[32mc:\\Users\\laptop\\Documents\\VS projects\\heart_disease_prediction\\venv\\Lib\\site-packages\\pandas\\core\\methods\\describe.py:173\u001b[39m, in \u001b[36mDataFrameDescriber.describe\u001b[39m\u001b[34m(self, percentiles)\u001b[39m\n\u001b[32m    170\u001b[39m     ldesc.append(describe_func(series, percentiles))\n\u001b[32m    172\u001b[39m col_names = reorder_columns(ldesc)\n\u001b[32m--> \u001b[39m\u001b[32m173\u001b[39m d = \u001b[43mconcat\u001b[49m\u001b[43m(\u001b[49m\n\u001b[32m    174\u001b[39m \u001b[43m    \u001b[49m\u001b[43m[\u001b[49m\u001b[43mx\u001b[49m\u001b[43m.\u001b[49m\u001b[43mreindex\u001b[49m\u001b[43m(\u001b[49m\u001b[43mcol_names\u001b[49m\u001b[43m,\u001b[49m\u001b[43m \u001b[49m\u001b[43mcopy\u001b[49m\u001b[43m=\u001b[49m\u001b[38;5;28;43;01mFalse\u001b[39;49;00m\u001b[43m)\u001b[49m\u001b[43m \u001b[49m\u001b[38;5;28;43;01mfor\u001b[39;49;00m\u001b[43m \u001b[49m\u001b[43mx\u001b[49m\u001b[43m \u001b[49m\u001b[38;5;129;43;01min\u001b[39;49;00m\u001b[43m \u001b[49m\u001b[43mldesc\u001b[49m\u001b[43m]\u001b[49m\u001b[43m,\u001b[49m\n\u001b[32m    175\u001b[39m \u001b[43m    \u001b[49m\u001b[43maxis\u001b[49m\u001b[43m=\u001b[49m\u001b[32;43m1\u001b[39;49m\u001b[43m,\u001b[49m\n\u001b[32m    176\u001b[39m \u001b[43m    \u001b[49m\u001b[43msort\u001b[49m\u001b[43m=\u001b[49m\u001b[38;5;28;43;01mFalse\u001b[39;49;00m\u001b[43m,\u001b[49m\n\u001b[32m    177\u001b[39m \u001b[43m\u001b[49m\u001b[43m)\u001b[49m\n\u001b[32m    178\u001b[39m d.columns = data.columns.copy()\n\u001b[32m    179\u001b[39m \u001b[38;5;28;01mreturn\u001b[39;00m d\n",
            "\u001b[36mFile \u001b[39m\u001b[32mc:\\Users\\laptop\\Documents\\VS projects\\heart_disease_prediction\\venv\\Lib\\site-packages\\pandas\\core\\reshape\\concat.py:380\u001b[39m, in \u001b[36mconcat\u001b[39m\u001b[34m(objs, axis, join, ignore_index, keys, levels, names, verify_integrity, sort, copy)\u001b[39m\n\u001b[32m    377\u001b[39m \u001b[38;5;28;01melif\u001b[39;00m copy \u001b[38;5;129;01mand\u001b[39;00m using_copy_on_write():\n\u001b[32m    378\u001b[39m     copy = \u001b[38;5;28;01mFalse\u001b[39;00m\n\u001b[32m--> \u001b[39m\u001b[32m380\u001b[39m op = \u001b[43m_Concatenator\u001b[49m\u001b[43m(\u001b[49m\n\u001b[32m    381\u001b[39m \u001b[43m    \u001b[49m\u001b[43mobjs\u001b[49m\u001b[43m,\u001b[49m\n\u001b[32m    382\u001b[39m \u001b[43m    \u001b[49m\u001b[43maxis\u001b[49m\u001b[43m=\u001b[49m\u001b[43maxis\u001b[49m\u001b[43m,\u001b[49m\n\u001b[32m    383\u001b[39m \u001b[43m    \u001b[49m\u001b[43mignore_index\u001b[49m\u001b[43m=\u001b[49m\u001b[43mignore_index\u001b[49m\u001b[43m,\u001b[49m\n\u001b[32m    384\u001b[39m \u001b[43m    \u001b[49m\u001b[43mjoin\u001b[49m\u001b[43m=\u001b[49m\u001b[43mjoin\u001b[49m\u001b[43m,\u001b[49m\n\u001b[32m    385\u001b[39m \u001b[43m    \u001b[49m\u001b[43mkeys\u001b[49m\u001b[43m=\u001b[49m\u001b[43mkeys\u001b[49m\u001b[43m,\u001b[49m\n\u001b[32m    386\u001b[39m \u001b[43m    \u001b[49m\u001b[43mlevels\u001b[49m\u001b[43m=\u001b[49m\u001b[43mlevels\u001b[49m\u001b[43m,\u001b[49m\n\u001b[32m    387\u001b[39m \u001b[43m    \u001b[49m\u001b[43mnames\u001b[49m\u001b[43m=\u001b[49m\u001b[43mnames\u001b[49m\u001b[43m,\u001b[49m\n\u001b[32m    388\u001b[39m \u001b[43m    \u001b[49m\u001b[43mverify_integrity\u001b[49m\u001b[43m=\u001b[49m\u001b[43mverify_integrity\u001b[49m\u001b[43m,\u001b[49m\n\u001b[32m    389\u001b[39m \u001b[43m    \u001b[49m\u001b[43mcopy\u001b[49m\u001b[43m=\u001b[49m\u001b[43mcopy\u001b[49m\u001b[43m,\u001b[49m\n\u001b[32m    390\u001b[39m \u001b[43m    \u001b[49m\u001b[43msort\u001b[49m\u001b[43m=\u001b[49m\u001b[43msort\u001b[49m\u001b[43m,\u001b[49m\n\u001b[32m    391\u001b[39m \u001b[43m\u001b[49m\u001b[43m)\u001b[49m\n\u001b[32m    393\u001b[39m \u001b[38;5;28;01mreturn\u001b[39;00m op.get_result()\n",
            "\u001b[36mFile \u001b[39m\u001b[32mc:\\Users\\laptop\\Documents\\VS projects\\heart_disease_prediction\\venv\\Lib\\site-packages\\pandas\\core\\reshape\\concat.py:443\u001b[39m, in \u001b[36m_Concatenator.__init__\u001b[39m\u001b[34m(self, objs, axis, join, keys, levels, names, ignore_index, verify_integrity, copy, sort)\u001b[39m\n\u001b[32m    440\u001b[39m \u001b[38;5;28mself\u001b[39m.verify_integrity = verify_integrity\n\u001b[32m    441\u001b[39m \u001b[38;5;28mself\u001b[39m.copy = copy\n\u001b[32m--> \u001b[39m\u001b[32m443\u001b[39m objs, keys = \u001b[38;5;28;43mself\u001b[39;49m\u001b[43m.\u001b[49m\u001b[43m_clean_keys_and_objs\u001b[49m\u001b[43m(\u001b[49m\u001b[43mobjs\u001b[49m\u001b[43m,\u001b[49m\u001b[43m \u001b[49m\u001b[43mkeys\u001b[49m\u001b[43m)\u001b[49m\n\u001b[32m    445\u001b[39m \u001b[38;5;66;03m# figure out what our result ndim is going to be\u001b[39;00m\n\u001b[32m    446\u001b[39m ndims = \u001b[38;5;28mself\u001b[39m._get_ndims(objs)\n",
            "\u001b[36mFile \u001b[39m\u001b[32mc:\\Users\\laptop\\Documents\\VS projects\\heart_disease_prediction\\venv\\Lib\\site-packages\\pandas\\core\\reshape\\concat.py:505\u001b[39m, in \u001b[36m_Concatenator._clean_keys_and_objs\u001b[39m\u001b[34m(self, objs, keys)\u001b[39m\n\u001b[32m    502\u001b[39m     objs_list = \u001b[38;5;28mlist\u001b[39m(objs)\n\u001b[32m    504\u001b[39m \u001b[38;5;28;01mif\u001b[39;00m \u001b[38;5;28mlen\u001b[39m(objs_list) == \u001b[32m0\u001b[39m:\n\u001b[32m--> \u001b[39m\u001b[32m505\u001b[39m     \u001b[38;5;28;01mraise\u001b[39;00m \u001b[38;5;167;01mValueError\u001b[39;00m(\u001b[33m\"\u001b[39m\u001b[33mNo objects to concatenate\u001b[39m\u001b[33m\"\u001b[39m)\n\u001b[32m    507\u001b[39m \u001b[38;5;28;01mif\u001b[39;00m keys \u001b[38;5;129;01mis\u001b[39;00m \u001b[38;5;28;01mNone\u001b[39;00m:\n\u001b[32m    508\u001b[39m     objs_list = \u001b[38;5;28mlist\u001b[39m(com.not_none(*objs_list))\n",
            "\u001b[31mValueError\u001b[39m: No objects to concatenate"
          ]
        }
      ],
      "source": [
        "# Include categorical columns in the summary statistics\n",
        "df.describe(include='category')"
      ]
    },
    {
      "cell_type": "markdown",
      "metadata": {},
      "source": [
        "#### 6. DATA CLEANING AND NORMALISATION"
      ]
    },
    {
      "cell_type": "code",
      "execution_count": 326,
      "metadata": {},
      "outputs": [
        {
          "data": {
            "text/plain": [
              "Index(['age', 'sex', 'chest pain type', 'resting bp s', 'cholesterol',\n",
              "       'fasting blood sugar', 'resting ecg', 'max heart rate',\n",
              "       'exercise angina', 'oldpeak', 'ST slope', 'target'],\n",
              "      dtype='object')"
            ]
          },
          "execution_count": 326,
          "metadata": {},
          "output_type": "execute_result"
        }
      ],
      "source": [
        "# explore the columns in the DataFrame\n",
        "df.columns"
      ]
    },
    {
      "cell_type": "markdown",
      "metadata": {},
      "source": [
        "Rename Columns"
      ]
    },
    {
      "cell_type": "code",
      "execution_count": 327,
      "metadata": {},
      "outputs": [
        {
          "data": {
            "text/plain": [
              "Index(['age', 'sex', 'chest pain type', 'resting systolic bp', 'cholesterol',\n",
              "       'fasting blood sugar', 'resting ECG', 'max heart rate',\n",
              "       'exercise angina', 'ST depression', 'ST slope', 'target'],\n",
              "      dtype='object')"
            ]
          },
          "execution_count": 327,
          "metadata": {},
          "output_type": "execute_result"
        }
      ],
      "source": [
        "# rename the 'resting bp s' column to 'resting systolic'\n",
        "df.rename(columns={'resting bp s': 'resting systolic bp'}, inplace=True)\n",
        "# rename the oldpeak column to ST depression\n",
        "df.rename(columns={'oldpeak': 'ST depression'}, inplace=True)\n",
        "# rename the 'resting ecg' column to 'resting ECG'\n",
        "df.rename(columns={'resting ecg': 'resting ECG'}, inplace=True)\n",
        "# check the columns again to confirm the changes\n",
        "df.columns"
      ]
    },
    {
      "cell_type": "markdown",
      "metadata": {},
      "source": [
        "Confirm First 5 and Last 5 Rows Of The Dataframe df"
      ]
    },
    {
      "cell_type": "code",
      "execution_count": 328,
      "metadata": {},
      "outputs": [
        {
          "data": {
            "application/vnd.microsoft.datawrangler.viewer.v0+json": {
              "columns": [
                {
                  "name": "index",
                  "rawType": "int64",
                  "type": "integer"
                },
                {
                  "name": "age",
                  "rawType": "int64",
                  "type": "integer"
                },
                {
                  "name": "sex",
                  "rawType": "int64",
                  "type": "integer"
                },
                {
                  "name": "chest pain type",
                  "rawType": "int64",
                  "type": "integer"
                },
                {
                  "name": "resting systolic bp",
                  "rawType": "int64",
                  "type": "integer"
                },
                {
                  "name": "cholesterol",
                  "rawType": "int64",
                  "type": "integer"
                },
                {
                  "name": "fasting blood sugar",
                  "rawType": "int64",
                  "type": "integer"
                },
                {
                  "name": "resting ECG",
                  "rawType": "int64",
                  "type": "integer"
                },
                {
                  "name": "max heart rate",
                  "rawType": "int64",
                  "type": "integer"
                },
                {
                  "name": "exercise angina",
                  "rawType": "int64",
                  "type": "integer"
                },
                {
                  "name": "ST depression",
                  "rawType": "float64",
                  "type": "float"
                },
                {
                  "name": "ST slope",
                  "rawType": "int64",
                  "type": "integer"
                },
                {
                  "name": "target",
                  "rawType": "int64",
                  "type": "integer"
                }
              ],
              "ref": "8c971920-8c1c-47d1-b7ef-6480656ff08e",
              "rows": [
                [
                  "0",
                  "40",
                  "1",
                  "2",
                  "140",
                  "289",
                  "0",
                  "0",
                  "172",
                  "0",
                  "0.0",
                  "1",
                  "0"
                ],
                [
                  "1",
                  "49",
                  "0",
                  "3",
                  "160",
                  "180",
                  "0",
                  "0",
                  "156",
                  "0",
                  "1.0",
                  "2",
                  "1"
                ],
                [
                  "2",
                  "37",
                  "1",
                  "2",
                  "130",
                  "283",
                  "0",
                  "1",
                  "98",
                  "0",
                  "0.0",
                  "1",
                  "0"
                ],
                [
                  "3",
                  "48",
                  "0",
                  "4",
                  "138",
                  "214",
                  "0",
                  "0",
                  "108",
                  "1",
                  "1.5",
                  "2",
                  "1"
                ],
                [
                  "4",
                  "54",
                  "1",
                  "3",
                  "150",
                  "195",
                  "0",
                  "0",
                  "122",
                  "0",
                  "0.0",
                  "1",
                  "0"
                ]
              ],
              "shape": {
                "columns": 12,
                "rows": 5
              }
            },
            "text/html": [
              "<div>\n",
              "<style scoped>\n",
              "    .dataframe tbody tr th:only-of-type {\n",
              "        vertical-align: middle;\n",
              "    }\n",
              "\n",
              "    .dataframe tbody tr th {\n",
              "        vertical-align: top;\n",
              "    }\n",
              "\n",
              "    .dataframe thead th {\n",
              "        text-align: right;\n",
              "    }\n",
              "</style>\n",
              "<table border=\"1\" class=\"dataframe\">\n",
              "  <thead>\n",
              "    <tr style=\"text-align: right;\">\n",
              "      <th></th>\n",
              "      <th>age</th>\n",
              "      <th>sex</th>\n",
              "      <th>chest pain type</th>\n",
              "      <th>resting systolic bp</th>\n",
              "      <th>cholesterol</th>\n",
              "      <th>fasting blood sugar</th>\n",
              "      <th>resting ECG</th>\n",
              "      <th>max heart rate</th>\n",
              "      <th>exercise angina</th>\n",
              "      <th>ST depression</th>\n",
              "      <th>ST slope</th>\n",
              "      <th>target</th>\n",
              "    </tr>\n",
              "  </thead>\n",
              "  <tbody>\n",
              "    <tr>\n",
              "      <th>0</th>\n",
              "      <td>40</td>\n",
              "      <td>1</td>\n",
              "      <td>2</td>\n",
              "      <td>140</td>\n",
              "      <td>289</td>\n",
              "      <td>0</td>\n",
              "      <td>0</td>\n",
              "      <td>172</td>\n",
              "      <td>0</td>\n",
              "      <td>0.0</td>\n",
              "      <td>1</td>\n",
              "      <td>0</td>\n",
              "    </tr>\n",
              "    <tr>\n",
              "      <th>1</th>\n",
              "      <td>49</td>\n",
              "      <td>0</td>\n",
              "      <td>3</td>\n",
              "      <td>160</td>\n",
              "      <td>180</td>\n",
              "      <td>0</td>\n",
              "      <td>0</td>\n",
              "      <td>156</td>\n",
              "      <td>0</td>\n",
              "      <td>1.0</td>\n",
              "      <td>2</td>\n",
              "      <td>1</td>\n",
              "    </tr>\n",
              "    <tr>\n",
              "      <th>2</th>\n",
              "      <td>37</td>\n",
              "      <td>1</td>\n",
              "      <td>2</td>\n",
              "      <td>130</td>\n",
              "      <td>283</td>\n",
              "      <td>0</td>\n",
              "      <td>1</td>\n",
              "      <td>98</td>\n",
              "      <td>0</td>\n",
              "      <td>0.0</td>\n",
              "      <td>1</td>\n",
              "      <td>0</td>\n",
              "    </tr>\n",
              "    <tr>\n",
              "      <th>3</th>\n",
              "      <td>48</td>\n",
              "      <td>0</td>\n",
              "      <td>4</td>\n",
              "      <td>138</td>\n",
              "      <td>214</td>\n",
              "      <td>0</td>\n",
              "      <td>0</td>\n",
              "      <td>108</td>\n",
              "      <td>1</td>\n",
              "      <td>1.5</td>\n",
              "      <td>2</td>\n",
              "      <td>1</td>\n",
              "    </tr>\n",
              "    <tr>\n",
              "      <th>4</th>\n",
              "      <td>54</td>\n",
              "      <td>1</td>\n",
              "      <td>3</td>\n",
              "      <td>150</td>\n",
              "      <td>195</td>\n",
              "      <td>0</td>\n",
              "      <td>0</td>\n",
              "      <td>122</td>\n",
              "      <td>0</td>\n",
              "      <td>0.0</td>\n",
              "      <td>1</td>\n",
              "      <td>0</td>\n",
              "    </tr>\n",
              "  </tbody>\n",
              "</table>\n",
              "</div>"
            ],
            "text/plain": [
              "   age  sex  chest pain type  resting systolic bp  cholesterol  \\\n",
              "0   40    1                2                  140          289   \n",
              "1   49    0                3                  160          180   \n",
              "2   37    1                2                  130          283   \n",
              "3   48    0                4                  138          214   \n",
              "4   54    1                3                  150          195   \n",
              "\n",
              "   fasting blood sugar  resting ECG  max heart rate  exercise angina  \\\n",
              "0                    0            0             172                0   \n",
              "1                    0            0             156                0   \n",
              "2                    0            1              98                0   \n",
              "3                    0            0             108                1   \n",
              "4                    0            0             122                0   \n",
              "\n",
              "   ST depression  ST slope  target  \n",
              "0            0.0         1       0  \n",
              "1            1.0         2       1  \n",
              "2            0.0         1       0  \n",
              "3            1.5         2       1  \n",
              "4            0.0         1       0  "
            ]
          },
          "execution_count": 328,
          "metadata": {},
          "output_type": "execute_result"
        }
      ],
      "source": [
        "df.head()  # Display the first few rows of the DataFrame"
      ]
    },
    {
      "cell_type": "code",
      "execution_count": 329,
      "metadata": {},
      "outputs": [
        {
          "data": {
            "application/vnd.microsoft.datawrangler.viewer.v0+json": {
              "columns": [
                {
                  "name": "index",
                  "rawType": "int64",
                  "type": "integer"
                },
                {
                  "name": "age",
                  "rawType": "int64",
                  "type": "integer"
                },
                {
                  "name": "sex",
                  "rawType": "int64",
                  "type": "integer"
                },
                {
                  "name": "chest pain type",
                  "rawType": "int64",
                  "type": "integer"
                },
                {
                  "name": "resting systolic bp",
                  "rawType": "int64",
                  "type": "integer"
                },
                {
                  "name": "cholesterol",
                  "rawType": "int64",
                  "type": "integer"
                },
                {
                  "name": "fasting blood sugar",
                  "rawType": "int64",
                  "type": "integer"
                },
                {
                  "name": "resting ECG",
                  "rawType": "int64",
                  "type": "integer"
                },
                {
                  "name": "max heart rate",
                  "rawType": "int64",
                  "type": "integer"
                },
                {
                  "name": "exercise angina",
                  "rawType": "int64",
                  "type": "integer"
                },
                {
                  "name": "ST depression",
                  "rawType": "float64",
                  "type": "float"
                },
                {
                  "name": "ST slope",
                  "rawType": "int64",
                  "type": "integer"
                },
                {
                  "name": "target",
                  "rawType": "int64",
                  "type": "integer"
                }
              ],
              "ref": "41b3aca6-92a5-47b9-861a-d9c469b14275",
              "rows": [
                [
                  "1185",
                  "45",
                  "1",
                  "1",
                  "110",
                  "264",
                  "0",
                  "0",
                  "132",
                  "0",
                  "1.2",
                  "2",
                  "1"
                ],
                [
                  "1186",
                  "68",
                  "1",
                  "4",
                  "144",
                  "193",
                  "1",
                  "0",
                  "141",
                  "0",
                  "3.4",
                  "2",
                  "1"
                ],
                [
                  "1187",
                  "57",
                  "1",
                  "4",
                  "130",
                  "131",
                  "0",
                  "0",
                  "115",
                  "1",
                  "1.2",
                  "2",
                  "1"
                ],
                [
                  "1188",
                  "57",
                  "0",
                  "2",
                  "130",
                  "236",
                  "0",
                  "2",
                  "174",
                  "0",
                  "0.0",
                  "2",
                  "1"
                ],
                [
                  "1189",
                  "38",
                  "1",
                  "3",
                  "138",
                  "175",
                  "0",
                  "0",
                  "173",
                  "0",
                  "0.0",
                  "1",
                  "0"
                ]
              ],
              "shape": {
                "columns": 12,
                "rows": 5
              }
            },
            "text/html": [
              "<div>\n",
              "<style scoped>\n",
              "    .dataframe tbody tr th:only-of-type {\n",
              "        vertical-align: middle;\n",
              "    }\n",
              "\n",
              "    .dataframe tbody tr th {\n",
              "        vertical-align: top;\n",
              "    }\n",
              "\n",
              "    .dataframe thead th {\n",
              "        text-align: right;\n",
              "    }\n",
              "</style>\n",
              "<table border=\"1\" class=\"dataframe\">\n",
              "  <thead>\n",
              "    <tr style=\"text-align: right;\">\n",
              "      <th></th>\n",
              "      <th>age</th>\n",
              "      <th>sex</th>\n",
              "      <th>chest pain type</th>\n",
              "      <th>resting systolic bp</th>\n",
              "      <th>cholesterol</th>\n",
              "      <th>fasting blood sugar</th>\n",
              "      <th>resting ECG</th>\n",
              "      <th>max heart rate</th>\n",
              "      <th>exercise angina</th>\n",
              "      <th>ST depression</th>\n",
              "      <th>ST slope</th>\n",
              "      <th>target</th>\n",
              "    </tr>\n",
              "  </thead>\n",
              "  <tbody>\n",
              "    <tr>\n",
              "      <th>1185</th>\n",
              "      <td>45</td>\n",
              "      <td>1</td>\n",
              "      <td>1</td>\n",
              "      <td>110</td>\n",
              "      <td>264</td>\n",
              "      <td>0</td>\n",
              "      <td>0</td>\n",
              "      <td>132</td>\n",
              "      <td>0</td>\n",
              "      <td>1.2</td>\n",
              "      <td>2</td>\n",
              "      <td>1</td>\n",
              "    </tr>\n",
              "    <tr>\n",
              "      <th>1186</th>\n",
              "      <td>68</td>\n",
              "      <td>1</td>\n",
              "      <td>4</td>\n",
              "      <td>144</td>\n",
              "      <td>193</td>\n",
              "      <td>1</td>\n",
              "      <td>0</td>\n",
              "      <td>141</td>\n",
              "      <td>0</td>\n",
              "      <td>3.4</td>\n",
              "      <td>2</td>\n",
              "      <td>1</td>\n",
              "    </tr>\n",
              "    <tr>\n",
              "      <th>1187</th>\n",
              "      <td>57</td>\n",
              "      <td>1</td>\n",
              "      <td>4</td>\n",
              "      <td>130</td>\n",
              "      <td>131</td>\n",
              "      <td>0</td>\n",
              "      <td>0</td>\n",
              "      <td>115</td>\n",
              "      <td>1</td>\n",
              "      <td>1.2</td>\n",
              "      <td>2</td>\n",
              "      <td>1</td>\n",
              "    </tr>\n",
              "    <tr>\n",
              "      <th>1188</th>\n",
              "      <td>57</td>\n",
              "      <td>0</td>\n",
              "      <td>2</td>\n",
              "      <td>130</td>\n",
              "      <td>236</td>\n",
              "      <td>0</td>\n",
              "      <td>2</td>\n",
              "      <td>174</td>\n",
              "      <td>0</td>\n",
              "      <td>0.0</td>\n",
              "      <td>2</td>\n",
              "      <td>1</td>\n",
              "    </tr>\n",
              "    <tr>\n",
              "      <th>1189</th>\n",
              "      <td>38</td>\n",
              "      <td>1</td>\n",
              "      <td>3</td>\n",
              "      <td>138</td>\n",
              "      <td>175</td>\n",
              "      <td>0</td>\n",
              "      <td>0</td>\n",
              "      <td>173</td>\n",
              "      <td>0</td>\n",
              "      <td>0.0</td>\n",
              "      <td>1</td>\n",
              "      <td>0</td>\n",
              "    </tr>\n",
              "  </tbody>\n",
              "</table>\n",
              "</div>"
            ],
            "text/plain": [
              "      age  sex  chest pain type  resting systolic bp  cholesterol  \\\n",
              "1185   45    1                1                  110          264   \n",
              "1186   68    1                4                  144          193   \n",
              "1187   57    1                4                  130          131   \n",
              "1188   57    0                2                  130          236   \n",
              "1189   38    1                3                  138          175   \n",
              "\n",
              "      fasting blood sugar  resting ECG  max heart rate  exercise angina  \\\n",
              "1185                    0            0             132                0   \n",
              "1186                    1            0             141                0   \n",
              "1187                    0            0             115                1   \n",
              "1188                    0            2             174                0   \n",
              "1189                    0            0             173                0   \n",
              "\n",
              "      ST depression  ST slope  target  \n",
              "1185            1.2         2       1  \n",
              "1186            3.4         2       1  \n",
              "1187            1.2         2       1  \n",
              "1188            0.0         2       1  \n",
              "1189            0.0         1       0  "
            ]
          },
          "execution_count": 329,
          "metadata": {},
          "output_type": "execute_result"
        }
      ],
      "source": [
        "\n",
        "df.tail()  # Display the last few rows of the DataFrame"
      ]
    },
    {
      "cell_type": "markdown",
      "metadata": {},
      "source": [
        "Fix Or Normalise Categorical Datatypes"
      ]
    },
    {
      "cell_type": "code",
      "execution_count": 330,
      "metadata": {},
      "outputs": [
        {
          "name": "stdout",
          "output_type": "stream",
          "text": [
            "<class 'pandas.core.frame.DataFrame'>\n",
            "RangeIndex: 1190 entries, 0 to 1189\n",
            "Data columns (total 12 columns):\n",
            " #   Column               Non-Null Count  Dtype   \n",
            "---  ------               --------------  -----   \n",
            " 0   age                  1190 non-null   int64   \n",
            " 1   sex                  1190 non-null   category\n",
            " 2   chest pain type      1190 non-null   category\n",
            " 3   resting systolic bp  1190 non-null   int64   \n",
            " 4   cholesterol          1190 non-null   int64   \n",
            " 5   fasting blood sugar  1190 non-null   category\n",
            " 6   resting ECG          1190 non-null   category\n",
            " 7   max heart rate       1190 non-null   int64   \n",
            " 8   exercise angina      1190 non-null   category\n",
            " 9   ST depression        1190 non-null   float64 \n",
            " 10  ST slope             1190 non-null   category\n",
            " 11  target               1190 non-null   category\n",
            "dtypes: category(7), float64(1), int64(4)\n",
            "memory usage: 55.8 KB\n"
          ]
        }
      ],
      "source": [
        "# convert to categorical datatypes\n",
        "\n",
        "df['sex'] = df['sex'].astype('category')\n",
        "df['chest pain type'] = df['chest pain type'].astype('category')\n",
        "df['fasting blood sugar'] = df['fasting blood sugar'].astype('category')\n",
        "df['resting ECG'] = df['resting ECG'].astype('category')\n",
        "df['exercise angina'] = df['exercise angina'].astype('category')\n",
        "df['ST slope'] = df['ST slope'].astype('category')\n",
        "df['target'] = df['target'].astype('category')\n",
        "\n",
        "# Display the updated DataFrame with new data types\n",
        "df.info()\n",
        "\n",
        "\n"
      ]
    },
    {
      "cell_type": "markdown",
      "metadata": {},
      "source": [
        "Check For Missing Values and Replace Missing Values"
      ]
    },
    {
      "cell_type": "code",
      "execution_count": 331,
      "metadata": {},
      "outputs": [
        {
          "data": {
            "application/vnd.microsoft.datawrangler.viewer.v0+json": {
              "columns": [
                {
                  "name": "index",
                  "rawType": "object",
                  "type": "string"
                },
                {
                  "name": "0",
                  "rawType": "int64",
                  "type": "integer"
                }
              ],
              "ref": "0dc89223-53a4-4f18-b980-188d2a3821f7",
              "rows": [
                [
                  "age",
                  "0"
                ],
                [
                  "sex",
                  "0"
                ],
                [
                  "chest pain type",
                  "0"
                ],
                [
                  "resting systolic bp",
                  "0"
                ],
                [
                  "cholesterol",
                  "0"
                ],
                [
                  "fasting blood sugar",
                  "0"
                ],
                [
                  "resting ECG",
                  "0"
                ],
                [
                  "max heart rate",
                  "0"
                ],
                [
                  "exercise angina",
                  "0"
                ],
                [
                  "ST depression",
                  "0"
                ],
                [
                  "ST slope",
                  "0"
                ],
                [
                  "target",
                  "0"
                ]
              ],
              "shape": {
                "columns": 1,
                "rows": 12
              }
            },
            "text/plain": [
              "age                    0\n",
              "sex                    0\n",
              "chest pain type        0\n",
              "resting systolic bp    0\n",
              "cholesterol            0\n",
              "fasting blood sugar    0\n",
              "resting ECG            0\n",
              "max heart rate         0\n",
              "exercise angina        0\n",
              "ST depression          0\n",
              "ST slope               0\n",
              "target                 0\n",
              "dtype: int64"
            ]
          },
          "execution_count": 331,
          "metadata": {},
          "output_type": "execute_result"
        }
      ],
      "source": [
        "# Check for missing values in the DataFrame\n",
        "df.isnull().sum()"
      ]
    },
    {
      "cell_type": "markdown",
      "metadata": {},
      "source": [
        "Remove Duplicates"
      ]
    },
    {
      "cell_type": "code",
      "execution_count": 332,
      "metadata": {},
      "outputs": [],
      "source": [
        "# remove duplicates from the DataFrame\n",
        "df.drop_duplicates(inplace=True)"
      ]
    },
    {
      "cell_type": "code",
      "execution_count": 333,
      "metadata": {},
      "outputs": [
        {
          "name": "stdout",
          "output_type": "stream",
          "text": [
            "<class 'pandas.core.frame.DataFrame'>\n",
            "Index: 918 entries, 0 to 1189\n",
            "Data columns (total 12 columns):\n",
            " #   Column               Non-Null Count  Dtype   \n",
            "---  ------               --------------  -----   \n",
            " 0   age                  918 non-null    int64   \n",
            " 1   sex                  918 non-null    category\n",
            " 2   chest pain type      918 non-null    category\n",
            " 3   resting systolic bp  918 non-null    int64   \n",
            " 4   cholesterol          918 non-null    int64   \n",
            " 5   fasting blood sugar  918 non-null    category\n",
            " 6   resting ECG          918 non-null    category\n",
            " 7   max heart rate       918 non-null    int64   \n",
            " 8   exercise angina      918 non-null    category\n",
            " 9   ST depression        918 non-null    float64 \n",
            " 10  ST slope             918 non-null    category\n",
            " 11  target               918 non-null    category\n",
            "dtypes: category(7), float64(1), int64(4)\n",
            "memory usage: 50.3 KB\n"
          ]
        }
      ],
      "source": [
        "df.info()"
      ]
    },
    {
      "cell_type": "markdown",
      "metadata": {},
      "source": [
        "#### 7. DATA AUGMENTATION"
      ]
    },
    {
      "cell_type": "markdown",
      "metadata": {},
      "source": [
        "Explore Second Datasets df2, Rename Required Columns and Add Required Columns to First Datasets (df)"
      ]
    },
    {
      "cell_type": "code",
      "execution_count": 334,
      "metadata": {},
      "outputs": [
        {
          "name": "stdout",
          "output_type": "stream",
          "text": [
            "<class 'pandas.core.frame.DataFrame'>\n",
            "RangeIndex: 898 entries, 0 to 897\n",
            "Data columns (total 76 columns):\n",
            " #   Column  Non-Null Count  Dtype  \n",
            "---  ------  --------------  -----  \n",
            " 0   1       898 non-null    int64  \n",
            " 1   0       898 non-null    int64  \n",
            " 2   63      898 non-null    int64  \n",
            " 3   1.1     898 non-null    int64  \n",
            " 4   -9      898 non-null    int64  \n",
            " 5   -9.1    898 non-null    int64  \n",
            " 6   -9.2    898 non-null    int64  \n",
            " 7   -9.3    898 non-null    int64  \n",
            " 8   1.2     898 non-null    int64  \n",
            " 9   145     898 non-null    int64  \n",
            " 10  1.3     898 non-null    int64  \n",
            " 11  233     898 non-null    int64  \n",
            " 12  -9.4    898 non-null    int64  \n",
            " 13  50      898 non-null    int64  \n",
            " 14  20      898 non-null    int64  \n",
            " 15  1.4     898 non-null    int64  \n",
            " 16  -9.5    898 non-null    int64  \n",
            " 17  1.5     898 non-null    int64  \n",
            " 18  2       898 non-null    int64  \n",
            " 19  2.1     898 non-null    int64  \n",
            " 20  3       898 non-null    int64  \n",
            " 21  81      898 non-null    int64  \n",
            " 22  0.1     898 non-null    int64  \n",
            " 23  0.2     898 non-null    int64  \n",
            " 24  0.3     898 non-null    int64  \n",
            " 25  0.4     898 non-null    int64  \n",
            " 26  0.5     898 non-null    int64  \n",
            " 27  1.6     898 non-null    int64  \n",
            " 28  10.5    898 non-null    float64\n",
            " 29  6       898 non-null    float64\n",
            " 30  13      898 non-null    float64\n",
            " 31  150     898 non-null    int64  \n",
            " 32  60      898 non-null    int64  \n",
            " 33  190     898 non-null    int64  \n",
            " 34  90      898 non-null    int64  \n",
            " 35  145.1   898 non-null    int64  \n",
            " 36  85      898 non-null    int64  \n",
            " 37  0.6     898 non-null    int64  \n",
            " 38  0.7     898 non-null    int64  \n",
            " 39  2.3     898 non-null    float64\n",
            " 40  3.1     898 non-null    int64  \n",
            " 41  -9.6    898 non-null    int64  \n",
            " 42  172     898 non-null    int64  \n",
            " 43  0.8     898 non-null    int64  \n",
            " 44  -9.7    898 non-null    int64  \n",
            " 45  -9.8    898 non-null    int64  \n",
            " 46  -9.9    898 non-null    float64\n",
            " 47  -9.10   898 non-null    int64  \n",
            " 48  -9.11   898 non-null    float64\n",
            " 49  -9.12   898 non-null    int64  \n",
            " 50  6.1     898 non-null    int64  \n",
            " 51  -9.13   898 non-null    int64  \n",
            " 52  -9.14   898 non-null    int64  \n",
            " 53  -9.15   898 non-null    int64  \n",
            " 54  2.2     898 non-null    int64  \n",
            " 55  16      898 non-null    int64  \n",
            " 56  81.1    898 non-null    int64  \n",
            " 57  0.9     898 non-null    int64  \n",
            " 58  1.7     898 non-null    int64  \n",
            " 59  1.8     898 non-null    int64  \n",
            " 60  1.9     898 non-null    int64  \n",
            " 61  -9.16   898 non-null    int64  \n",
            " 62  1.10    898 non-null    int64  \n",
            " 63  -9.17   898 non-null    int64  \n",
            " 64  1.11    898 non-null    int64  \n",
            " 65  -9.18   898 non-null    int64  \n",
            " 66  1.12    898 non-null    int64  \n",
            " 67  1.13    898 non-null    int64  \n",
            " 68  1.14    898 non-null    int64  \n",
            " 69  1.15    898 non-null    int64  \n",
            " 70  1.16    898 non-null    int64  \n",
            " 71  1.17    898 non-null    int64  \n",
            " 72  1.18    898 non-null    int64  \n",
            " 73  -9.19   898 non-null    float64\n",
            " 74  -9.20   898 non-null    float64\n",
            " 75  name    898 non-null    object \n",
            "dtypes: float64(8), int64(67), object(1)\n",
            "memory usage: 533.3+ KB\n"
          ]
        }
      ],
      "source": [
        "# Note Key provided manually by the data collector and will be added to the ReadMe file\n",
        "# Load the second dataset into a DataFrame and display information about it\n",
        "df2 = pd.read_csv(\"../datasets/heart_disease_integrated.csv\")\n",
        "df2.info()\n"
      ]
    },
    {
      "cell_type": "code",
      "execution_count": 335,
      "metadata": {},
      "outputs": [
        {
          "data": {
            "text/plain": [
              "(898, 76)"
            ]
          },
          "execution_count": 335,
          "metadata": {},
          "output_type": "execute_result"
        }
      ],
      "source": [
        "# explore the shape of the DataFrame DF2\n",
        "df2.shape"
      ]
    },
    {
      "cell_type": "markdown",
      "metadata": {},
      "source": [
        "Rename Two Useful Columns For This Project"
      ]
    },
    {
      "cell_type": "code",
      "execution_count": 336,
      "metadata": {},
      "outputs": [
        {
          "name": "stdout",
          "output_type": "stream",
          "text": [
            "<class 'pandas.core.frame.DataFrame'>\n",
            "RangeIndex: 898 entries, 0 to 897\n",
            "Data columns (total 76 columns):\n",
            " #   Column          Non-Null Count  Dtype  \n",
            "---  ------          --------------  -----  \n",
            " 0   1               898 non-null    int64  \n",
            " 1   0               898 non-null    int64  \n",
            " 2   63              898 non-null    int64  \n",
            " 3   1.1             898 non-null    int64  \n",
            " 4   -9              898 non-null    int64  \n",
            " 5   -9.1            898 non-null    int64  \n",
            " 6   -9.2            898 non-null    int64  \n",
            " 7   -9.3            898 non-null    int64  \n",
            " 8   1.2             898 non-null    int64  \n",
            " 9   145             898 non-null    int64  \n",
            " 10  hypertension    898 non-null    int64  \n",
            " 11  233             898 non-null    int64  \n",
            " 12  -9.4            898 non-null    int64  \n",
            " 13  50              898 non-null    int64  \n",
            " 14  20              898 non-null    int64  \n",
            " 15  1.4             898 non-null    int64  \n",
            " 16  -9.5            898 non-null    int64  \n",
            " 17  family history  898 non-null    int64  \n",
            " 18  2               898 non-null    int64  \n",
            " 19  2.1             898 non-null    int64  \n",
            " 20  3               898 non-null    int64  \n",
            " 21  81              898 non-null    int64  \n",
            " 22  0.1             898 non-null    int64  \n",
            " 23  0.2             898 non-null    int64  \n",
            " 24  0.3             898 non-null    int64  \n",
            " 25  0.4             898 non-null    int64  \n",
            " 26  0.5             898 non-null    int64  \n",
            " 27  1.6             898 non-null    int64  \n",
            " 28  10.5            898 non-null    float64\n",
            " 29  6               898 non-null    float64\n",
            " 30  13              898 non-null    float64\n",
            " 31  150             898 non-null    int64  \n",
            " 32  60              898 non-null    int64  \n",
            " 33  190             898 non-null    int64  \n",
            " 34  90              898 non-null    int64  \n",
            " 35  145.1           898 non-null    int64  \n",
            " 36  85              898 non-null    int64  \n",
            " 37  0.6             898 non-null    int64  \n",
            " 38  0.7             898 non-null    int64  \n",
            " 39  2.3             898 non-null    float64\n",
            " 40  3.1             898 non-null    int64  \n",
            " 41  -9.6            898 non-null    int64  \n",
            " 42  172             898 non-null    int64  \n",
            " 43  0.8             898 non-null    int64  \n",
            " 44  -9.7            898 non-null    int64  \n",
            " 45  -9.8            898 non-null    int64  \n",
            " 46  -9.9            898 non-null    float64\n",
            " 47  -9.10           898 non-null    int64  \n",
            " 48  -9.11           898 non-null    float64\n",
            " 49  -9.12           898 non-null    int64  \n",
            " 50  6.1             898 non-null    int64  \n",
            " 51  -9.13           898 non-null    int64  \n",
            " 52  -9.14           898 non-null    int64  \n",
            " 53  -9.15           898 non-null    int64  \n",
            " 54  2.2             898 non-null    int64  \n",
            " 55  16              898 non-null    int64  \n",
            " 56  81.1            898 non-null    int64  \n",
            " 57  0.9             898 non-null    int64  \n",
            " 58  1.7             898 non-null    int64  \n",
            " 59  1.8             898 non-null    int64  \n",
            " 60  1.9             898 non-null    int64  \n",
            " 61  -9.16           898 non-null    int64  \n",
            " 62  1.10            898 non-null    int64  \n",
            " 63  -9.17           898 non-null    int64  \n",
            " 64  1.11            898 non-null    int64  \n",
            " 65  -9.18           898 non-null    int64  \n",
            " 66  1.12            898 non-null    int64  \n",
            " 67  1.13            898 non-null    int64  \n",
            " 68  1.14            898 non-null    int64  \n",
            " 69  1.15            898 non-null    int64  \n",
            " 70  1.16            898 non-null    int64  \n",
            " 71  1.17            898 non-null    int64  \n",
            " 72  1.18            898 non-null    int64  \n",
            " 73  -9.19           898 non-null    float64\n",
            " 74  -9.20           898 non-null    float64\n",
            " 75  name            898 non-null    object \n",
            "dtypes: float64(8), int64(67), object(1)\n",
            "memory usage: 533.3+ KB\n"
          ]
        }
      ],
      "source": [
        "# rename columns from the second DataFrame \n",
        "df2.rename(columns={\n",
        "    '1.3': 'hypertension',\n",
        "    '1.5': 'family history'\n",
        "}, inplace=True)\n",
        "df2.info()"
      ]
    },
    {
      "cell_type": "markdown",
      "metadata": {},
      "source": [
        "Add Renamed Columns To First Datasets df"
      ]
    },
    {
      "cell_type": "code",
      "execution_count": 337,
      "metadata": {},
      "outputs": [
        {
          "name": "stdout",
          "output_type": "stream",
          "text": [
            "<class 'pandas.core.frame.DataFrame'>\n",
            "Index: 918 entries, 0 to 1189\n",
            "Data columns (total 14 columns):\n",
            " #   Column               Non-Null Count  Dtype   \n",
            "---  ------               --------------  -----   \n",
            " 0   age                  918 non-null    int64   \n",
            " 1   sex                  918 non-null    category\n",
            " 2   chest pain type      918 non-null    category\n",
            " 3   resting systolic bp  918 non-null    int64   \n",
            " 4   cholesterol          918 non-null    int64   \n",
            " 5   fasting blood sugar  918 non-null    category\n",
            " 6   resting ECG          918 non-null    category\n",
            " 7   max heart rate       918 non-null    int64   \n",
            " 8   exercise angina      918 non-null    category\n",
            " 9   ST depression        918 non-null    float64 \n",
            " 10  ST slope             918 non-null    category\n",
            " 11  target               918 non-null    category\n",
            " 12  hypertension         898 non-null    float64 \n",
            " 13  family history       898 non-null    float64 \n",
            "dtypes: category(7), float64(3), int64(4)\n",
            "memory usage: 64.7 KB\n"
          ]
        }
      ],
      "source": [
        "# add columns 'hypertension', 'family history' from the second DataFrame to the first DataFrame\n",
        "min_len = min(len(df), len(df2))\n",
        "df.loc[:, 'hypertension'] = np.nan\n",
        "df.loc[:, 'family history'] = np.nan\n",
        "df.iloc[:min_len, df.columns.get_loc('hypertension')] = df2['hypertension'].values[:min_len]\n",
        "df.iloc[:min_len, df.columns.get_loc('family history')] = df2['family history'].values[:min_len]\n",
        "df.info()"
      ]
    },
    {
      "cell_type": "code",
      "execution_count": 338,
      "metadata": {},
      "outputs": [
        {
          "name": "stdout",
          "output_type": "stream",
          "text": [
            "<class 'pandas.core.frame.DataFrame'>\n",
            "Index: 918 entries, 0 to 1189\n",
            "Data columns (total 14 columns):\n",
            " #   Column               Non-Null Count  Dtype   \n",
            "---  ------               --------------  -----   \n",
            " 0   age                  918 non-null    int64   \n",
            " 1   sex                  918 non-null    category\n",
            " 2   chest pain type      918 non-null    category\n",
            " 3   resting systolic bp  918 non-null    int64   \n",
            " 4   cholesterol          918 non-null    int64   \n",
            " 5   fasting blood sugar  918 non-null    category\n",
            " 6   resting ECG          918 non-null    category\n",
            " 7   max heart rate       918 non-null    int64   \n",
            " 8   exercise angina      918 non-null    category\n",
            " 9   ST depression        918 non-null    category\n",
            " 10  ST slope             918 non-null    category\n",
            " 11  target               918 non-null    category\n",
            " 12  hypertension         898 non-null    category\n",
            " 13  family history       898 non-null    category\n",
            "dtypes: category(10), int64(4)\n",
            "memory usage: 48.6 KB\n"
          ]
        }
      ],
      "source": [
        "# convert float to categorical datatypes of newly added columns\n",
        "df['hypertension'] = df['hypertension'].astype('category')\n",
        "df['family history'] = df['family history'].astype('category')\n",
        "df['ST depression'] = df['ST depression'].astype('category')\n",
        "# Display the updated DataFrame with new data types\n",
        "df.info()"
      ]
    },
    {
      "cell_type": "markdown",
      "metadata": {},
      "source": [
        "Check For Missing Values"
      ]
    },
    {
      "cell_type": "code",
      "execution_count": 339,
      "metadata": {},
      "outputs": [
        {
          "data": {
            "application/vnd.microsoft.datawrangler.viewer.v0+json": {
              "columns": [
                {
                  "name": "index",
                  "rawType": "object",
                  "type": "string"
                },
                {
                  "name": "0",
                  "rawType": "int64",
                  "type": "integer"
                }
              ],
              "ref": "ab79b7a6-6335-472a-b2d1-e5f7a09adfe8",
              "rows": [
                [
                  "age",
                  "0"
                ],
                [
                  "sex",
                  "0"
                ],
                [
                  "chest pain type",
                  "0"
                ],
                [
                  "resting systolic bp",
                  "0"
                ],
                [
                  "cholesterol",
                  "0"
                ],
                [
                  "fasting blood sugar",
                  "0"
                ],
                [
                  "resting ECG",
                  "0"
                ],
                [
                  "max heart rate",
                  "0"
                ],
                [
                  "exercise angina",
                  "0"
                ],
                [
                  "ST depression",
                  "0"
                ],
                [
                  "ST slope",
                  "0"
                ],
                [
                  "target",
                  "0"
                ],
                [
                  "hypertension",
                  "20"
                ],
                [
                  "family history",
                  "20"
                ]
              ],
              "shape": {
                "columns": 1,
                "rows": 14
              }
            },
            "text/plain": [
              "age                     0\n",
              "sex                     0\n",
              "chest pain type         0\n",
              "resting systolic bp     0\n",
              "cholesterol             0\n",
              "fasting blood sugar     0\n",
              "resting ECG             0\n",
              "max heart rate          0\n",
              "exercise angina         0\n",
              "ST depression           0\n",
              "ST slope                0\n",
              "target                  0\n",
              "hypertension           20\n",
              "family history         20\n",
              "dtype: int64"
            ]
          },
          "execution_count": 339,
          "metadata": {},
          "output_type": "execute_result"
        }
      ],
      "source": [
        "# check for missing values again\n",
        "df.isnull().sum()"
      ]
    },
    {
      "cell_type": "markdown",
      "metadata": {},
      "source": [
        "Replace Missing Values and Check Again"
      ]
    },
    {
      "cell_type": "code",
      "execution_count": 340,
      "metadata": {},
      "outputs": [],
      "source": [
        "# replace missing values in 'hypertension' and 'family history' with with mode of the respective columns\n",
        "df['hypertension'].fillna(df['hypertension'].mode()[0], inplace=True)\n",
        "df['family history'].fillna(df['family history'].mode()[0], inplace=True)"
      ]
    },
    {
      "cell_type": "code",
      "execution_count": 341,
      "metadata": {},
      "outputs": [
        {
          "data": {
            "application/vnd.microsoft.datawrangler.viewer.v0+json": {
              "columns": [
                {
                  "name": "index",
                  "rawType": "object",
                  "type": "string"
                },
                {
                  "name": "0",
                  "rawType": "int64",
                  "type": "integer"
                }
              ],
              "ref": "f8cec90c-0ae9-4c9f-b5e4-5dee40bc9e24",
              "rows": [
                [
                  "age",
                  "0"
                ],
                [
                  "sex",
                  "0"
                ],
                [
                  "chest pain type",
                  "0"
                ],
                [
                  "resting systolic bp",
                  "0"
                ],
                [
                  "cholesterol",
                  "0"
                ],
                [
                  "fasting blood sugar",
                  "0"
                ],
                [
                  "resting ECG",
                  "0"
                ],
                [
                  "max heart rate",
                  "0"
                ],
                [
                  "exercise angina",
                  "0"
                ],
                [
                  "ST depression",
                  "0"
                ],
                [
                  "ST slope",
                  "0"
                ],
                [
                  "target",
                  "0"
                ],
                [
                  "hypertension",
                  "0"
                ],
                [
                  "family history",
                  "0"
                ]
              ],
              "shape": {
                "columns": 1,
                "rows": 14
              }
            },
            "text/plain": [
              "age                    0\n",
              "sex                    0\n",
              "chest pain type        0\n",
              "resting systolic bp    0\n",
              "cholesterol            0\n",
              "fasting blood sugar    0\n",
              "resting ECG            0\n",
              "max heart rate         0\n",
              "exercise angina        0\n",
              "ST depression          0\n",
              "ST slope               0\n",
              "target                 0\n",
              "hypertension           0\n",
              "family history         0\n",
              "dtype: int64"
            ]
          },
          "execution_count": 341,
          "metadata": {},
          "output_type": "execute_result"
        }
      ],
      "source": [
        "# check missing values again\n",
        "df.isnull().sum()"
      ]
    },
    {
      "cell_type": "markdown",
      "metadata": {},
      "source": [
        "Convert Newly Added Columns To Categorical DataTypes"
      ]
    },
    {
      "cell_type": "code",
      "execution_count": 342,
      "metadata": {},
      "outputs": [
        {
          "name": "stdout",
          "output_type": "stream",
          "text": [
            "<class 'pandas.core.frame.DataFrame'>\n",
            "Index: 918 entries, 0 to 1189\n",
            "Data columns (total 14 columns):\n",
            " #   Column               Non-Null Count  Dtype   \n",
            "---  ------               --------------  -----   \n",
            " 0   age                  918 non-null    int64   \n",
            " 1   sex                  918 non-null    category\n",
            " 2   chest pain type      918 non-null    category\n",
            " 3   resting systolic bp  918 non-null    int64   \n",
            " 4   cholesterol          918 non-null    int64   \n",
            " 5   fasting blood sugar  918 non-null    category\n",
            " 6   resting ECG          918 non-null    category\n",
            " 7   max heart rate       918 non-null    int64   \n",
            " 8   exercise angina      918 non-null    category\n",
            " 9   ST depression        918 non-null    category\n",
            " 10  ST slope             918 non-null    category\n",
            " 11  target               918 non-null    category\n",
            " 12  hypertension         918 non-null    category\n",
            " 13  family history       918 non-null    category\n",
            "dtypes: category(10), int64(4)\n",
            "memory usage: 48.6 KB\n"
          ]
        }
      ],
      "source": [
        "# convert float to categorical datatypes of newly added columns\n",
        "df['hypertension'] = df['hypertension'].astype('category')\n",
        "df['family history'] = df['family history'].astype('category')\n",
        "# Display the updated DataFrame with new data types\n",
        "df.info()"
      ]
    },
    {
      "cell_type": "markdown",
      "metadata": {},
      "source": [
        "8. DATA VISUALISATION"
      ]
    },
    {
      "cell_type": "code",
      "execution_count": 343,
      "metadata": {},
      "outputs": [
        {
          "data": {
            "text/plain": [
              "['age', 'resting systolic bp', 'cholesterol', 'max heart rate']"
            ]
          },
          "execution_count": 343,
          "metadata": {},
          "output_type": "execute_result"
        }
      ],
      "source": [
        "# Numeric columns visualization\n",
        "numeric_columns = df.select_dtypes(include=[np.number]).columns.tolist()\n",
        "# Display the numeric columns\n",
        "numeric_columns"
      ]
    },
    {
      "cell_type": "code",
      "execution_count": 346,
      "metadata": {},
      "outputs": [],
      "source": [
        "# Visualize age distribution\n",
        "plt.figure(figsize=(10, 6))\n",
        "sns.histplot(df['age'], kde=True, bins=30)\n",
        "plt.title('Distribution of Age')\n",
        "plt.show()"
      ]
    },
    {
      "cell_type": "code",
      "execution_count": null,
      "metadata": {},
      "outputs": [],
      "source": []
    }
  ],
  "metadata": {
    "accelerator": "GPU",
    "colab": {
      "name": "Data Practitioner Jupyter Notebook.ipynb",
      "provenance": [],
      "toc_visible": true
    },
    "kernelspec": {
      "display_name": "venv",
      "language": "python",
      "name": "python3"
    },
    "language_info": {
      "codemirror_mode": {
        "name": "ipython",
        "version": 3
      },
      "file_extension": ".py",
      "mimetype": "text/x-python",
      "name": "python",
      "nbconvert_exporter": "python",
      "pygments_lexer": "ipython3",
      "version": "3.12.8"
    },
    "orig_nbformat": 2
  },
  "nbformat": 4,
  "nbformat_minor": 2
}
