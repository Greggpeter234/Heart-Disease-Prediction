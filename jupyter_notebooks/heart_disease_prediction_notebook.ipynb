{
  "cells": [
    {
      "cell_type": "markdown",
      "metadata": {},
      "source": [
        "# HEART DISEASE PREDICTION\n"
      ]
    },
    {
      "cell_type": "markdown",
      "metadata": {},
      "source": [
        "#### 1. lMPORT REQUIRED LIBRARIES"
      ]
    },
    {
      "cell_type": "markdown",
      "metadata": {},
      "source": [
        "Load Required Libraries"
      ]
    },
    {
      "cell_type": "code",
      "execution_count": 443,
      "metadata": {},
      "outputs": [],
      "source": [
        "# import useful libraries from installed packages\n",
        "\n",
        "import numpy as np\n",
        "import pandas as pd \n",
        "import matplotlib.pyplot as plt\n",
        "import seaborn as sns\n",
        "import plotly.express as px\n",
        "import plotly.graph_objects as go   \n",
        "import plotly.io as pio\n",
        "# pio.renderers.default = \"browser\"  # Set default renderer to browser\n",
        "from sklearn.model_selection import train_test_split\n",
        "from sklearn.preprocessing import StandardScaler, LabelEncoder\n",
        "from sklearn.metrics import accuracy_score, confusion_matrix, classification_report\n",
        "# Set default style for seaborn\n",
        "sns.set(style=\"whitegrid\")\n",
        "\n",
        "%matplotlib inline"
      ]
    },
    {
      "cell_type": "markdown",
      "metadata": {},
      "source": [
        "#### 2 DATA INVESTIGATION"
      ]
    },
    {
      "cell_type": "markdown",
      "metadata": {},
      "source": [
        " Extraction, Transform and Load The Datasets"
      ]
    },
    {
      "cell_type": "code",
      "execution_count": 444,
      "metadata": {},
      "outputs": [],
      "source": [
        "# Load datasets from CSV files into pandas DataFrames\n",
        "df = pd.read_csv(\"../datasets/heart_disease.csv\") \n",
        "# Load the second dataset into a DataFrame\n",
        "df2 = pd.read_csv(\"../datasets/heart_disease_integrated.csv\")"
      ]
    },
    {
      "cell_type": "markdown",
      "metadata": {},
      "source": [
        "#### 3. DATA EXPLORATION"
      ]
    },
    {
      "cell_type": "code",
      "execution_count": 445,
      "metadata": {},
      "outputs": [
        {
          "data": {
            "application/vnd.microsoft.datawrangler.viewer.v0+json": {
              "columns": [
                {
                  "name": "index",
                  "rawType": "int64",
                  "type": "integer"
                },
                {
                  "name": "age",
                  "rawType": "int64",
                  "type": "integer"
                },
                {
                  "name": "sex",
                  "rawType": "int64",
                  "type": "integer"
                },
                {
                  "name": "chest pain type",
                  "rawType": "int64",
                  "type": "integer"
                },
                {
                  "name": "resting bp s",
                  "rawType": "int64",
                  "type": "integer"
                },
                {
                  "name": "cholesterol",
                  "rawType": "int64",
                  "type": "integer"
                },
                {
                  "name": "fasting blood sugar",
                  "rawType": "int64",
                  "type": "integer"
                },
                {
                  "name": "resting ecg",
                  "rawType": "int64",
                  "type": "integer"
                },
                {
                  "name": "max heart rate",
                  "rawType": "int64",
                  "type": "integer"
                },
                {
                  "name": "exercise angina",
                  "rawType": "int64",
                  "type": "integer"
                },
                {
                  "name": "oldpeak",
                  "rawType": "float64",
                  "type": "float"
                },
                {
                  "name": "ST slope",
                  "rawType": "int64",
                  "type": "integer"
                },
                {
                  "name": "target",
                  "rawType": "int64",
                  "type": "integer"
                }
              ],
              "ref": "d41e2dff-02a5-4aa2-ae46-a107672d45f9",
              "rows": [
                [
                  "0",
                  "40",
                  "1",
                  "2",
                  "140",
                  "289",
                  "0",
                  "0",
                  "172",
                  "0",
                  "0.0",
                  "1",
                  "0"
                ],
                [
                  "1",
                  "49",
                  "0",
                  "3",
                  "160",
                  "180",
                  "0",
                  "0",
                  "156",
                  "0",
                  "1.0",
                  "2",
                  "1"
                ],
                [
                  "2",
                  "37",
                  "1",
                  "2",
                  "130",
                  "283",
                  "0",
                  "1",
                  "98",
                  "0",
                  "0.0",
                  "1",
                  "0"
                ],
                [
                  "3",
                  "48",
                  "0",
                  "4",
                  "138",
                  "214",
                  "0",
                  "0",
                  "108",
                  "1",
                  "1.5",
                  "2",
                  "1"
                ],
                [
                  "4",
                  "54",
                  "1",
                  "3",
                  "150",
                  "195",
                  "0",
                  "0",
                  "122",
                  "0",
                  "0.0",
                  "1",
                  "0"
                ]
              ],
              "shape": {
                "columns": 12,
                "rows": 5
              }
            },
            "text/html": [
              "<div>\n",
              "<style scoped>\n",
              "    .dataframe tbody tr th:only-of-type {\n",
              "        vertical-align: middle;\n",
              "    }\n",
              "\n",
              "    .dataframe tbody tr th {\n",
              "        vertical-align: top;\n",
              "    }\n",
              "\n",
              "    .dataframe thead th {\n",
              "        text-align: right;\n",
              "    }\n",
              "</style>\n",
              "<table border=\"1\" class=\"dataframe\">\n",
              "  <thead>\n",
              "    <tr style=\"text-align: right;\">\n",
              "      <th></th>\n",
              "      <th>age</th>\n",
              "      <th>sex</th>\n",
              "      <th>chest pain type</th>\n",
              "      <th>resting bp s</th>\n",
              "      <th>cholesterol</th>\n",
              "      <th>fasting blood sugar</th>\n",
              "      <th>resting ecg</th>\n",
              "      <th>max heart rate</th>\n",
              "      <th>exercise angina</th>\n",
              "      <th>oldpeak</th>\n",
              "      <th>ST slope</th>\n",
              "      <th>target</th>\n",
              "    </tr>\n",
              "  </thead>\n",
              "  <tbody>\n",
              "    <tr>\n",
              "      <th>0</th>\n",
              "      <td>40</td>\n",
              "      <td>1</td>\n",
              "      <td>2</td>\n",
              "      <td>140</td>\n",
              "      <td>289</td>\n",
              "      <td>0</td>\n",
              "      <td>0</td>\n",
              "      <td>172</td>\n",
              "      <td>0</td>\n",
              "      <td>0.0</td>\n",
              "      <td>1</td>\n",
              "      <td>0</td>\n",
              "    </tr>\n",
              "    <tr>\n",
              "      <th>1</th>\n",
              "      <td>49</td>\n",
              "      <td>0</td>\n",
              "      <td>3</td>\n",
              "      <td>160</td>\n",
              "      <td>180</td>\n",
              "      <td>0</td>\n",
              "      <td>0</td>\n",
              "      <td>156</td>\n",
              "      <td>0</td>\n",
              "      <td>1.0</td>\n",
              "      <td>2</td>\n",
              "      <td>1</td>\n",
              "    </tr>\n",
              "    <tr>\n",
              "      <th>2</th>\n",
              "      <td>37</td>\n",
              "      <td>1</td>\n",
              "      <td>2</td>\n",
              "      <td>130</td>\n",
              "      <td>283</td>\n",
              "      <td>0</td>\n",
              "      <td>1</td>\n",
              "      <td>98</td>\n",
              "      <td>0</td>\n",
              "      <td>0.0</td>\n",
              "      <td>1</td>\n",
              "      <td>0</td>\n",
              "    </tr>\n",
              "    <tr>\n",
              "      <th>3</th>\n",
              "      <td>48</td>\n",
              "      <td>0</td>\n",
              "      <td>4</td>\n",
              "      <td>138</td>\n",
              "      <td>214</td>\n",
              "      <td>0</td>\n",
              "      <td>0</td>\n",
              "      <td>108</td>\n",
              "      <td>1</td>\n",
              "      <td>1.5</td>\n",
              "      <td>2</td>\n",
              "      <td>1</td>\n",
              "    </tr>\n",
              "    <tr>\n",
              "      <th>4</th>\n",
              "      <td>54</td>\n",
              "      <td>1</td>\n",
              "      <td>3</td>\n",
              "      <td>150</td>\n",
              "      <td>195</td>\n",
              "      <td>0</td>\n",
              "      <td>0</td>\n",
              "      <td>122</td>\n",
              "      <td>0</td>\n",
              "      <td>0.0</td>\n",
              "      <td>1</td>\n",
              "      <td>0</td>\n",
              "    </tr>\n",
              "  </tbody>\n",
              "</table>\n",
              "</div>"
            ],
            "text/plain": [
              "   age  sex  chest pain type  resting bp s  cholesterol  fasting blood sugar  \\\n",
              "0   40    1                2           140          289                    0   \n",
              "1   49    0                3           160          180                    0   \n",
              "2   37    1                2           130          283                    0   \n",
              "3   48    0                4           138          214                    0   \n",
              "4   54    1                3           150          195                    0   \n",
              "\n",
              "   resting ecg  max heart rate  exercise angina  oldpeak  ST slope  target  \n",
              "0            0             172                0      0.0         1       0  \n",
              "1            0             156                0      1.0         2       1  \n",
              "2            1              98                0      0.0         1       0  \n",
              "3            0             108                1      1.5         2       1  \n",
              "4            0             122                0      0.0         1       0  "
            ]
          },
          "execution_count": 445,
          "metadata": {},
          "output_type": "execute_result"
        }
      ],
      "source": [
        "# Display the first 5 rows of the DataFrame\n",
        "df.head()"
      ]
    },
    {
      "cell_type": "code",
      "execution_count": 446,
      "metadata": {},
      "outputs": [
        {
          "data": {
            "application/vnd.microsoft.datawrangler.viewer.v0+json": {
              "columns": [
                {
                  "name": "index",
                  "rawType": "int64",
                  "type": "integer"
                },
                {
                  "name": "age",
                  "rawType": "int64",
                  "type": "integer"
                },
                {
                  "name": "sex",
                  "rawType": "int64",
                  "type": "integer"
                },
                {
                  "name": "chest pain type",
                  "rawType": "int64",
                  "type": "integer"
                },
                {
                  "name": "resting bp s",
                  "rawType": "int64",
                  "type": "integer"
                },
                {
                  "name": "cholesterol",
                  "rawType": "int64",
                  "type": "integer"
                },
                {
                  "name": "fasting blood sugar",
                  "rawType": "int64",
                  "type": "integer"
                },
                {
                  "name": "resting ecg",
                  "rawType": "int64",
                  "type": "integer"
                },
                {
                  "name": "max heart rate",
                  "rawType": "int64",
                  "type": "integer"
                },
                {
                  "name": "exercise angina",
                  "rawType": "int64",
                  "type": "integer"
                },
                {
                  "name": "oldpeak",
                  "rawType": "float64",
                  "type": "float"
                },
                {
                  "name": "ST slope",
                  "rawType": "int64",
                  "type": "integer"
                },
                {
                  "name": "target",
                  "rawType": "int64",
                  "type": "integer"
                }
              ],
              "ref": "86150b08-ffab-492c-8bc8-bd102cbae7c8",
              "rows": [
                [
                  "1185",
                  "45",
                  "1",
                  "1",
                  "110",
                  "264",
                  "0",
                  "0",
                  "132",
                  "0",
                  "1.2",
                  "2",
                  "1"
                ],
                [
                  "1186",
                  "68",
                  "1",
                  "4",
                  "144",
                  "193",
                  "1",
                  "0",
                  "141",
                  "0",
                  "3.4",
                  "2",
                  "1"
                ],
                [
                  "1187",
                  "57",
                  "1",
                  "4",
                  "130",
                  "131",
                  "0",
                  "0",
                  "115",
                  "1",
                  "1.2",
                  "2",
                  "1"
                ],
                [
                  "1188",
                  "57",
                  "0",
                  "2",
                  "130",
                  "236",
                  "0",
                  "2",
                  "174",
                  "0",
                  "0.0",
                  "2",
                  "1"
                ],
                [
                  "1189",
                  "38",
                  "1",
                  "3",
                  "138",
                  "175",
                  "0",
                  "0",
                  "173",
                  "0",
                  "0.0",
                  "1",
                  "0"
                ]
              ],
              "shape": {
                "columns": 12,
                "rows": 5
              }
            },
            "text/html": [
              "<div>\n",
              "<style scoped>\n",
              "    .dataframe tbody tr th:only-of-type {\n",
              "        vertical-align: middle;\n",
              "    }\n",
              "\n",
              "    .dataframe tbody tr th {\n",
              "        vertical-align: top;\n",
              "    }\n",
              "\n",
              "    .dataframe thead th {\n",
              "        text-align: right;\n",
              "    }\n",
              "</style>\n",
              "<table border=\"1\" class=\"dataframe\">\n",
              "  <thead>\n",
              "    <tr style=\"text-align: right;\">\n",
              "      <th></th>\n",
              "      <th>age</th>\n",
              "      <th>sex</th>\n",
              "      <th>chest pain type</th>\n",
              "      <th>resting bp s</th>\n",
              "      <th>cholesterol</th>\n",
              "      <th>fasting blood sugar</th>\n",
              "      <th>resting ecg</th>\n",
              "      <th>max heart rate</th>\n",
              "      <th>exercise angina</th>\n",
              "      <th>oldpeak</th>\n",
              "      <th>ST slope</th>\n",
              "      <th>target</th>\n",
              "    </tr>\n",
              "  </thead>\n",
              "  <tbody>\n",
              "    <tr>\n",
              "      <th>1185</th>\n",
              "      <td>45</td>\n",
              "      <td>1</td>\n",
              "      <td>1</td>\n",
              "      <td>110</td>\n",
              "      <td>264</td>\n",
              "      <td>0</td>\n",
              "      <td>0</td>\n",
              "      <td>132</td>\n",
              "      <td>0</td>\n",
              "      <td>1.2</td>\n",
              "      <td>2</td>\n",
              "      <td>1</td>\n",
              "    </tr>\n",
              "    <tr>\n",
              "      <th>1186</th>\n",
              "      <td>68</td>\n",
              "      <td>1</td>\n",
              "      <td>4</td>\n",
              "      <td>144</td>\n",
              "      <td>193</td>\n",
              "      <td>1</td>\n",
              "      <td>0</td>\n",
              "      <td>141</td>\n",
              "      <td>0</td>\n",
              "      <td>3.4</td>\n",
              "      <td>2</td>\n",
              "      <td>1</td>\n",
              "    </tr>\n",
              "    <tr>\n",
              "      <th>1187</th>\n",
              "      <td>57</td>\n",
              "      <td>1</td>\n",
              "      <td>4</td>\n",
              "      <td>130</td>\n",
              "      <td>131</td>\n",
              "      <td>0</td>\n",
              "      <td>0</td>\n",
              "      <td>115</td>\n",
              "      <td>1</td>\n",
              "      <td>1.2</td>\n",
              "      <td>2</td>\n",
              "      <td>1</td>\n",
              "    </tr>\n",
              "    <tr>\n",
              "      <th>1188</th>\n",
              "      <td>57</td>\n",
              "      <td>0</td>\n",
              "      <td>2</td>\n",
              "      <td>130</td>\n",
              "      <td>236</td>\n",
              "      <td>0</td>\n",
              "      <td>2</td>\n",
              "      <td>174</td>\n",
              "      <td>0</td>\n",
              "      <td>0.0</td>\n",
              "      <td>2</td>\n",
              "      <td>1</td>\n",
              "    </tr>\n",
              "    <tr>\n",
              "      <th>1189</th>\n",
              "      <td>38</td>\n",
              "      <td>1</td>\n",
              "      <td>3</td>\n",
              "      <td>138</td>\n",
              "      <td>175</td>\n",
              "      <td>0</td>\n",
              "      <td>0</td>\n",
              "      <td>173</td>\n",
              "      <td>0</td>\n",
              "      <td>0.0</td>\n",
              "      <td>1</td>\n",
              "      <td>0</td>\n",
              "    </tr>\n",
              "  </tbody>\n",
              "</table>\n",
              "</div>"
            ],
            "text/plain": [
              "      age  sex  chest pain type  resting bp s  cholesterol  \\\n",
              "1185   45    1                1           110          264   \n",
              "1186   68    1                4           144          193   \n",
              "1187   57    1                4           130          131   \n",
              "1188   57    0                2           130          236   \n",
              "1189   38    1                3           138          175   \n",
              "\n",
              "      fasting blood sugar  resting ecg  max heart rate  exercise angina  \\\n",
              "1185                    0            0             132                0   \n",
              "1186                    1            0             141                0   \n",
              "1187                    0            0             115                1   \n",
              "1188                    0            2             174                0   \n",
              "1189                    0            0             173                0   \n",
              "\n",
              "      oldpeak  ST slope  target  \n",
              "1185      1.2         2       1  \n",
              "1186      3.4         2       1  \n",
              "1187      1.2         2       1  \n",
              "1188      0.0         2       1  \n",
              "1189      0.0         1       0  "
            ]
          },
          "execution_count": 446,
          "metadata": {},
          "output_type": "execute_result"
        }
      ],
      "source": [
        "df.tail()"
      ]
    },
    {
      "cell_type": "code",
      "execution_count": 447,
      "metadata": {},
      "outputs": [
        {
          "data": {
            "text/plain": [
              "(1190, 12)"
            ]
          },
          "execution_count": 447,
          "metadata": {},
          "output_type": "execute_result"
        }
      ],
      "source": [
        "# Displays the shape attribute of the DataFrame\n",
        "df.shape"
      ]
    },
    {
      "cell_type": "code",
      "execution_count": 448,
      "metadata": {},
      "outputs": [
        {
          "name": "stdout",
          "output_type": "stream",
          "text": [
            "<class 'pandas.core.frame.DataFrame'>\n",
            "RangeIndex: 1190 entries, 0 to 1189\n",
            "Data columns (total 12 columns):\n",
            " #   Column               Non-Null Count  Dtype  \n",
            "---  ------               --------------  -----  \n",
            " 0   age                  1190 non-null   int64  \n",
            " 1   sex                  1190 non-null   int64  \n",
            " 2   chest pain type      1190 non-null   int64  \n",
            " 3   resting bp s         1190 non-null   int64  \n",
            " 4   cholesterol          1190 non-null   int64  \n",
            " 5   fasting blood sugar  1190 non-null   int64  \n",
            " 6   resting ecg          1190 non-null   int64  \n",
            " 7   max heart rate       1190 non-null   int64  \n",
            " 8   exercise angina      1190 non-null   int64  \n",
            " 9   oldpeak              1190 non-null   float64\n",
            " 10  ST slope             1190 non-null   int64  \n",
            " 11  target               1190 non-null   int64  \n",
            "dtypes: float64(1), int64(11)\n",
            "memory usage: 111.7 KB\n"
          ]
        }
      ],
      "source": [
        "# Display concise summary of the DataFrame 'df'\n",
        "df.info()"
      ]
    },
    {
      "cell_type": "code",
      "execution_count": 449,
      "metadata": {},
      "outputs": [
        {
          "data": {
            "text/plain": [
              "Index(['age', 'sex', 'chest pain type', 'resting bp s', 'cholesterol',\n",
              "       'fasting blood sugar', 'resting ecg', 'max heart rate',\n",
              "       'exercise angina', 'oldpeak', 'ST slope', 'target'],\n",
              "      dtype='object')"
            ]
          },
          "execution_count": 449,
          "metadata": {},
          "output_type": "execute_result"
        }
      ],
      "source": [
        "# Display the columns of the DataFrame df\n",
        "df.columns"
      ]
    },
    {
      "cell_type": "code",
      "execution_count": 450,
      "metadata": {},
      "outputs": [
        {
          "data": {
            "application/vnd.microsoft.datawrangler.viewer.v0+json": {
              "columns": [
                {
                  "name": "index",
                  "rawType": "object",
                  "type": "string"
                },
                {
                  "name": "0",
                  "rawType": "object",
                  "type": "unknown"
                }
              ],
              "ref": "0e882c66-605c-49c4-a8f7-fcea78af3ea3",
              "rows": [
                [
                  "age",
                  "int64"
                ],
                [
                  "sex",
                  "int64"
                ],
                [
                  "chest pain type",
                  "int64"
                ],
                [
                  "resting bp s",
                  "int64"
                ],
                [
                  "cholesterol",
                  "int64"
                ],
                [
                  "fasting blood sugar",
                  "int64"
                ],
                [
                  "resting ecg",
                  "int64"
                ],
                [
                  "max heart rate",
                  "int64"
                ],
                [
                  "exercise angina",
                  "int64"
                ],
                [
                  "oldpeak",
                  "float64"
                ],
                [
                  "ST slope",
                  "int64"
                ],
                [
                  "target",
                  "int64"
                ]
              ],
              "shape": {
                "columns": 1,
                "rows": 12
              }
            },
            "text/plain": [
              "age                      int64\n",
              "sex                      int64\n",
              "chest pain type          int64\n",
              "resting bp s             int64\n",
              "cholesterol              int64\n",
              "fasting blood sugar      int64\n",
              "resting ecg              int64\n",
              "max heart rate           int64\n",
              "exercise angina          int64\n",
              "oldpeak                float64\n",
              "ST slope                 int64\n",
              "target                   int64\n",
              "dtype: object"
            ]
          },
          "execution_count": 450,
          "metadata": {},
          "output_type": "execute_result"
        }
      ],
      "source": [
        "# Explore datatypes of the columns in the DataFrame\n",
        "\n",
        "df.dtypes"
      ]
    },
    {
      "cell_type": "markdown",
      "metadata": {},
      "source": [
        "#### 5. EXPLORATORY DATA ANALYSIS"
      ]
    },
    {
      "cell_type": "markdown",
      "metadata": {},
      "source": [
        "I. EDA Using Y data profiling"
      ]
    },
    {
      "cell_type": "code",
      "execution_count": 451,
      "metadata": {},
      "outputs": [
        {
          "name": "stderr",
          "output_type": "stream",
          "text": [
            "Summarize dataset: 100%|██████████| 46/46 [00:04<00:00, 10.19it/s, Completed]                             \n",
            "Generate report structure: 100%|██████████| 1/1 [00:03<00:00,  3.52s/it]\n",
            "Render HTML: 100%|██████████| 1/1 [00:00<00:00,  1.41it/s]\n",
            "Export report to file: 100%|██████████| 1/1 [00:00<00:00, 125.51it/s]\n"
          ]
        }
      ],
      "source": [
        "# EDA using ydata profiling\n",
        "from ydata_profiling import ProfileReport\n",
        "profile = ProfileReport(df, title=\"Heart Disease Dataset Profiling Report\", explorative=True)\n",
        "profile.to_file(\"heart_disease_profiling_report.html\")  # Save the report to an HTML file\n"
      ]
    },
    {
      "cell_type": "markdown",
      "metadata": {},
      "source": [
        "II.  Basic Summary statistics"
      ]
    },
    {
      "cell_type": "code",
      "execution_count": 462,
      "metadata": {},
      "outputs": [
        {
          "data": {
            "application/vnd.microsoft.datawrangler.viewer.v0+json": {
              "columns": [
                {
                  "name": "index",
                  "rawType": "object",
                  "type": "string"
                },
                {
                  "name": "age",
                  "rawType": "float64",
                  "type": "float"
                },
                {
                  "name": "sex",
                  "rawType": "float64",
                  "type": "float"
                },
                {
                  "name": "chest pain type",
                  "rawType": "float64",
                  "type": "float"
                },
                {
                  "name": "resting systolic bp",
                  "rawType": "float64",
                  "type": "float"
                },
                {
                  "name": "cholesterol",
                  "rawType": "float64",
                  "type": "float"
                },
                {
                  "name": "fasting blood sugar",
                  "rawType": "float64",
                  "type": "float"
                },
                {
                  "name": "resting ECG",
                  "rawType": "float64",
                  "type": "float"
                },
                {
                  "name": "max heart rate",
                  "rawType": "float64",
                  "type": "float"
                },
                {
                  "name": "exercise angina",
                  "rawType": "float64",
                  "type": "float"
                },
                {
                  "name": "ST depression",
                  "rawType": "float64",
                  "type": "float"
                },
                {
                  "name": "ST slope",
                  "rawType": "float64",
                  "type": "float"
                },
                {
                  "name": "target",
                  "rawType": "float64",
                  "type": "float"
                }
              ],
              "ref": "49fc21e8-821c-4b7e-a0d8-d21ee7147153",
              "rows": [
                [
                  "count",
                  "1190.0",
                  "1190.0",
                  "1190.0",
                  "1190.0",
                  "1190.0",
                  "1190.0",
                  "1190.0",
                  "1190.0",
                  "1190.0",
                  "1190.0",
                  "1190.0",
                  "1190.0"
                ],
                [
                  "mean",
                  "53.72016806722689",
                  "0.7638655462184873",
                  "3.2327731092436975",
                  "132.15378151260504",
                  "210.36386554621848",
                  "0.2134453781512605",
                  "0.6983193277310924",
                  "139.7327731092437",
                  "0.3873949579831933",
                  "0.9227731092436974",
                  "1.6243697478991597",
                  "0.5285714285714286"
                ],
                [
                  "std",
                  "9.358202797635386",
                  "0.4248843096754764",
                  "0.9354803611453992",
                  "18.36882341526594",
                  "101.42048904518876",
                  "0.4099117568473306",
                  "0.8703588379852838",
                  "25.517635548982874",
                  "0.48735992951791174",
                  "1.0863372185219862",
                  "0.6104592139541628",
                  "0.4993928790311868"
                ],
                [
                  "min",
                  "28.0",
                  "0.0",
                  "1.0",
                  "0.0",
                  "0.0",
                  "0.0",
                  "0.0",
                  "60.0",
                  "0.0",
                  "-2.6",
                  "0.0",
                  "0.0"
                ],
                [
                  "25%",
                  "47.0",
                  "1.0",
                  "3.0",
                  "120.0",
                  "188.0",
                  "0.0",
                  "0.0",
                  "121.0",
                  "0.0",
                  "0.0",
                  "1.0",
                  "0.0"
                ],
                [
                  "50%",
                  "54.0",
                  "1.0",
                  "4.0",
                  "130.0",
                  "229.0",
                  "0.0",
                  "0.0",
                  "140.5",
                  "0.0",
                  "0.6",
                  "2.0",
                  "1.0"
                ],
                [
                  "75%",
                  "60.0",
                  "1.0",
                  "4.0",
                  "140.0",
                  "269.75",
                  "0.0",
                  "2.0",
                  "160.0",
                  "1.0",
                  "1.6",
                  "2.0",
                  "1.0"
                ],
                [
                  "max",
                  "77.0",
                  "1.0",
                  "4.0",
                  "200.0",
                  "603.0",
                  "1.0",
                  "2.0",
                  "202.0",
                  "1.0",
                  "6.2",
                  "3.0",
                  "1.0"
                ]
              ],
              "shape": {
                "columns": 12,
                "rows": 8
              }
            },
            "text/html": [
              "<div>\n",
              "<style scoped>\n",
              "    .dataframe tbody tr th:only-of-type {\n",
              "        vertical-align: middle;\n",
              "    }\n",
              "\n",
              "    .dataframe tbody tr th {\n",
              "        vertical-align: top;\n",
              "    }\n",
              "\n",
              "    .dataframe thead th {\n",
              "        text-align: right;\n",
              "    }\n",
              "</style>\n",
              "<table border=\"1\" class=\"dataframe\">\n",
              "  <thead>\n",
              "    <tr style=\"text-align: right;\">\n",
              "      <th></th>\n",
              "      <th>age</th>\n",
              "      <th>sex</th>\n",
              "      <th>chest pain type</th>\n",
              "      <th>resting systolic bp</th>\n",
              "      <th>cholesterol</th>\n",
              "      <th>fasting blood sugar</th>\n",
              "      <th>resting ECG</th>\n",
              "      <th>max heart rate</th>\n",
              "      <th>exercise angina</th>\n",
              "      <th>ST depression</th>\n",
              "      <th>ST slope</th>\n",
              "      <th>target</th>\n",
              "    </tr>\n",
              "  </thead>\n",
              "  <tbody>\n",
              "    <tr>\n",
              "      <th>count</th>\n",
              "      <td>1190.000000</td>\n",
              "      <td>1190.000000</td>\n",
              "      <td>1190.000000</td>\n",
              "      <td>1190.000000</td>\n",
              "      <td>1190.000000</td>\n",
              "      <td>1190.000000</td>\n",
              "      <td>1190.000000</td>\n",
              "      <td>1190.000000</td>\n",
              "      <td>1190.000000</td>\n",
              "      <td>1190.000000</td>\n",
              "      <td>1190.000000</td>\n",
              "      <td>1190.000000</td>\n",
              "    </tr>\n",
              "    <tr>\n",
              "      <th>mean</th>\n",
              "      <td>53.720168</td>\n",
              "      <td>0.763866</td>\n",
              "      <td>3.232773</td>\n",
              "      <td>132.153782</td>\n",
              "      <td>210.363866</td>\n",
              "      <td>0.213445</td>\n",
              "      <td>0.698319</td>\n",
              "      <td>139.732773</td>\n",
              "      <td>0.387395</td>\n",
              "      <td>0.922773</td>\n",
              "      <td>1.624370</td>\n",
              "      <td>0.528571</td>\n",
              "    </tr>\n",
              "    <tr>\n",
              "      <th>std</th>\n",
              "      <td>9.358203</td>\n",
              "      <td>0.424884</td>\n",
              "      <td>0.935480</td>\n",
              "      <td>18.368823</td>\n",
              "      <td>101.420489</td>\n",
              "      <td>0.409912</td>\n",
              "      <td>0.870359</td>\n",
              "      <td>25.517636</td>\n",
              "      <td>0.487360</td>\n",
              "      <td>1.086337</td>\n",
              "      <td>0.610459</td>\n",
              "      <td>0.499393</td>\n",
              "    </tr>\n",
              "    <tr>\n",
              "      <th>min</th>\n",
              "      <td>28.000000</td>\n",
              "      <td>0.000000</td>\n",
              "      <td>1.000000</td>\n",
              "      <td>0.000000</td>\n",
              "      <td>0.000000</td>\n",
              "      <td>0.000000</td>\n",
              "      <td>0.000000</td>\n",
              "      <td>60.000000</td>\n",
              "      <td>0.000000</td>\n",
              "      <td>-2.600000</td>\n",
              "      <td>0.000000</td>\n",
              "      <td>0.000000</td>\n",
              "    </tr>\n",
              "    <tr>\n",
              "      <th>25%</th>\n",
              "      <td>47.000000</td>\n",
              "      <td>1.000000</td>\n",
              "      <td>3.000000</td>\n",
              "      <td>120.000000</td>\n",
              "      <td>188.000000</td>\n",
              "      <td>0.000000</td>\n",
              "      <td>0.000000</td>\n",
              "      <td>121.000000</td>\n",
              "      <td>0.000000</td>\n",
              "      <td>0.000000</td>\n",
              "      <td>1.000000</td>\n",
              "      <td>0.000000</td>\n",
              "    </tr>\n",
              "    <tr>\n",
              "      <th>50%</th>\n",
              "      <td>54.000000</td>\n",
              "      <td>1.000000</td>\n",
              "      <td>4.000000</td>\n",
              "      <td>130.000000</td>\n",
              "      <td>229.000000</td>\n",
              "      <td>0.000000</td>\n",
              "      <td>0.000000</td>\n",
              "      <td>140.500000</td>\n",
              "      <td>0.000000</td>\n",
              "      <td>0.600000</td>\n",
              "      <td>2.000000</td>\n",
              "      <td>1.000000</td>\n",
              "    </tr>\n",
              "    <tr>\n",
              "      <th>75%</th>\n",
              "      <td>60.000000</td>\n",
              "      <td>1.000000</td>\n",
              "      <td>4.000000</td>\n",
              "      <td>140.000000</td>\n",
              "      <td>269.750000</td>\n",
              "      <td>0.000000</td>\n",
              "      <td>2.000000</td>\n",
              "      <td>160.000000</td>\n",
              "      <td>1.000000</td>\n",
              "      <td>1.600000</td>\n",
              "      <td>2.000000</td>\n",
              "      <td>1.000000</td>\n",
              "    </tr>\n",
              "    <tr>\n",
              "      <th>max</th>\n",
              "      <td>77.000000</td>\n",
              "      <td>1.000000</td>\n",
              "      <td>4.000000</td>\n",
              "      <td>200.000000</td>\n",
              "      <td>603.000000</td>\n",
              "      <td>1.000000</td>\n",
              "      <td>2.000000</td>\n",
              "      <td>202.000000</td>\n",
              "      <td>1.000000</td>\n",
              "      <td>6.200000</td>\n",
              "      <td>3.000000</td>\n",
              "      <td>1.000000</td>\n",
              "    </tr>\n",
              "  </tbody>\n",
              "</table>\n",
              "</div>"
            ],
            "text/plain": [
              "               age          sex  chest pain type  resting systolic bp  \\\n",
              "count  1190.000000  1190.000000      1190.000000          1190.000000   \n",
              "mean     53.720168     0.763866         3.232773           132.153782   \n",
              "std       9.358203     0.424884         0.935480            18.368823   \n",
              "min      28.000000     0.000000         1.000000             0.000000   \n",
              "25%      47.000000     1.000000         3.000000           120.000000   \n",
              "50%      54.000000     1.000000         4.000000           130.000000   \n",
              "75%      60.000000     1.000000         4.000000           140.000000   \n",
              "max      77.000000     1.000000         4.000000           200.000000   \n",
              "\n",
              "       cholesterol  fasting blood sugar  resting ECG  max heart rate  \\\n",
              "count  1190.000000          1190.000000  1190.000000     1190.000000   \n",
              "mean    210.363866             0.213445     0.698319      139.732773   \n",
              "std     101.420489             0.409912     0.870359       25.517636   \n",
              "min       0.000000             0.000000     0.000000       60.000000   \n",
              "25%     188.000000             0.000000     0.000000      121.000000   \n",
              "50%     229.000000             0.000000     0.000000      140.500000   \n",
              "75%     269.750000             0.000000     2.000000      160.000000   \n",
              "max     603.000000             1.000000     2.000000      202.000000   \n",
              "\n",
              "       exercise angina  ST depression     ST slope       target  \n",
              "count      1190.000000    1190.000000  1190.000000  1190.000000  \n",
              "mean          0.387395       0.922773     1.624370     0.528571  \n",
              "std           0.487360       1.086337     0.610459     0.499393  \n",
              "min           0.000000      -2.600000     0.000000     0.000000  \n",
              "25%           0.000000       0.000000     1.000000     0.000000  \n",
              "50%           0.000000       0.600000     2.000000     1.000000  \n",
              "75%           1.000000       1.600000     2.000000     1.000000  \n",
              "max           1.000000       6.200000     3.000000     1.000000  "
            ]
          },
          "execution_count": 462,
          "metadata": {},
          "output_type": "execute_result"
        }
      ],
      "source": [
        "# Display basic summary statistics of the DataFrame\n",
        "df.describe()"
      ]
    },
    {
      "cell_type": "code",
      "execution_count": 465,
      "metadata": {},
      "outputs": [
        {
          "data": {
            "application/vnd.microsoft.datawrangler.viewer.v0+json": {
              "columns": [
                {
                  "name": "index",
                  "rawType": "object",
                  "type": "string"
                },
                {
                  "name": "sex",
                  "rawType": "int64",
                  "type": "integer"
                },
                {
                  "name": "chest pain type",
                  "rawType": "int64",
                  "type": "integer"
                },
                {
                  "name": "fasting blood sugar",
                  "rawType": "int64",
                  "type": "integer"
                },
                {
                  "name": "resting ECG",
                  "rawType": "int64",
                  "type": "integer"
                },
                {
                  "name": "exercise angina",
                  "rawType": "int64",
                  "type": "integer"
                },
                {
                  "name": "ST slope",
                  "rawType": "int64",
                  "type": "integer"
                },
                {
                  "name": "target",
                  "rawType": "int64",
                  "type": "integer"
                }
              ],
              "ref": "0f6d7753-f6db-45c7-8b65-f75960f34e2d",
              "rows": [
                [
                  "count",
                  "1190",
                  "1190",
                  "1190",
                  "1190",
                  "1190",
                  "1190",
                  "1190"
                ],
                [
                  "unique",
                  "2",
                  "4",
                  "2",
                  "3",
                  "2",
                  "4",
                  "2"
                ],
                [
                  "top",
                  "1",
                  "4",
                  "0",
                  "0",
                  "0",
                  "2",
                  "1"
                ],
                [
                  "freq",
                  "909",
                  "625",
                  "936",
                  "684",
                  "729",
                  "582",
                  "629"
                ]
              ],
              "shape": {
                "columns": 7,
                "rows": 4
              }
            },
            "text/html": [
              "<div>\n",
              "<style scoped>\n",
              "    .dataframe tbody tr th:only-of-type {\n",
              "        vertical-align: middle;\n",
              "    }\n",
              "\n",
              "    .dataframe tbody tr th {\n",
              "        vertical-align: top;\n",
              "    }\n",
              "\n",
              "    .dataframe thead th {\n",
              "        text-align: right;\n",
              "    }\n",
              "</style>\n",
              "<table border=\"1\" class=\"dataframe\">\n",
              "  <thead>\n",
              "    <tr style=\"text-align: right;\">\n",
              "      <th></th>\n",
              "      <th>sex</th>\n",
              "      <th>chest pain type</th>\n",
              "      <th>fasting blood sugar</th>\n",
              "      <th>resting ECG</th>\n",
              "      <th>exercise angina</th>\n",
              "      <th>ST slope</th>\n",
              "      <th>target</th>\n",
              "    </tr>\n",
              "  </thead>\n",
              "  <tbody>\n",
              "    <tr>\n",
              "      <th>count</th>\n",
              "      <td>1190</td>\n",
              "      <td>1190</td>\n",
              "      <td>1190</td>\n",
              "      <td>1190</td>\n",
              "      <td>1190</td>\n",
              "      <td>1190</td>\n",
              "      <td>1190</td>\n",
              "    </tr>\n",
              "    <tr>\n",
              "      <th>unique</th>\n",
              "      <td>2</td>\n",
              "      <td>4</td>\n",
              "      <td>2</td>\n",
              "      <td>3</td>\n",
              "      <td>2</td>\n",
              "      <td>4</td>\n",
              "      <td>2</td>\n",
              "    </tr>\n",
              "    <tr>\n",
              "      <th>top</th>\n",
              "      <td>1</td>\n",
              "      <td>4</td>\n",
              "      <td>0</td>\n",
              "      <td>0</td>\n",
              "      <td>0</td>\n",
              "      <td>2</td>\n",
              "      <td>1</td>\n",
              "    </tr>\n",
              "    <tr>\n",
              "      <th>freq</th>\n",
              "      <td>909</td>\n",
              "      <td>625</td>\n",
              "      <td>936</td>\n",
              "      <td>684</td>\n",
              "      <td>729</td>\n",
              "      <td>582</td>\n",
              "      <td>629</td>\n",
              "    </tr>\n",
              "  </tbody>\n",
              "</table>\n",
              "</div>"
            ],
            "text/plain": [
              "         sex  chest pain type  fasting blood sugar  resting ECG  \\\n",
              "count   1190             1190                 1190         1190   \n",
              "unique     2                4                    2            3   \n",
              "top        1                4                    0            0   \n",
              "freq     909              625                  936          684   \n",
              "\n",
              "        exercise angina  ST slope  target  \n",
              "count              1190      1190    1190  \n",
              "unique                2         4       2  \n",
              "top                   0         2       1  \n",
              "freq                729       582     629  "
            ]
          },
          "execution_count": 465,
          "metadata": {},
          "output_type": "execute_result"
        }
      ],
      "source": [
        "# Include categorical columns in the summary statistics\n",
        "df.describe(include='category')"
      ]
    },
    {
      "cell_type": "markdown",
      "metadata": {},
      "source": [
        "#### 6. DATA CLEANING AND NORMALISATION"
      ]
    },
    {
      "cell_type": "code",
      "execution_count": 454,
      "metadata": {},
      "outputs": [
        {
          "data": {
            "text/plain": [
              "Index(['age', 'sex', 'chest pain type', 'resting bp s', 'cholesterol',\n",
              "       'fasting blood sugar', 'resting ecg', 'max heart rate',\n",
              "       'exercise angina', 'oldpeak', 'ST slope', 'target'],\n",
              "      dtype='object')"
            ]
          },
          "execution_count": 454,
          "metadata": {},
          "output_type": "execute_result"
        }
      ],
      "source": [
        "# explore the columns in the DataFrame\n",
        "df.columns"
      ]
    },
    {
      "cell_type": "markdown",
      "metadata": {},
      "source": [
        "Rename Columns"
      ]
    },
    {
      "cell_type": "code",
      "execution_count": 456,
      "metadata": {},
      "outputs": [
        {
          "data": {
            "text/plain": [
              "Index(['age', 'sex', 'chest pain type', 'resting systolic bp', 'cholesterol',\n",
              "       'fasting blood sugar', 'resting ECG', 'max heart rate',\n",
              "       'exercise angina', 'ST depression', 'ST slope', 'target'],\n",
              "      dtype='object')"
            ]
          },
          "execution_count": 456,
          "metadata": {},
          "output_type": "execute_result"
        }
      ],
      "source": [
        "# rename the 'resting bp s' column to 'resting systolic'\n",
        "df.rename(columns={'resting bp s': 'resting systolic bp'}, inplace=True)\n",
        "# rename the oldpeak column to ST depression\n",
        "df.rename(columns={'oldpeak': 'ST depression'}, inplace=True)\n",
        "# rename the 'resting ecg' column to 'resting ECG'\n",
        "df.rename(columns={'resting ecg': 'resting ECG'}, inplace=True)\n",
        "# check the columns again to confirm the changes\n",
        "df.columns"
      ]
    },
    {
      "cell_type": "markdown",
      "metadata": {},
      "source": [
        "Confirm First 5 and Last 5 Rows Of The Dataframe df"
      ]
    },
    {
      "cell_type": "code",
      "execution_count": 459,
      "metadata": {},
      "outputs": [
        {
          "data": {
            "application/vnd.microsoft.datawrangler.viewer.v0+json": {
              "columns": [
                {
                  "name": "index",
                  "rawType": "int64",
                  "type": "integer"
                },
                {
                  "name": "age",
                  "rawType": "int64",
                  "type": "integer"
                },
                {
                  "name": "sex",
                  "rawType": "int64",
                  "type": "integer"
                },
                {
                  "name": "chest pain type",
                  "rawType": "int64",
                  "type": "integer"
                },
                {
                  "name": "resting systolic bp",
                  "rawType": "int64",
                  "type": "integer"
                },
                {
                  "name": "cholesterol",
                  "rawType": "int64",
                  "type": "integer"
                },
                {
                  "name": "fasting blood sugar",
                  "rawType": "int64",
                  "type": "integer"
                },
                {
                  "name": "resting ECG",
                  "rawType": "int64",
                  "type": "integer"
                },
                {
                  "name": "max heart rate",
                  "rawType": "int64",
                  "type": "integer"
                },
                {
                  "name": "exercise angina",
                  "rawType": "int64",
                  "type": "integer"
                },
                {
                  "name": "ST depression",
                  "rawType": "float64",
                  "type": "float"
                },
                {
                  "name": "ST slope",
                  "rawType": "int64",
                  "type": "integer"
                },
                {
                  "name": "target",
                  "rawType": "int64",
                  "type": "integer"
                }
              ],
              "ref": "e04ced39-620b-45dc-8454-bead2a372f13",
              "rows": [
                [
                  "0",
                  "40",
                  "1",
                  "2",
                  "140",
                  "289",
                  "0",
                  "0",
                  "172",
                  "0",
                  "0.0",
                  "1",
                  "0"
                ],
                [
                  "1",
                  "49",
                  "0",
                  "3",
                  "160",
                  "180",
                  "0",
                  "0",
                  "156",
                  "0",
                  "1.0",
                  "2",
                  "1"
                ],
                [
                  "2",
                  "37",
                  "1",
                  "2",
                  "130",
                  "283",
                  "0",
                  "1",
                  "98",
                  "0",
                  "0.0",
                  "1",
                  "0"
                ],
                [
                  "3",
                  "48",
                  "0",
                  "4",
                  "138",
                  "214",
                  "0",
                  "0",
                  "108",
                  "1",
                  "1.5",
                  "2",
                  "1"
                ],
                [
                  "4",
                  "54",
                  "1",
                  "3",
                  "150",
                  "195",
                  "0",
                  "0",
                  "122",
                  "0",
                  "0.0",
                  "1",
                  "0"
                ]
              ],
              "shape": {
                "columns": 12,
                "rows": 5
              }
            },
            "text/html": [
              "<div>\n",
              "<style scoped>\n",
              "    .dataframe tbody tr th:only-of-type {\n",
              "        vertical-align: middle;\n",
              "    }\n",
              "\n",
              "    .dataframe tbody tr th {\n",
              "        vertical-align: top;\n",
              "    }\n",
              "\n",
              "    .dataframe thead th {\n",
              "        text-align: right;\n",
              "    }\n",
              "</style>\n",
              "<table border=\"1\" class=\"dataframe\">\n",
              "  <thead>\n",
              "    <tr style=\"text-align: right;\">\n",
              "      <th></th>\n",
              "      <th>age</th>\n",
              "      <th>sex</th>\n",
              "      <th>chest pain type</th>\n",
              "      <th>resting systolic bp</th>\n",
              "      <th>cholesterol</th>\n",
              "      <th>fasting blood sugar</th>\n",
              "      <th>resting ECG</th>\n",
              "      <th>max heart rate</th>\n",
              "      <th>exercise angina</th>\n",
              "      <th>ST depression</th>\n",
              "      <th>ST slope</th>\n",
              "      <th>target</th>\n",
              "    </tr>\n",
              "  </thead>\n",
              "  <tbody>\n",
              "    <tr>\n",
              "      <th>0</th>\n",
              "      <td>40</td>\n",
              "      <td>1</td>\n",
              "      <td>2</td>\n",
              "      <td>140</td>\n",
              "      <td>289</td>\n",
              "      <td>0</td>\n",
              "      <td>0</td>\n",
              "      <td>172</td>\n",
              "      <td>0</td>\n",
              "      <td>0.0</td>\n",
              "      <td>1</td>\n",
              "      <td>0</td>\n",
              "    </tr>\n",
              "    <tr>\n",
              "      <th>1</th>\n",
              "      <td>49</td>\n",
              "      <td>0</td>\n",
              "      <td>3</td>\n",
              "      <td>160</td>\n",
              "      <td>180</td>\n",
              "      <td>0</td>\n",
              "      <td>0</td>\n",
              "      <td>156</td>\n",
              "      <td>0</td>\n",
              "      <td>1.0</td>\n",
              "      <td>2</td>\n",
              "      <td>1</td>\n",
              "    </tr>\n",
              "    <tr>\n",
              "      <th>2</th>\n",
              "      <td>37</td>\n",
              "      <td>1</td>\n",
              "      <td>2</td>\n",
              "      <td>130</td>\n",
              "      <td>283</td>\n",
              "      <td>0</td>\n",
              "      <td>1</td>\n",
              "      <td>98</td>\n",
              "      <td>0</td>\n",
              "      <td>0.0</td>\n",
              "      <td>1</td>\n",
              "      <td>0</td>\n",
              "    </tr>\n",
              "    <tr>\n",
              "      <th>3</th>\n",
              "      <td>48</td>\n",
              "      <td>0</td>\n",
              "      <td>4</td>\n",
              "      <td>138</td>\n",
              "      <td>214</td>\n",
              "      <td>0</td>\n",
              "      <td>0</td>\n",
              "      <td>108</td>\n",
              "      <td>1</td>\n",
              "      <td>1.5</td>\n",
              "      <td>2</td>\n",
              "      <td>1</td>\n",
              "    </tr>\n",
              "    <tr>\n",
              "      <th>4</th>\n",
              "      <td>54</td>\n",
              "      <td>1</td>\n",
              "      <td>3</td>\n",
              "      <td>150</td>\n",
              "      <td>195</td>\n",
              "      <td>0</td>\n",
              "      <td>0</td>\n",
              "      <td>122</td>\n",
              "      <td>0</td>\n",
              "      <td>0.0</td>\n",
              "      <td>1</td>\n",
              "      <td>0</td>\n",
              "    </tr>\n",
              "  </tbody>\n",
              "</table>\n",
              "</div>"
            ],
            "text/plain": [
              "   age  sex  chest pain type  resting systolic bp  cholesterol  \\\n",
              "0   40    1                2                  140          289   \n",
              "1   49    0                3                  160          180   \n",
              "2   37    1                2                  130          283   \n",
              "3   48    0                4                  138          214   \n",
              "4   54    1                3                  150          195   \n",
              "\n",
              "   fasting blood sugar  resting ECG  max heart rate  exercise angina  \\\n",
              "0                    0            0             172                0   \n",
              "1                    0            0             156                0   \n",
              "2                    0            1              98                0   \n",
              "3                    0            0             108                1   \n",
              "4                    0            0             122                0   \n",
              "\n",
              "   ST depression  ST slope  target  \n",
              "0            0.0         1       0  \n",
              "1            1.0         2       1  \n",
              "2            0.0         1       0  \n",
              "3            1.5         2       1  \n",
              "4            0.0         1       0  "
            ]
          },
          "execution_count": 459,
          "metadata": {},
          "output_type": "execute_result"
        }
      ],
      "source": [
        "df.head()  # Display the first few rows of the DataFrame"
      ]
    },
    {
      "cell_type": "code",
      "execution_count": 463,
      "metadata": {},
      "outputs": [
        {
          "data": {
            "application/vnd.microsoft.datawrangler.viewer.v0+json": {
              "columns": [
                {
                  "name": "index",
                  "rawType": "int64",
                  "type": "integer"
                },
                {
                  "name": "age",
                  "rawType": "int64",
                  "type": "integer"
                },
                {
                  "name": "sex",
                  "rawType": "int64",
                  "type": "integer"
                },
                {
                  "name": "chest pain type",
                  "rawType": "int64",
                  "type": "integer"
                },
                {
                  "name": "resting systolic bp",
                  "rawType": "int64",
                  "type": "integer"
                },
                {
                  "name": "cholesterol",
                  "rawType": "int64",
                  "type": "integer"
                },
                {
                  "name": "fasting blood sugar",
                  "rawType": "int64",
                  "type": "integer"
                },
                {
                  "name": "resting ECG",
                  "rawType": "int64",
                  "type": "integer"
                },
                {
                  "name": "max heart rate",
                  "rawType": "int64",
                  "type": "integer"
                },
                {
                  "name": "exercise angina",
                  "rawType": "int64",
                  "type": "integer"
                },
                {
                  "name": "ST depression",
                  "rawType": "float64",
                  "type": "float"
                },
                {
                  "name": "ST slope",
                  "rawType": "int64",
                  "type": "integer"
                },
                {
                  "name": "target",
                  "rawType": "int64",
                  "type": "integer"
                }
              ],
              "ref": "9b1dc26b-f861-44b6-b5a4-fb629ad38052",
              "rows": [
                [
                  "1185",
                  "45",
                  "1",
                  "1",
                  "110",
                  "264",
                  "0",
                  "0",
                  "132",
                  "0",
                  "1.2",
                  "2",
                  "1"
                ],
                [
                  "1186",
                  "68",
                  "1",
                  "4",
                  "144",
                  "193",
                  "1",
                  "0",
                  "141",
                  "0",
                  "3.4",
                  "2",
                  "1"
                ],
                [
                  "1187",
                  "57",
                  "1",
                  "4",
                  "130",
                  "131",
                  "0",
                  "0",
                  "115",
                  "1",
                  "1.2",
                  "2",
                  "1"
                ],
                [
                  "1188",
                  "57",
                  "0",
                  "2",
                  "130",
                  "236",
                  "0",
                  "2",
                  "174",
                  "0",
                  "0.0",
                  "2",
                  "1"
                ],
                [
                  "1189",
                  "38",
                  "1",
                  "3",
                  "138",
                  "175",
                  "0",
                  "0",
                  "173",
                  "0",
                  "0.0",
                  "1",
                  "0"
                ]
              ],
              "shape": {
                "columns": 12,
                "rows": 5
              }
            },
            "text/html": [
              "<div>\n",
              "<style scoped>\n",
              "    .dataframe tbody tr th:only-of-type {\n",
              "        vertical-align: middle;\n",
              "    }\n",
              "\n",
              "    .dataframe tbody tr th {\n",
              "        vertical-align: top;\n",
              "    }\n",
              "\n",
              "    .dataframe thead th {\n",
              "        text-align: right;\n",
              "    }\n",
              "</style>\n",
              "<table border=\"1\" class=\"dataframe\">\n",
              "  <thead>\n",
              "    <tr style=\"text-align: right;\">\n",
              "      <th></th>\n",
              "      <th>age</th>\n",
              "      <th>sex</th>\n",
              "      <th>chest pain type</th>\n",
              "      <th>resting systolic bp</th>\n",
              "      <th>cholesterol</th>\n",
              "      <th>fasting blood sugar</th>\n",
              "      <th>resting ECG</th>\n",
              "      <th>max heart rate</th>\n",
              "      <th>exercise angina</th>\n",
              "      <th>ST depression</th>\n",
              "      <th>ST slope</th>\n",
              "      <th>target</th>\n",
              "    </tr>\n",
              "  </thead>\n",
              "  <tbody>\n",
              "    <tr>\n",
              "      <th>1185</th>\n",
              "      <td>45</td>\n",
              "      <td>1</td>\n",
              "      <td>1</td>\n",
              "      <td>110</td>\n",
              "      <td>264</td>\n",
              "      <td>0</td>\n",
              "      <td>0</td>\n",
              "      <td>132</td>\n",
              "      <td>0</td>\n",
              "      <td>1.2</td>\n",
              "      <td>2</td>\n",
              "      <td>1</td>\n",
              "    </tr>\n",
              "    <tr>\n",
              "      <th>1186</th>\n",
              "      <td>68</td>\n",
              "      <td>1</td>\n",
              "      <td>4</td>\n",
              "      <td>144</td>\n",
              "      <td>193</td>\n",
              "      <td>1</td>\n",
              "      <td>0</td>\n",
              "      <td>141</td>\n",
              "      <td>0</td>\n",
              "      <td>3.4</td>\n",
              "      <td>2</td>\n",
              "      <td>1</td>\n",
              "    </tr>\n",
              "    <tr>\n",
              "      <th>1187</th>\n",
              "      <td>57</td>\n",
              "      <td>1</td>\n",
              "      <td>4</td>\n",
              "      <td>130</td>\n",
              "      <td>131</td>\n",
              "      <td>0</td>\n",
              "      <td>0</td>\n",
              "      <td>115</td>\n",
              "      <td>1</td>\n",
              "      <td>1.2</td>\n",
              "      <td>2</td>\n",
              "      <td>1</td>\n",
              "    </tr>\n",
              "    <tr>\n",
              "      <th>1188</th>\n",
              "      <td>57</td>\n",
              "      <td>0</td>\n",
              "      <td>2</td>\n",
              "      <td>130</td>\n",
              "      <td>236</td>\n",
              "      <td>0</td>\n",
              "      <td>2</td>\n",
              "      <td>174</td>\n",
              "      <td>0</td>\n",
              "      <td>0.0</td>\n",
              "      <td>2</td>\n",
              "      <td>1</td>\n",
              "    </tr>\n",
              "    <tr>\n",
              "      <th>1189</th>\n",
              "      <td>38</td>\n",
              "      <td>1</td>\n",
              "      <td>3</td>\n",
              "      <td>138</td>\n",
              "      <td>175</td>\n",
              "      <td>0</td>\n",
              "      <td>0</td>\n",
              "      <td>173</td>\n",
              "      <td>0</td>\n",
              "      <td>0.0</td>\n",
              "      <td>1</td>\n",
              "      <td>0</td>\n",
              "    </tr>\n",
              "  </tbody>\n",
              "</table>\n",
              "</div>"
            ],
            "text/plain": [
              "      age  sex  chest pain type  resting systolic bp  cholesterol  \\\n",
              "1185   45    1                1                  110          264   \n",
              "1186   68    1                4                  144          193   \n",
              "1187   57    1                4                  130          131   \n",
              "1188   57    0                2                  130          236   \n",
              "1189   38    1                3                  138          175   \n",
              "\n",
              "      fasting blood sugar  resting ECG  max heart rate  exercise angina  \\\n",
              "1185                    0            0             132                0   \n",
              "1186                    1            0             141                0   \n",
              "1187                    0            0             115                1   \n",
              "1188                    0            2             174                0   \n",
              "1189                    0            0             173                0   \n",
              "\n",
              "      ST depression  ST slope  target  \n",
              "1185            1.2         2       1  \n",
              "1186            3.4         2       1  \n",
              "1187            1.2         2       1  \n",
              "1188            0.0         2       1  \n",
              "1189            0.0         1       0  "
            ]
          },
          "execution_count": 463,
          "metadata": {},
          "output_type": "execute_result"
        }
      ],
      "source": [
        "\n",
        "df.tail()  # Display the last few rows of the DataFrame"
      ]
    },
    {
      "cell_type": "markdown",
      "metadata": {},
      "source": [
        "Fix Or Normalise Categorical Datatypes"
      ]
    },
    {
      "cell_type": "code",
      "execution_count": 464,
      "metadata": {},
      "outputs": [
        {
          "name": "stdout",
          "output_type": "stream",
          "text": [
            "<class 'pandas.core.frame.DataFrame'>\n",
            "RangeIndex: 1190 entries, 0 to 1189\n",
            "Data columns (total 12 columns):\n",
            " #   Column               Non-Null Count  Dtype   \n",
            "---  ------               --------------  -----   \n",
            " 0   age                  1190 non-null   int64   \n",
            " 1   sex                  1190 non-null   category\n",
            " 2   chest pain type      1190 non-null   category\n",
            " 3   resting systolic bp  1190 non-null   int64   \n",
            " 4   cholesterol          1190 non-null   int64   \n",
            " 5   fasting blood sugar  1190 non-null   category\n",
            " 6   resting ECG          1190 non-null   category\n",
            " 7   max heart rate       1190 non-null   int64   \n",
            " 8   exercise angina      1190 non-null   category\n",
            " 9   ST depression        1190 non-null   float64 \n",
            " 10  ST slope             1190 non-null   category\n",
            " 11  target               1190 non-null   category\n",
            "dtypes: category(7), float64(1), int64(4)\n",
            "memory usage: 55.8 KB\n"
          ]
        }
      ],
      "source": [
        "# convert to categorical datatypes\n",
        "\n",
        "df['sex'] = df['sex'].astype('category')\n",
        "df['chest pain type'] = df['chest pain type'].astype('category')\n",
        "df['fasting blood sugar'] = df['fasting blood sugar'].astype('category')\n",
        "df['resting ECG'] = df['resting ECG'].astype('category')\n",
        "df['exercise angina'] = df['exercise angina'].astype('category')\n",
        "df['ST slope'] = df['ST slope'].astype('category')\n",
        "df['target'] = df['target'].astype('category')\n",
        "\n",
        "# Display the updated DataFrame with new data types\n",
        "df.info()\n",
        "\n",
        "\n"
      ]
    },
    {
      "cell_type": "markdown",
      "metadata": {},
      "source": [
        "Check For Missing Values and Replace Missing Values"
      ]
    },
    {
      "cell_type": "code",
      "execution_count": 466,
      "metadata": {},
      "outputs": [
        {
          "data": {
            "application/vnd.microsoft.datawrangler.viewer.v0+json": {
              "columns": [
                {
                  "name": "index",
                  "rawType": "object",
                  "type": "string"
                },
                {
                  "name": "0",
                  "rawType": "int64",
                  "type": "integer"
                }
              ],
              "ref": "b262d6f7-87da-4eb7-ba8e-3d4926d46239",
              "rows": [
                [
                  "age",
                  "0"
                ],
                [
                  "sex",
                  "0"
                ],
                [
                  "chest pain type",
                  "0"
                ],
                [
                  "resting systolic bp",
                  "0"
                ],
                [
                  "cholesterol",
                  "0"
                ],
                [
                  "fasting blood sugar",
                  "0"
                ],
                [
                  "resting ECG",
                  "0"
                ],
                [
                  "max heart rate",
                  "0"
                ],
                [
                  "exercise angina",
                  "0"
                ],
                [
                  "ST depression",
                  "0"
                ],
                [
                  "ST slope",
                  "0"
                ],
                [
                  "target",
                  "0"
                ]
              ],
              "shape": {
                "columns": 1,
                "rows": 12
              }
            },
            "text/plain": [
              "age                    0\n",
              "sex                    0\n",
              "chest pain type        0\n",
              "resting systolic bp    0\n",
              "cholesterol            0\n",
              "fasting blood sugar    0\n",
              "resting ECG            0\n",
              "max heart rate         0\n",
              "exercise angina        0\n",
              "ST depression          0\n",
              "ST slope               0\n",
              "target                 0\n",
              "dtype: int64"
            ]
          },
          "execution_count": 466,
          "metadata": {},
          "output_type": "execute_result"
        }
      ],
      "source": [
        "# Check for missing values in the DataFrame\n",
        "df.isnull().sum()"
      ]
    },
    {
      "cell_type": "markdown",
      "metadata": {},
      "source": [
        "Remove Duplicates"
      ]
    },
    {
      "cell_type": "code",
      "execution_count": 467,
      "metadata": {},
      "outputs": [],
      "source": [
        "# remove duplicates from the DataFrame\n",
        "df.drop_duplicates(inplace=True)"
      ]
    },
    {
      "cell_type": "code",
      "execution_count": 468,
      "metadata": {},
      "outputs": [
        {
          "name": "stdout",
          "output_type": "stream",
          "text": [
            "<class 'pandas.core.frame.DataFrame'>\n",
            "Index: 918 entries, 0 to 1189\n",
            "Data columns (total 12 columns):\n",
            " #   Column               Non-Null Count  Dtype   \n",
            "---  ------               --------------  -----   \n",
            " 0   age                  918 non-null    int64   \n",
            " 1   sex                  918 non-null    category\n",
            " 2   chest pain type      918 non-null    category\n",
            " 3   resting systolic bp  918 non-null    int64   \n",
            " 4   cholesterol          918 non-null    int64   \n",
            " 5   fasting blood sugar  918 non-null    category\n",
            " 6   resting ECG          918 non-null    category\n",
            " 7   max heart rate       918 non-null    int64   \n",
            " 8   exercise angina      918 non-null    category\n",
            " 9   ST depression        918 non-null    float64 \n",
            " 10  ST slope             918 non-null    category\n",
            " 11  target               918 non-null    category\n",
            "dtypes: category(7), float64(1), int64(4)\n",
            "memory usage: 50.3 KB\n"
          ]
        }
      ],
      "source": [
        "df.info()"
      ]
    },
    {
      "cell_type": "markdown",
      "metadata": {},
      "source": [
        "#### 7. DATA AUGMENTATION"
      ]
    },
    {
      "cell_type": "markdown",
      "metadata": {},
      "source": [
        "Explore Second Datasets df2, Rename Required Columns and Add Required Columns to First Datasets (df)"
      ]
    },
    {
      "cell_type": "code",
      "execution_count": 469,
      "metadata": {},
      "outputs": [
        {
          "name": "stdout",
          "output_type": "stream",
          "text": [
            "<class 'pandas.core.frame.DataFrame'>\n",
            "RangeIndex: 898 entries, 0 to 897\n",
            "Data columns (total 76 columns):\n",
            " #   Column  Non-Null Count  Dtype  \n",
            "---  ------  --------------  -----  \n",
            " 0   1       898 non-null    int64  \n",
            " 1   0       898 non-null    int64  \n",
            " 2   63      898 non-null    int64  \n",
            " 3   1.1     898 non-null    int64  \n",
            " 4   -9      898 non-null    int64  \n",
            " 5   -9.1    898 non-null    int64  \n",
            " 6   -9.2    898 non-null    int64  \n",
            " 7   -9.3    898 non-null    int64  \n",
            " 8   1.2     898 non-null    int64  \n",
            " 9   145     898 non-null    int64  \n",
            " 10  1.3     898 non-null    int64  \n",
            " 11  233     898 non-null    int64  \n",
            " 12  -9.4    898 non-null    int64  \n",
            " 13  50      898 non-null    int64  \n",
            " 14  20      898 non-null    int64  \n",
            " 15  1.4     898 non-null    int64  \n",
            " 16  -9.5    898 non-null    int64  \n",
            " 17  1.5     898 non-null    int64  \n",
            " 18  2       898 non-null    int64  \n",
            " 19  2.1     898 non-null    int64  \n",
            " 20  3       898 non-null    int64  \n",
            " 21  81      898 non-null    int64  \n",
            " 22  0.1     898 non-null    int64  \n",
            " 23  0.2     898 non-null    int64  \n",
            " 24  0.3     898 non-null    int64  \n",
            " 25  0.4     898 non-null    int64  \n",
            " 26  0.5     898 non-null    int64  \n",
            " 27  1.6     898 non-null    int64  \n",
            " 28  10.5    898 non-null    float64\n",
            " 29  6       898 non-null    float64\n",
            " 30  13      898 non-null    float64\n",
            " 31  150     898 non-null    int64  \n",
            " 32  60      898 non-null    int64  \n",
            " 33  190     898 non-null    int64  \n",
            " 34  90      898 non-null    int64  \n",
            " 35  145.1   898 non-null    int64  \n",
            " 36  85      898 non-null    int64  \n",
            " 37  0.6     898 non-null    int64  \n",
            " 38  0.7     898 non-null    int64  \n",
            " 39  2.3     898 non-null    float64\n",
            " 40  3.1     898 non-null    int64  \n",
            " 41  -9.6    898 non-null    int64  \n",
            " 42  172     898 non-null    int64  \n",
            " 43  0.8     898 non-null    int64  \n",
            " 44  -9.7    898 non-null    int64  \n",
            " 45  -9.8    898 non-null    int64  \n",
            " 46  -9.9    898 non-null    float64\n",
            " 47  -9.10   898 non-null    int64  \n",
            " 48  -9.11   898 non-null    float64\n",
            " 49  -9.12   898 non-null    int64  \n",
            " 50  6.1     898 non-null    int64  \n",
            " 51  -9.13   898 non-null    int64  \n",
            " 52  -9.14   898 non-null    int64  \n",
            " 53  -9.15   898 non-null    int64  \n",
            " 54  2.2     898 non-null    int64  \n",
            " 55  16      898 non-null    int64  \n",
            " 56  81.1    898 non-null    int64  \n",
            " 57  0.9     898 non-null    int64  \n",
            " 58  1.7     898 non-null    int64  \n",
            " 59  1.8     898 non-null    int64  \n",
            " 60  1.9     898 non-null    int64  \n",
            " 61  -9.16   898 non-null    int64  \n",
            " 62  1.10    898 non-null    int64  \n",
            " 63  -9.17   898 non-null    int64  \n",
            " 64  1.11    898 non-null    int64  \n",
            " 65  -9.18   898 non-null    int64  \n",
            " 66  1.12    898 non-null    int64  \n",
            " 67  1.13    898 non-null    int64  \n",
            " 68  1.14    898 non-null    int64  \n",
            " 69  1.15    898 non-null    int64  \n",
            " 70  1.16    898 non-null    int64  \n",
            " 71  1.17    898 non-null    int64  \n",
            " 72  1.18    898 non-null    int64  \n",
            " 73  -9.19   898 non-null    float64\n",
            " 74  -9.20   898 non-null    float64\n",
            " 75  name    898 non-null    object \n",
            "dtypes: float64(8), int64(67), object(1)\n",
            "memory usage: 533.3+ KB\n"
          ]
        }
      ],
      "source": [
        "# Note Key provided manually by the data collector and will be added to the ReadMe file\n",
        "# Load the second dataset into a DataFrame and display information about it\n",
        "df2 = pd.read_csv(\"../datasets/heart_disease_integrated.csv\")\n",
        "df2.info()\n"
      ]
    },
    {
      "cell_type": "code",
      "execution_count": 470,
      "metadata": {},
      "outputs": [
        {
          "data": {
            "text/plain": [
              "(898, 76)"
            ]
          },
          "execution_count": 470,
          "metadata": {},
          "output_type": "execute_result"
        }
      ],
      "source": [
        "# explore the shape of the DataFrame DF2\n",
        "df2.shape"
      ]
    },
    {
      "cell_type": "markdown",
      "metadata": {},
      "source": [
        "Rename Two Useful Columns For This Project"
      ]
    },
    {
      "cell_type": "code",
      "execution_count": 471,
      "metadata": {},
      "outputs": [
        {
          "name": "stdout",
          "output_type": "stream",
          "text": [
            "<class 'pandas.core.frame.DataFrame'>\n",
            "RangeIndex: 898 entries, 0 to 897\n",
            "Data columns (total 76 columns):\n",
            " #   Column          Non-Null Count  Dtype  \n",
            "---  ------          --------------  -----  \n",
            " 0   1               898 non-null    int64  \n",
            " 1   0               898 non-null    int64  \n",
            " 2   63              898 non-null    int64  \n",
            " 3   1.1             898 non-null    int64  \n",
            " 4   -9              898 non-null    int64  \n",
            " 5   -9.1            898 non-null    int64  \n",
            " 6   -9.2            898 non-null    int64  \n",
            " 7   -9.3            898 non-null    int64  \n",
            " 8   1.2             898 non-null    int64  \n",
            " 9   145             898 non-null    int64  \n",
            " 10  hypertension    898 non-null    int64  \n",
            " 11  233             898 non-null    int64  \n",
            " 12  -9.4            898 non-null    int64  \n",
            " 13  50              898 non-null    int64  \n",
            " 14  20              898 non-null    int64  \n",
            " 15  1.4             898 non-null    int64  \n",
            " 16  -9.5            898 non-null    int64  \n",
            " 17  family history  898 non-null    int64  \n",
            " 18  2               898 non-null    int64  \n",
            " 19  2.1             898 non-null    int64  \n",
            " 20  3               898 non-null    int64  \n",
            " 21  81              898 non-null    int64  \n",
            " 22  0.1             898 non-null    int64  \n",
            " 23  0.2             898 non-null    int64  \n",
            " 24  0.3             898 non-null    int64  \n",
            " 25  0.4             898 non-null    int64  \n",
            " 26  0.5             898 non-null    int64  \n",
            " 27  1.6             898 non-null    int64  \n",
            " 28  10.5            898 non-null    float64\n",
            " 29  6               898 non-null    float64\n",
            " 30  13              898 non-null    float64\n",
            " 31  150             898 non-null    int64  \n",
            " 32  60              898 non-null    int64  \n",
            " 33  190             898 non-null    int64  \n",
            " 34  90              898 non-null    int64  \n",
            " 35  145.1           898 non-null    int64  \n",
            " 36  85              898 non-null    int64  \n",
            " 37  0.6             898 non-null    int64  \n",
            " 38  0.7             898 non-null    int64  \n",
            " 39  2.3             898 non-null    float64\n",
            " 40  3.1             898 non-null    int64  \n",
            " 41  -9.6            898 non-null    int64  \n",
            " 42  172             898 non-null    int64  \n",
            " 43  0.8             898 non-null    int64  \n",
            " 44  -9.7            898 non-null    int64  \n",
            " 45  -9.8            898 non-null    int64  \n",
            " 46  -9.9            898 non-null    float64\n",
            " 47  -9.10           898 non-null    int64  \n",
            " 48  -9.11           898 non-null    float64\n",
            " 49  -9.12           898 non-null    int64  \n",
            " 50  6.1             898 non-null    int64  \n",
            " 51  -9.13           898 non-null    int64  \n",
            " 52  -9.14           898 non-null    int64  \n",
            " 53  -9.15           898 non-null    int64  \n",
            " 54  2.2             898 non-null    int64  \n",
            " 55  16              898 non-null    int64  \n",
            " 56  81.1            898 non-null    int64  \n",
            " 57  0.9             898 non-null    int64  \n",
            " 58  1.7             898 non-null    int64  \n",
            " 59  1.8             898 non-null    int64  \n",
            " 60  1.9             898 non-null    int64  \n",
            " 61  -9.16           898 non-null    int64  \n",
            " 62  1.10            898 non-null    int64  \n",
            " 63  -9.17           898 non-null    int64  \n",
            " 64  1.11            898 non-null    int64  \n",
            " 65  -9.18           898 non-null    int64  \n",
            " 66  1.12            898 non-null    int64  \n",
            " 67  1.13            898 non-null    int64  \n",
            " 68  1.14            898 non-null    int64  \n",
            " 69  1.15            898 non-null    int64  \n",
            " 70  1.16            898 non-null    int64  \n",
            " 71  1.17            898 non-null    int64  \n",
            " 72  1.18            898 non-null    int64  \n",
            " 73  -9.19           898 non-null    float64\n",
            " 74  -9.20           898 non-null    float64\n",
            " 75  name            898 non-null    object \n",
            "dtypes: float64(8), int64(67), object(1)\n",
            "memory usage: 533.3+ KB\n"
          ]
        }
      ],
      "source": [
        "# rename columns from the second DataFrame \n",
        "df2.rename(columns={\n",
        "    '1.3': 'hypertension',\n",
        "    '1.5': 'family history'\n",
        "}, inplace=True)\n",
        "df2.info()"
      ]
    },
    {
      "cell_type": "markdown",
      "metadata": {},
      "source": [
        "Add Renamed Columns To First Datasets df"
      ]
    },
    {
      "cell_type": "code",
      "execution_count": 472,
      "metadata": {},
      "outputs": [
        {
          "name": "stdout",
          "output_type": "stream",
          "text": [
            "<class 'pandas.core.frame.DataFrame'>\n",
            "Index: 918 entries, 0 to 1189\n",
            "Data columns (total 14 columns):\n",
            " #   Column               Non-Null Count  Dtype   \n",
            "---  ------               --------------  -----   \n",
            " 0   age                  918 non-null    int64   \n",
            " 1   sex                  918 non-null    category\n",
            " 2   chest pain type      918 non-null    category\n",
            " 3   resting systolic bp  918 non-null    int64   \n",
            " 4   cholesterol          918 non-null    int64   \n",
            " 5   fasting blood sugar  918 non-null    category\n",
            " 6   resting ECG          918 non-null    category\n",
            " 7   max heart rate       918 non-null    int64   \n",
            " 8   exercise angina      918 non-null    category\n",
            " 9   ST depression        918 non-null    float64 \n",
            " 10  ST slope             918 non-null    category\n",
            " 11  target               918 non-null    category\n",
            " 12  hypertension         898 non-null    float64 \n",
            " 13  family history       898 non-null    float64 \n",
            "dtypes: category(7), float64(3), int64(4)\n",
            "memory usage: 64.7 KB\n"
          ]
        }
      ],
      "source": [
        "# add columns 'hypertension', 'family history' from the second DataFrame to the first DataFrame\n",
        "min_len = min(len(df), len(df2))\n",
        "df.loc[:, 'hypertension'] = np.nan\n",
        "df.loc[:, 'family history'] = np.nan\n",
        "df.iloc[:min_len, df.columns.get_loc('hypertension')] = df2['hypertension'].values[:min_len]\n",
        "df.iloc[:min_len, df.columns.get_loc('family history')] = df2['family history'].values[:min_len]\n",
        "df.info()"
      ]
    },
    {
      "cell_type": "code",
      "execution_count": 473,
      "metadata": {},
      "outputs": [
        {
          "name": "stdout",
          "output_type": "stream",
          "text": [
            "<class 'pandas.core.frame.DataFrame'>\n",
            "Index: 918 entries, 0 to 1189\n",
            "Data columns (total 14 columns):\n",
            " #   Column               Non-Null Count  Dtype   \n",
            "---  ------               --------------  -----   \n",
            " 0   age                  918 non-null    int64   \n",
            " 1   sex                  918 non-null    category\n",
            " 2   chest pain type      918 non-null    category\n",
            " 3   resting systolic bp  918 non-null    int64   \n",
            " 4   cholesterol          918 non-null    int64   \n",
            " 5   fasting blood sugar  918 non-null    category\n",
            " 6   resting ECG          918 non-null    category\n",
            " 7   max heart rate       918 non-null    int64   \n",
            " 8   exercise angina      918 non-null    category\n",
            " 9   ST depression        918 non-null    category\n",
            " 10  ST slope             918 non-null    category\n",
            " 11  target               918 non-null    category\n",
            " 12  hypertension         898 non-null    category\n",
            " 13  family history       898 non-null    category\n",
            "dtypes: category(10), int64(4)\n",
            "memory usage: 48.6 KB\n"
          ]
        }
      ],
      "source": [
        "# convert float to categorical datatypes of newly added columns\n",
        "df['hypertension'] = df['hypertension'].astype('category')\n",
        "df['family history'] = df['family history'].astype('category')\n",
        "df['ST depression'] = df['ST depression'].astype('category')\n",
        "# Display the updated DataFrame with new data types\n",
        "df.info()"
      ]
    },
    {
      "cell_type": "markdown",
      "metadata": {},
      "source": [
        "Check For Missing Values"
      ]
    },
    {
      "cell_type": "code",
      "execution_count": 474,
      "metadata": {},
      "outputs": [
        {
          "data": {
            "application/vnd.microsoft.datawrangler.viewer.v0+json": {
              "columns": [
                {
                  "name": "index",
                  "rawType": "object",
                  "type": "string"
                },
                {
                  "name": "0",
                  "rawType": "int64",
                  "type": "integer"
                }
              ],
              "ref": "24d239f2-4dab-436a-9cfa-0236efdf8d19",
              "rows": [
                [
                  "age",
                  "0"
                ],
                [
                  "sex",
                  "0"
                ],
                [
                  "chest pain type",
                  "0"
                ],
                [
                  "resting systolic bp",
                  "0"
                ],
                [
                  "cholesterol",
                  "0"
                ],
                [
                  "fasting blood sugar",
                  "0"
                ],
                [
                  "resting ECG",
                  "0"
                ],
                [
                  "max heart rate",
                  "0"
                ],
                [
                  "exercise angina",
                  "0"
                ],
                [
                  "ST depression",
                  "0"
                ],
                [
                  "ST slope",
                  "0"
                ],
                [
                  "target",
                  "0"
                ],
                [
                  "hypertension",
                  "20"
                ],
                [
                  "family history",
                  "20"
                ]
              ],
              "shape": {
                "columns": 1,
                "rows": 14
              }
            },
            "text/plain": [
              "age                     0\n",
              "sex                     0\n",
              "chest pain type         0\n",
              "resting systolic bp     0\n",
              "cholesterol             0\n",
              "fasting blood sugar     0\n",
              "resting ECG             0\n",
              "max heart rate          0\n",
              "exercise angina         0\n",
              "ST depression           0\n",
              "ST slope                0\n",
              "target                  0\n",
              "hypertension           20\n",
              "family history         20\n",
              "dtype: int64"
            ]
          },
          "execution_count": 474,
          "metadata": {},
          "output_type": "execute_result"
        }
      ],
      "source": [
        "# check for missing values again\n",
        "df.isnull().sum()"
      ]
    },
    {
      "cell_type": "markdown",
      "metadata": {},
      "source": [
        "Replace Missing Values and Check Again"
      ]
    },
    {
      "cell_type": "code",
      "execution_count": 475,
      "metadata": {},
      "outputs": [],
      "source": [
        "# replace missing values in 'hypertension' and 'family history' with with mode of the respective columns\n",
        "df['hypertension'].fillna(df['hypertension'].mode()[0], inplace=True)\n",
        "df['family history'].fillna(df['family history'].mode()[0], inplace=True)"
      ]
    },
    {
      "cell_type": "code",
      "execution_count": 439,
      "metadata": {},
      "outputs": [
        {
          "data": {
            "application/vnd.microsoft.datawrangler.viewer.v0+json": {
              "columns": [
                {
                  "name": "index",
                  "rawType": "object",
                  "type": "string"
                },
                {
                  "name": "0",
                  "rawType": "int64",
                  "type": "integer"
                }
              ],
              "ref": "7e052c5d-067d-4196-9c7a-0f0eeba67cbe",
              "rows": [
                [
                  "age",
                  "0"
                ],
                [
                  "sex",
                  "0"
                ],
                [
                  "chest pain type",
                  "0"
                ],
                [
                  "resting bp s",
                  "0"
                ],
                [
                  "cholesterol",
                  "0"
                ],
                [
                  "fasting blood sugar",
                  "0"
                ],
                [
                  "resting ecg",
                  "0"
                ],
                [
                  "max heart rate",
                  "0"
                ],
                [
                  "exercise angina",
                  "0"
                ],
                [
                  "oldpeak",
                  "0"
                ],
                [
                  "ST slope",
                  "0"
                ],
                [
                  "target",
                  "0"
                ]
              ],
              "shape": {
                "columns": 1,
                "rows": 12
              }
            },
            "text/plain": [
              "age                    0\n",
              "sex                    0\n",
              "chest pain type        0\n",
              "resting bp s           0\n",
              "cholesterol            0\n",
              "fasting blood sugar    0\n",
              "resting ecg            0\n",
              "max heart rate         0\n",
              "exercise angina        0\n",
              "oldpeak                0\n",
              "ST slope               0\n",
              "target                 0\n",
              "dtype: int64"
            ]
          },
          "execution_count": 439,
          "metadata": {},
          "output_type": "execute_result"
        }
      ],
      "source": [
        "# check missing values again\n",
        "df.isnull().sum()"
      ]
    },
    {
      "cell_type": "markdown",
      "metadata": {},
      "source": [
        "Convert Newly Added Columns To Categorical DataTypes"
      ]
    },
    {
      "cell_type": "code",
      "execution_count": 476,
      "metadata": {},
      "outputs": [
        {
          "name": "stdout",
          "output_type": "stream",
          "text": [
            "<class 'pandas.core.frame.DataFrame'>\n",
            "Index: 918 entries, 0 to 1189\n",
            "Data columns (total 14 columns):\n",
            " #   Column               Non-Null Count  Dtype   \n",
            "---  ------               --------------  -----   \n",
            " 0   age                  918 non-null    int64   \n",
            " 1   sex                  918 non-null    category\n",
            " 2   chest pain type      918 non-null    category\n",
            " 3   resting systolic bp  918 non-null    int64   \n",
            " 4   cholesterol          918 non-null    int64   \n",
            " 5   fasting blood sugar  918 non-null    category\n",
            " 6   resting ECG          918 non-null    category\n",
            " 7   max heart rate       918 non-null    int64   \n",
            " 8   exercise angina      918 non-null    category\n",
            " 9   ST depression        918 non-null    category\n",
            " 10  ST slope             918 non-null    category\n",
            " 11  target               918 non-null    category\n",
            " 12  hypertension         918 non-null    category\n",
            " 13  family history       918 non-null    category\n",
            "dtypes: category(10), int64(4)\n",
            "memory usage: 48.6 KB\n"
          ]
        }
      ],
      "source": [
        "# convert float to categorical datatypes of newly added columns\n",
        "df['hypertension'] = df['hypertension'].astype('category')\n",
        "df['family history'] = df['family history'].astype('category')\n",
        "# Display the updated DataFrame with new data types\n",
        "df.info()"
      ]
    },
    {
      "cell_type": "code",
      "execution_count": 477,
      "metadata": {},
      "outputs": [
        {
          "data": {
            "text/plain": [
              "(906, 14)"
            ]
          },
          "execution_count": 477,
          "metadata": {},
          "output_type": "execute_result"
        }
      ],
      "source": [
        "# remove outliers from the DataFrame\n",
        "from scipy import stats\n",
        "df = df[(np.abs(stats.zscore(df.select_dtypes(include=[np.number]))) < 3).all(axis=1)]\n",
        "# Display the shape of the DataFrame after removing outliers\n",
        "df.shape"
      ]
    },
    {
      "cell_type": "markdown",
      "metadata": {},
      "source": [
        "#### HYPOTHESIS TESTING"
      ]
    },
    {
      "cell_type": "markdown",
      "metadata": {},
      "source": [
        "1. There is a significant difference in cholesterol levels between people with and without heart disease"
      ]
    },
    {
      "cell_type": "code",
      "execution_count": null,
      "metadata": {},
      "outputs": [
        {
          "name": "stdout",
          "output_type": "stream",
          "text": [
            "T-test: Cholesterol Levels\n",
            "T-statistic: -7.727771787567286\n",
            "P-value: 3.174546863834635e-14\n",
            "There is a significant difference in cholesterol levels between people with and without heart disease.\n"
          ]
        }
      ],
      "source": [
        "# Is cholesterol significantly different in people with and without a heart disease?\n",
        "from scipy.stats import ttest_ind\n",
        "# Perform t-test on 'cholesterol' for target groups\n",
        "cholesterol_with_disease = df[df['target'] == 1]['cholesterol']\n",
        "cholesterol_without_disease = df[df['target'] == 0]['cholesterol']\n",
        "t_stat, p_value = ttest_ind(cholesterol_with_disease, cholesterol_without_disease, equal_var=False)\n",
        "print(\"T-test: Cholesterol Levels\")\n",
        "print(\"T-statistic:\", t_stat)\n",
        "print(\"P-value:\", p_value)\n",
        "if p_value < 0.05:\n",
        "    print(\"There is a significant difference in cholesterol levels between people with and without heart disease.\")\n",
        "else:\n",
        "    print(\"There is no significant difference in cholesterol levels between people with and without heart disease.\")"
      ]
    },
    {
      "cell_type": "markdown",
      "metadata": {},
      "source": [
        "2. There is no significant association of sex with heart disease"
      ]
    },
    {
      "cell_type": "code",
      "execution_count": null,
      "metadata": {},
      "outputs": [
        {
          "name": "stdout",
          "output_type": "stream",
          "text": [
            "\n",
            "Chi-squared Statistic: Gender vs Heart Disease: \n",
            "Chi2 Stat: 84.18372566467507\n",
            "p-value: 4.508667978485148e-20\n",
            "There is a significant association of sex with heart disease.\n"
          ]
        }
      ],
      "source": [
        "# Is there an association between sex and heart disease?\n",
        "from scipy.stats import chi2_contingency\n",
        "# Perform Chi-squared test for independence\n",
        "contingency_table = pd.crosstab(df['sex'], df['target'])\n",
        "chi2_stat, p_value, dof, expected = chi2_contingency(contingency_table)\n",
        "print(\"\\nChi-squared Statistic: Gender vs Heart Disease: \")\n",
        "print(\"Chi2 Stat:\", chi2_stat)\n",
        "print(\"p-value:\", p_value)\n",
        "if p_value < 0.05:\n",
        "    print(\"There is a significant association of sex with heart disease.\")\n",
        "else:\n",
        "    print(\"There is no significant association of sex with heart disease.\")\n"
      ]
    },
    {
      "cell_type": "markdown",
      "metadata": {},
      "source": [
        "3. There is a significant difference in cholesterol levels across different chest pain types"
      ]
    },
    {
      "cell_type": "code",
      "execution_count": null,
      "metadata": {},
      "outputs": [
        {
          "name": "stdout",
          "output_type": "stream",
          "text": [
            "\n",
            "ANOVA Test: Cholesterol Levels Across Chest Pain Types\n",
            "F-statistic: 8.552100411929658\n",
            "P-value: 1.3285411486290753e-05\n",
            "There is a significant difference in cholesterol levels across different chest pain types.\n"
          ]
        }
      ],
      "source": [
        "# Does cholesterol vary across different pain types?\n",
        "from scipy.stats import f_oneway\n",
        "# Perform ANOVA test for 'cholesterol' across different 'chest pain type'\n",
        "pain_types = df['chest pain type'].unique()\n",
        "cholesterol_groups = [df[df['chest pain type'] == pain_type]['cholesterol'] for pain_type in pain_types]\n",
        "f_stat, p_value = f_oneway(*cholesterol_groups)\n",
        "print(\"\\nANOVA Test: Cholesterol Levels Across Chest Pain Types\")\n",
        "print(\"F-statistic:\", f_stat)\n",
        "print(\"P-value:\", p_value)\n",
        "if p_value < 0.05:\n",
        "    print(\"There is a significant difference in cholesterol levels across different chest pain types.\")\n",
        "else:\n",
        "    print(\"There is no significant difference in cholesterol levels across different chest pain types.\")"
      ]
    },
    {
      "cell_type": "markdown",
      "metadata": {},
      "source": [
        "4. There is a linear correlation between Age and Cholesterol Levels"
      ]
    },
    {
      "cell_type": "code",
      "execution_count": 493,
      "metadata": {},
      "outputs": [
        {
          "name": "stdout",
          "output_type": "stream",
          "text": [
            "\n",
            "Pearson Correlation: Age vs Cholesterol Levels\n",
            "Correlation Coefficient: -0.09310176226188559\n",
            "P-value: 0.005038340031366818\n",
            "There is a significant linear correlation between Age and Cholesterol Levels.\n"
          ]
        }
      ],
      "source": [
        "# Is there a linear correlation between Age and Cholesterol Levels?\n",
        "from scipy.stats import pearsonr\n",
        "# Calculate Pearson correlation coefficient\n",
        "corr, p_value = pearsonr(df['age'], df['cholesterol'])\n",
        "print(\"\\nPearson Correlation: Age vs Cholesterol Levels\")\n",
        "print(\"Correlation Coefficient:\", corr)\n",
        "print(\"P-value:\", p_value)\n",
        "if p_value < 0.05:\n",
        "    print(\"There is a significant linear correlation between Age and Cholesterol Levels.\")\n",
        "else:\n",
        "    print(\"There is no significant linear correlation between Age and Cholesterol Levels.\")"
      ]
    },
    {
      "cell_type": "markdown",
      "metadata": {},
      "source": [
        "CONCLUSION\n",
        "1. There is a significant difference in cholesterol levels between people with and without heart disease #PASS\n",
        "2. There is a significant association of sex with heart disease. #FAIL\n",
        "3. There is a significant difference in cholesterol levels across different chest pain types. #PASS\n",
        "4. There is a significant linear correlation between Age and Cholesterol Levels. #PASS"
      ]
    },
    {
      "cell_type": "markdown",
      "metadata": {},
      "source": [
        "8. DATA VISUALISATION"
      ]
    },
    {
      "cell_type": "code",
      "execution_count": null,
      "metadata": {},
      "outputs": [
        {
          "data": {
            "image/png": "[encoded data removed]",
            "text/plain": [
              "<Figure size 1000x600 with 1 Axes>"
            ]
          },
          "metadata": {},
          "output_type": "display_data"
        }
      ],
      "source": [
        "# Linear correlation between Age and Cholesterol Levels?\n",
        "plt.figure(figsize=(10, 6))\n",
        "sns.scatterplot(data=df, x='age', y='cholesterol', hue='target', style='target', palette='Set1')\n",
        "plt.title('Age vs Cholesterol Levels')\n",
        "plt.xlabel('Age')\n",
        "plt.ylabel('Cholesterol Levels')\n",
        "plt.show()"
      ]
    },
    {
      "cell_type": "code",
      "execution_count": 496,
      "metadata": {},
      "outputs": [
        {
          "data": {
            "image/png": "[encoded data removed]",
            "text/plain": [
              "<Figure size 1000x600 with 1 Axes>"
            ]
          },
          "metadata": {},
          "output_type": "display_data"
        }
      ],
      "source": [
        "# Boxplot: Cholesterol Levels vs Target\n",
        "plt.figure(figsize=(10, 6))\n",
        "sns.boxplot(data=df, x='target', y='cholesterol', palette='Set1')\n",
        "plt.title('Cholesterol Levels by Heart Disease Status')\n",
        "plt.xlabel('Heart Disease Status (0: No, 1: Yes)')\n",
        "plt.ylabel('Cholesterol Levels')\n",
        "plt.show()"
      ]
    },
    {
      "cell_type": "code",
      "execution_count": 505,
      "metadata": {},
      "outputs": [
        {
          "data": {
            "image/png": "[encoded data removed]",
            "text/plain": [
              "<Figure size 1000x600 with 1 Axes>"
            ]
          },
          "metadata": {},
          "output_type": "display_data"
        }
      ],
      "source": [
        "# visualisation of chestpain types vs target variable (heart disease)\n",
        "plt.figure(figsize=(10, 6))\n",
        "sns.countplot(data=df, x='chest pain type', hue='target', palette='Set1')\n",
        "plt.title('Chest Pain Types vs Heart Disease Status')\n",
        "plt.xlabel('Chest Pain Type')\n",
        "plt.ylabel('Count')\n",
        "plt.show()"
      ]
    },
    {
      "cell_type": "markdown",
      "metadata": {},
      "source": [
        "9. LOGISTIC REGRESSION FOR HEART DISEASE PREDICTION"
      ]
    },
    {
      "cell_type": "code",
      "execution_count": 513,
      "metadata": {},
      "outputs": [],
      "source": [
        "# Required imports\n",
        "from sklearn.preprocessing import LabelEncoder, StandardScaler\n",
        "from sklearn.model_selection import train_test_split\n",
        "from sklearn.metrics import accuracy_score, confusion_matrix\n",
        "import matplotlib.pyplot as plt\n",
        "import seaborn as sns\n"
      ]
    },
    {
      "cell_type": "code",
      "execution_count": 514,
      "metadata": {},
      "outputs": [],
      "source": [
        "# select features and target variable\n",
        "# update this list based on datasets\n",
        "features = [\n",
        "    'age', 'sex', 'chest pain type', 'resting systolic bp',\n",
        "    'cholesterol', 'fasting blood sugar',\n",
        "    'resting ECG', 'exercise angina', 'ST depression', 'ST slope',\n",
        "    'hypertension', 'family history'\n",
        "]"
      ]
    },
    {
      "cell_type": "code",
      "execution_count": 515,
      "metadata": {},
      "outputs": [],
      "source": [
        "# Drop rows with missing values in the selected features\n",
        "df = df[features + ['target']].dropna()\n",
        "# Split the dataset into features and target variable\n",
        "X = df[features]\n",
        "y = df['target']"
      ]
    },
    {
      "cell_type": "code",
      "execution_count": 516,
      "metadata": {},
      "outputs": [],
      "source": [
        "# Encode categorical variables\n",
        "le = LabelEncoder()\n",
        "for col in X.select_dtypes(include=['category']).columns:\n",
        "    X[col] = le.fit_transform(X[col])"
      ]
    },
    {
      "cell_type": "code",
      "execution_count": 517,
      "metadata": {},
      "outputs": [],
      "source": [
        "# Split the dataset into training and testing sets\n",
        "X_train, X_test, y_train, y_test = train_test_split(X, y, test_size=0.2, random_state=42)\n"
      ]
    },
    {
      "cell_type": "code",
      "execution_count": 518,
      "metadata": {},
      "outputs": [],
      "source": [
        "# Standardize the features\n",
        "scaler = StandardScaler()\n",
        "X_train = scaler.fit_transform(X_train)\n",
        "X_test = scaler.transform(X_test)"
      ]
    },
    {
      "cell_type": "code",
      "execution_count": 519,
      "metadata": {},
      "outputs": [
        {
          "data": {
            "text/html": [
              "<style>#sk-container-id-1 {color: black;}#sk-container-id-1 pre{padding: 0;}#sk-container-id-1 div.sk-toggleable {background-color: white;}#sk-container-id-1 label.sk-toggleable__label {cursor: pointer;display: block;width: 100%;margin-bottom: 0;padding: 0.3em;box-sizing: border-box;text-align: center;}#sk-container-id-1 label.sk-toggleable__label-arrow:before {content: \"▸\";float: left;margin-right: 0.25em;color: #696969;}#sk-container-id-1 label.sk-toggleable__label-arrow:hover:before {color: black;}#sk-container-id-1 div.sk-estimator:hover label.sk-toggleable__label-arrow:before {color: black;}#sk-container-id-1 div.sk-toggleable__content {max-height: 0;max-width: 0;overflow: hidden;text-align: left;background-color: #f0f8ff;}#sk-container-id-1 div.sk-toggleable__content pre {margin: 0.2em;color: black;border-radius: 0.25em;background-color: #f0f8ff;}#sk-container-id-1 input.sk-toggleable__control:checked~div.sk-toggleable__content {max-height: 200px;max-width: 100%;overflow: auto;}#sk-container-id-1 input.sk-toggleable__control:checked~label.sk-toggleable__label-arrow:before {content: \"▾\";}#sk-container-id-1 div.sk-estimator input.sk-toggleable__control:checked~label.sk-toggleable__label {background-color: #d4ebff;}#sk-container-id-1 div.sk-label input.sk-toggleable__control:checked~label.sk-toggleable__label {background-color: #d4ebff;}#sk-container-id-1 input.sk-hidden--visually {border: 0;clip: rect(1px 1px 1px 1px);clip: rect(1px, 1px, 1px, 1px);height: 1px;margin: -1px;overflow: hidden;padding: 0;position: absolute;width: 1px;}#sk-container-id-1 div.sk-estimator {font-family: monospace;background-color: #f0f8ff;border: 1px dotted black;border-radius: 0.25em;box-sizing: border-box;margin-bottom: 0.5em;}#sk-container-id-1 div.sk-estimator:hover {background-color: #d4ebff;}#sk-container-id-1 div.sk-parallel-item::after {content: \"\";width: 100%;border-bottom: 1px solid gray;flex-grow: 1;}#sk-container-id-1 div.sk-label:hover label.sk-toggleable__label {background-color: #d4ebff;}#sk-container-id-1 div.sk-serial::before {content: \"\";position: absolute;border-left: 1px solid gray;box-sizing: border-box;top: 0;bottom: 0;left: 50%;z-index: 0;}#sk-container-id-1 div.sk-serial {display: flex;flex-direction: column;align-items: center;background-color: white;padding-right: 0.2em;padding-left: 0.2em;position: relative;}#sk-container-id-1 div.sk-item {position: relative;z-index: 1;}#sk-container-id-1 div.sk-parallel {display: flex;align-items: stretch;justify-content: center;background-color: white;position: relative;}#sk-container-id-1 div.sk-item::before, #sk-container-id-1 div.sk-parallel-item::before {content: \"\";position: absolute;border-left: 1px solid gray;box-sizing: border-box;top: 0;bottom: 0;left: 50%;z-index: -1;}#sk-container-id-1 div.sk-parallel-item {display: flex;flex-direction: column;z-index: 1;position: relative;background-color: white;}#sk-container-id-1 div.sk-parallel-item:first-child::after {align-self: flex-end;width: 50%;}#sk-container-id-1 div.sk-parallel-item:last-child::after {align-self: flex-start;width: 50%;}#sk-container-id-1 div.sk-parallel-item:only-child::after {width: 0;}#sk-container-id-1 div.sk-dashed-wrapped {border: 1px dashed gray;margin: 0 0.4em 0.5em 0.4em;box-sizing: border-box;padding-bottom: 0.4em;background-color: white;}#sk-container-id-1 div.sk-label label {font-family: monospace;font-weight: bold;display: inline-block;line-height: 1.2em;}#sk-container-id-1 div.sk-label-container {text-align: center;}#sk-container-id-1 div.sk-container {/* jupyter's `normalize.less` sets `[hidden] { display: none; }` but bootstrap.min.css set `[hidden] { display: none !important; }` so we also need the `!important` here to be able to override the default hidden behavior on the sphinx rendered scikit-learn.org. See: https://github.com/scikit-learn/scikit-learn/issues/21755 */display: inline-block !important;position: relative;}#sk-container-id-1 div.sk-text-repr-fallback {display: none;}</style><div id=\"sk-container-id-1\" class=\"sk-top-container\"><div class=\"sk-text-repr-fallback\"><pre>LogisticRegression(max_iter=1000)</pre><b>In a Jupyter environment, please rerun this cell to show the HTML representation or trust the notebook. <br />On GitHub, the HTML representation is unable to render, please try loading this page with nbviewer.org.</b></div><div class=\"sk-container\" hidden><div class=\"sk-item\"><div class=\"sk-estimator sk-toggleable\"><input class=\"sk-toggleable__control sk-hidden--visually\" id=\"sk-estimator-id-1\" type=\"checkbox\" checked><label for=\"sk-estimator-id-1\" class=\"sk-toggleable__label sk-toggleable__label-arrow\">LogisticRegression</label><div class=\"sk-toggleable__content\"><pre>LogisticRegression(max_iter=1000)</pre></div></div></div></div></div>"
            ],
            "text/plain": [
              "LogisticRegression(max_iter=1000)"
            ]
          },
          "execution_count": 519,
          "metadata": {},
          "output_type": "execute_result"
        }
      ],
      "source": [
        "# Train a logistic regression model\n",
        "from sklearn.linear_model import LogisticRegression\n",
        "model = LogisticRegression(max_iter=1000)\n",
        "model.fit(X_train, y_train)\n"
      ]
    },
    {
      "cell_type": "code",
      "execution_count": 522,
      "metadata": {},
      "outputs": [
        {
          "name": "stdout",
          "output_type": "stream",
          "text": [
            "Accuracy of Logistic Regression Model: 85.16%\n"
          ]
        }
      ],
      "source": [
        "# Make predictions on the test set\n",
        "y_pred = model.predict(X_test)\n",
        "\n",
        "# Evaluate the model and display accuracy in percentage\n",
        "accuracy = accuracy_score(y_test, y_pred)\n",
        "print(\"Accuracy of Logistic Regression Model: {:.2f}%\".format(accuracy * 100))"
      ]
    },
    {
      "cell_type": "code",
      "execution_count": 521,
      "metadata": {},
      "outputs": [
        {
          "data": {
            "image/png": "[encoded data removed]",
            "text/plain": [
              "<Figure size 800x600 with 1 Axes>"
            ]
          },
          "metadata": {},
          "output_type": "display_data"
        }
      ],
      "source": [
        "\n",
        "# Display confusion matrix\n",
        "cm = confusion_matrix(y_test, y_pred)\n",
        "plt.figure(figsize=(8, 6))\n",
        "sns.heatmap(cm, annot=True, fmt='d', cmap='Blues', cbar=False,\n",
        "            xticklabels=['No Heart Disease', 'Heart Disease'],\n",
        "            yticklabels=['No Heart Disease', 'Heart Disease'])\n",
        "plt.title('Confusion Matrix')\n",
        "plt.xlabel('Predicted')\n",
        "plt.ylabel('Actual')\n",
        "plt.show()"
      ]
    },
    {
      "cell_type": "markdown",
      "metadata": {},
      "source": [
        "10. RANDOM FOREST FOR HEART DISEASE PREDICTION"
      ]
    },
    {
      "cell_type": "code",
      "execution_count": 524,
      "metadata": {},
      "outputs": [],
      "source": [
        "# Random Forest Classifier for Heart Disease Prediction\n",
        "from sklearn.ensemble import RandomForestClassifier\n",
        "# Initialize the Random Forest Classifier\n",
        "rf_model = RandomForestClassifier(n_estimators=100, random_state=42)"
      ]
    },
    {
      "cell_type": "code",
      "execution_count": null,
      "metadata": {},
      "outputs": [
        {
          "data": {
            "text/html": [
              "<style>#sk-container-id-2 {color: black;}#sk-container-id-2 pre{padding: 0;}#sk-container-id-2 div.sk-toggleable {background-color: white;}#sk-container-id-2 label.sk-toggleable__label {cursor: pointer;display: block;width: 100%;margin-bottom: 0;padding: 0.3em;box-sizing: border-box;text-align: center;}#sk-container-id-2 label.sk-toggleable__label-arrow:before {content: \"▸\";float: left;margin-right: 0.25em;color: #696969;}#sk-container-id-2 label.sk-toggleable__label-arrow:hover:before {color: black;}#sk-container-id-2 div.sk-estimator:hover label.sk-toggleable__label-arrow:before {color: black;}#sk-container-id-2 div.sk-toggleable__content {max-height: 0;max-width: 0;overflow: hidden;text-align: left;background-color: #f0f8ff;}#sk-container-id-2 div.sk-toggleable__content pre {margin: 0.2em;color: black;border-radius: 0.25em;background-color: #f0f8ff;}#sk-container-id-2 input.sk-toggleable__control:checked~div.sk-toggleable__content {max-height: 200px;max-width: 100%;overflow: auto;}#sk-container-id-2 input.sk-toggleable__control:checked~label.sk-toggleable__label-arrow:before {content: \"▾\";}#sk-container-id-2 div.sk-estimator input.sk-toggleable__control:checked~label.sk-toggleable__label {background-color: #d4ebff;}#sk-container-id-2 div.sk-label input.sk-toggleable__control:checked~label.sk-toggleable__label {background-color: #d4ebff;}#sk-container-id-2 input.sk-hidden--visually {border: 0;clip: rect(1px 1px 1px 1px);clip: rect(1px, 1px, 1px, 1px);height: 1px;margin: -1px;overflow: hidden;padding: 0;position: absolute;width: 1px;}#sk-container-id-2 div.sk-estimator {font-family: monospace;background-color: #f0f8ff;border: 1px dotted black;border-radius: 0.25em;box-sizing: border-box;margin-bottom: 0.5em;}#sk-container-id-2 div.sk-estimator:hover {background-color: #d4ebff;}#sk-container-id-2 div.sk-parallel-item::after {content: \"\";width: 100%;border-bottom: 1px solid gray;flex-grow: 1;}#sk-container-id-2 div.sk-label:hover label.sk-toggleable__label {background-color: #d4ebff;}#sk-container-id-2 div.sk-serial::before {content: \"\";position: absolute;border-left: 1px solid gray;box-sizing: border-box;top: 0;bottom: 0;left: 50%;z-index: 0;}#sk-container-id-2 div.sk-serial {display: flex;flex-direction: column;align-items: center;background-color: white;padding-right: 0.2em;padding-left: 0.2em;position: relative;}#sk-container-id-2 div.sk-item {position: relative;z-index: 1;}#sk-container-id-2 div.sk-parallel {display: flex;align-items: stretch;justify-content: center;background-color: white;position: relative;}#sk-container-id-2 div.sk-item::before, #sk-container-id-2 div.sk-parallel-item::before {content: \"\";position: absolute;border-left: 1px solid gray;box-sizing: border-box;top: 0;bottom: 0;left: 50%;z-index: -1;}#sk-container-id-2 div.sk-parallel-item {display: flex;flex-direction: column;z-index: 1;position: relative;background-color: white;}#sk-container-id-2 div.sk-parallel-item:first-child::after {align-self: flex-end;width: 50%;}#sk-container-id-2 div.sk-parallel-item:last-child::after {align-self: flex-start;width: 50%;}#sk-container-id-2 div.sk-parallel-item:only-child::after {width: 0;}#sk-container-id-2 div.sk-dashed-wrapped {border: 1px dashed gray;margin: 0 0.4em 0.5em 0.4em;box-sizing: border-box;padding-bottom: 0.4em;background-color: white;}#sk-container-id-2 div.sk-label label {font-family: monospace;font-weight: bold;display: inline-block;line-height: 1.2em;}#sk-container-id-2 div.sk-label-container {text-align: center;}#sk-container-id-2 div.sk-container {/* jupyter's `normalize.less` sets `[hidden] { display: none; }` but bootstrap.min.css set `[hidden] { display: none !important; }` so we also need the `!important` here to be able to override the default hidden behavior on the sphinx rendered scikit-learn.org. See: https://github.com/scikit-learn/scikit-learn/issues/21755 */display: inline-block !important;position: relative;}#sk-container-id-2 div.sk-text-repr-fallback {display: none;}</style><div id=\"sk-container-id-2\" class=\"sk-top-container\"><div class=\"sk-text-repr-fallback\"><pre>RandomForestClassifier(random_state=42)</pre><b>In a Jupyter environment, please rerun this cell to show the HTML representation or trust the notebook. <br />On GitHub, the HTML representation is unable to render, please try loading this page with nbviewer.org.</b></div><div class=\"sk-container\" hidden><div class=\"sk-item\"><div class=\"sk-estimator sk-toggleable\"><input class=\"sk-toggleable__control sk-hidden--visually\" id=\"sk-estimator-id-2\" type=\"checkbox\" checked><label for=\"sk-estimator-id-2\" class=\"sk-toggleable__label sk-toggleable__label-arrow\">RandomForestClassifier</label><div class=\"sk-toggleable__content\"><pre>RandomForestClassifier(random_state=42)</pre></div></div></div></div></div>"
            ],
            "text/plain": [
              "RandomForestClassifier(random_state=42)"
            ]
          },
          "execution_count": 525,
          "metadata": {},
          "output_type": "execute_result"
        }
      ],
      "source": [
        "# Train the Random Forest model\n",
        "rf_model.fit(X_train, y_train)"
      ]
    },
    {
      "cell_type": "code",
      "execution_count": null,
      "metadata": {},
      "outputs": [],
      "source": [
        "# Make predictions on the test set\n",
        "y_pred_rf = rf_model.predict(X_test)"
      ]
    },
    {
      "cell_type": "code",
      "execution_count": null,
      "metadata": {},
      "outputs": [
        {
          "name": "stdout",
          "output_type": "stream",
          "text": [
            "Accuracy of Random Forest Model: 84.07%\n"
          ]
        }
      ],
      "source": [
        "# Evaluate the model and display accuracy in percentage\n",
        "accuracy_rf = accuracy_score(y_test, y_pred_rf)\n",
        "print(\"Accuracy of Random Forest Model: {:.2f}%\".format(accuracy_rf * 100))"
      ]
    },
    {
      "cell_type": "code",
      "execution_count": null,
      "metadata": {},
      "outputs": [
        {
          "data": {
            "image/png": "[encoded data removed]",
            "text/plain": [
              "<Figure size 800x600 with 1 Axes>"
            ]
          },
          "metadata": {},
          "output_type": "display_data"
        }
      ],
      "source": [
        "# Display confusion matrix for Random Forest model\n",
        "cm_rf = confusion_matrix(y_test, y_pred_rf)\n",
        "plt.figure(figsize=(8, 6))\n",
        "sns.heatmap(cm_rf, annot=True, fmt='d', cmap='Blues', cbar=False,\n",
        "            xticklabels=['No Heart Disease', 'Heart Disease'],\n",
        "            yticklabels=['No Heart Disease', 'Heart Disease'])\n",
        "plt.title('Confusion Matrix - Random Forest')\n",
        "plt.xlabel('Predicted')\n",
        "plt.ylabel('Actual')\n",
        "plt.show()"
      ]
    },
    {
      "cell_type": "code",
      "execution_count": null,
      "metadata": {},
      "outputs": [],
      "source": []
    }
  ],
  "metadata": {
    "accelerator": "GPU",
    "colab": {
      "name": "Data Practitioner Jupyter Notebook.ipynb",
      "provenance": [],
      "toc_visible": true
    },
    "kernelspec": {
      "display_name": "venv",
      "language": "python",
      "name": "python3"
    },
    "language_info": {
      "codemirror_mode": {
        "name": "ipython",
        "version": 3
      },
      "file_extension": ".py",
      "mimetype": "text/x-python",
      "name": "python",
      "nbconvert_exporter": "python",
      "pygments_lexer": "ipython3",
      "version": "3.12.8"
    },
    "orig_nbformat": 2
  },
  "nbformat": 4,
  "nbformat_minor": 2
}
